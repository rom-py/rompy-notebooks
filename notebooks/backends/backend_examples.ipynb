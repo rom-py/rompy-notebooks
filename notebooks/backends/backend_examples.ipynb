{
 "cells": [
  {
   "cell_type": "markdown",
   "metadata": {},
   "source": [
    "# Backend System Examples\n",
    "\n",
    "This notebook demonstrates the usage of rompy's backend system for running models, processing outputs, and orchestrating complete workflows.\n",
    "\n",
    "The backend system provides three types of components:\n",
    "- **Run Backends**: Execute models in different environments\n",
    "- **Postprocessors**: Process model outputs after execution\n",
    "- **Pipeline Backends**: Orchestrate complete workflows"
   ]
  },
  {
   "cell_type": "code",
   "execution_count": 14,
   "metadata": {},
   "outputs": [],
   "source": [
    "from datetime import datetime\n",
    "from pathlib import Path\n",
    "import tempfile\n",
    "\n",
    "from rompy.model import ModelRun\n",
    "from rompy.core.config import BaseConfig\n",
    "from rompy.core.time import TimeRange\n",
    "from rompy.logging import get_logger\n",
    "\n",
    "# Configure logging to see backend activity\n",
    "logger = get_logger(__name__)"
   ]
  },
  {
   "cell_type": "markdown",
   "metadata": {},
   "source": [
    "## Setup: Create a Basic Model Run\n",
    "\n",
    "First, let's create a basic model run that we can use to demonstrate the different backends."
   ]
  },
  {
   "cell_type": "code",
   "execution_count": 15,
   "metadata": {},
   "outputs": [
    {
     "name": "stdout",
     "output_type": "stream",
     "text": [
      "Output directory: /tmp/rompy_backend_demo_v01nrn0z\n",
      "Model run created: backend_demo\n",
      "Period: 2023-01-01 00:00:00 to 2023-01-01 06:00:00\n"
     ]
    }
   ],
   "source": [
    "# Create a temporary directory for outputs\n",
    "output_dir = tempfile.mkdtemp(prefix=\"rompy_backend_demo_\")\n",
    "print(f\"Output directory: {output_dir}\")\n",
    "\n",
    "# Create a model run\n",
    "model = ModelRun(\n",
    "    run_id=\"backend_demo\",\n",
    "    period=TimeRange(\n",
    "        start=datetime(2023, 1, 1, 0),\n",
    "        end=datetime(2023, 1, 1, 6),\n",
    "        interval=\"1H\"\n",
    "    ),\n",
    "    output_dir=output_dir,\n",
    "    config=BaseConfig(arg1=\"demo\", arg2=\"backend_test\"),\n",
    "    delete_existing=True\n",
    ")\n",
    "\n",
    "print(f\"Model run created: {model.run_id}\")\n",
    "print(f\"Period: {model.period.start} to {model.period.end}\")"
   ]
  },
  {
   "cell_type": "markdown",
   "metadata": {},
   "source": [
    "## Discovering Available Backends\n",
    "\n",
    "Let's see what backends are available in the current environment."
   ]
  },
  {
   "cell_type": "code",
   "execution_count": 16,
   "metadata": {},
   "outputs": [
    {
     "name": "stdout",
     "output_type": "stream",
     "text": [
      "Available Run Backends:\n",
      "  - docker: DockerRunBackend\n",
      "  - local: LocalRunBackend\n",
      "\n",
      "Available Postprocessors:\n",
      "  - noop: NoopPostprocessor\n",
      "\n",
      "Available Pipeline Backends:\n",
      "  - local: LocalPipelineBackend\n"
     ]
    }
   ],
   "source": [
    "from rompy.model import RUN_BACKENDS, POSTPROCESSORS, PIPELINE_BACKENDS\n",
    "\n",
    "print(\"Available Run Backends:\")\n",
    "for name, backend_class in RUN_BACKENDS.items():\n",
    "    print(f\"  - {name}: {backend_class.__name__}\")\n",
    "\n",
    "print(\"\\nAvailable Postprocessors:\")\n",
    "for name, processor_class in POSTPROCESSORS.items():\n",
    "    print(f\"  - {name}: {processor_class.__name__}\")\n",
    "\n",
    "print(\"\\nAvailable Pipeline Backends:\")\n",
    "for name, pipeline_class in PIPELINE_BACKENDS.items():\n",
    "    print(f\"  - {name}: {pipeline_class.__name__}\")"
   ]
  },
  {
   "cell_type": "markdown",
   "metadata": {},
   "source": [
    "## Run Backends\n",
    "\n",
    "Run backends execute the model in different environments. Let's demonstrate the available backends."
   ]
  },
  {
   "cell_type": "markdown",
   "metadata": {},
   "source": [
    "### Local Backend\n",
    "\n",
    "The local backend runs the model directly on the current system."
   ]
  },
  {
   "cell_type": "code",
   "execution_count": 17,
   "metadata": {},
   "outputs": [
    {
     "name": "stderr",
     "output_type": "stream",
     "text": [
      "2025-08-25 22:37:23 [INFO] rompy.run           : Starting local execution for run_id: backend_demo\n",
      "2025-08-25 22:37:23 [WARNING] rompy.run           : ! No workspace_dir provided, generating files (this may cause double generation in pipeline)\n"
     ]
    },
    {
     "name": "stderr",
     "output_type": "stream",
     "text": [
      "2025-08-25 22:37:23 [INFO] rompy.model         : ┏━━━━━━━━━━━━━━━━━━━━━━━━━━━━━━━━━━━━━━━━━━━━━━━━━━━━━━━━━━━━━━━━━━━━┓\n",
      "2025-08-25 22:37:23 [INFO] rompy.model         : ┃                      MODEL RUN CONFIGURATION                       ┃\n",
      "2025-08-25 22:37:23 [INFO] rompy.model         : ┗━━━━━━━━━━━━━━━━━━━━━━━━━━━━━━━━━━━━━━━━━━━━━━━━━━━━━━━━━━━━━━━━━━━━┛\n",
      "2025-08-25 22:37:23 [INFO] rompy.model         :             Run ID : backend_demo\n",
      "2025-08-25 22:37:23 [INFO] rompy.model         :         Model Type : BaseConfig\n",
      "2025-08-25 22:37:23 [INFO] rompy.model         :         Start Time : 2023-01-01T00:00:00\n",
      "2025-08-25 22:37:23 [INFO] rompy.model         :           End Time : 2023-01-01T06:00:00\n",
      "2025-08-25 22:37:23 [INFO] rompy.model         :           Duration : 6 hours\n",
      "2025-08-25 22:37:23 [INFO] rompy.model         :      Time Interval : 1:00:00\n",
      "2025-08-25 22:37:23 [INFO] rompy.model         :   Output Directory : /tmp/rompy_backend_demo_v01nrn0z\n",
      "2025-08-25 22:37:23 [INFO] rompy.model         : ┏━━━━━━━━━━━━━━━━━━━━━━━━━━━━━━━━━━━━━━━━━━━━━━━━━━━━━━━━━━━━━━━━━━━━┓\n",
      "2025-08-25 22:37:23 [INFO] rompy.model         : ┗━━━━━━━━━━━━━━━━━━━━━━━━━━━━━━━━━━━━━━━━━━━━━━━━━━━━━━━━━━━━━━━━━━━━┛\n",
      "2025-08-25 22:37:23 [INFO] rompy.model         : \n",
      "2025-08-25 22:37:23 [INFO] root                : ┏━━━━━━━━━━━━━━━━━━━━━━━━━━━━━━━━━━━━━━━━━━━━━━━━━━━━━━━━━━━━━━━━━━━━┓\n",
      "2025-08-25 22:37:23 [INFO] root                : ┃                  MODEL CONFIGURATION (BaseConfig)                  ┃\n",
      "2025-08-25 22:37:23 [INFO] root                : ┗━━━━━━━━━━━━━━━━━━━━━━━━━━━━━━━━━━━━━━━━━━━━━━━━━━━━━━━━━━━━━━━━━━━━┛\n",
      "2025-08-25 22:37:23 [INFO] root                : \n",
      "2025-08-25 22:37:23 [INFO] rompy.model         : BaseConfig:\n",
      "2025-08-25 22:37:23 [INFO] rompy.model         :   model_type: base\n",
      "2025-08-25 22:37:23 [INFO] rompy.model         :   template: /home/tdurrant/source/rompy/rompy/rompy/templates/base\n",
      "2025-08-25 22:37:23 [INFO] rompy.model         :   checkout: main\n",
      "2025-08-25 22:37:23 [INFO] rompy.model         :   arg1: demo\n",
      "2025-08-25 22:37:23 [INFO] rompy.model         :   arg2: backend_test\n",
      "2025-08-25 22:37:23 [INFO] rompy.model         : \n",
      "2025-08-25 22:37:23 [INFO] rompy.model         : ┏━━━━━━━━━━━━━━━━━━━━━━━━━━━━━━━━━━━━━━━━━━━━━━━━━━━━━━━━━━━━━━━━━━━━┓\n",
      "2025-08-25 22:37:23 [INFO] rompy.model         : ┃                     STARTING MODEL GENERATION                      ┃\n",
      "2025-08-25 22:37:23 [INFO] rompy.model         : ┗━━━━━━━━━━━━━━━━━━━━━━━━━━━━━━━━━━━━━━━━━━━━━━━━━━━━━━━━━━━━━━━━━━━━┛\n",
      "2025-08-25 22:37:23 [INFO] rompy.model         : Preparing input files in /tmp/rompy_backend_demo_v01nrn0z\n",
      "2025-08-25 22:37:23 [INFO] rompy.model         : Processing model configuration...\n",
      "2025-08-25 22:37:23 [INFO] rompy.model         : Running configuration callable...\n",
      "2025-08-25 22:37:23 [INFO] rompy.model         : Rendering model templates to /tmp/rompy_backend_demo_v01nrn0z/backend_demo...\n",
      "2025-08-25 22:37:23 [INFO] rompy.core.render   : Template source: /home/tdurrant/source/rompy/rompy/rompy/templates/base\n",
      "2025-08-25 22:37:23 [INFO] rompy.core.render   : Output directory: /tmp/rompy_backend_demo_v01nrn0z\n",
      "2025-08-25 22:37:23 [INFO] rompy.core.render   : Using template version: main\n",
      "2025-08-25 22:37:23 [INFO] rompy.core.render   :   • Locating template repository...\n",
      "2025-08-25 22:37:23 [INFO] rompy.core.render   : Template repository located at: /home/tdurrant/source/rompy/rompy/rompy/templates/base\n",
      "2025-08-25 22:37:23 [INFO] rompy.core.render   :   • Generating files from template...\n",
      "2025-08-25 22:37:23 [INFO] rompy.core.render   :   • Rendering time:      0.01 seconds\n",
      "2025-08-25 22:37:23 [INFO] rompy.core.render   :   • Total process time:  0.01 seconds\n",
      "2025-08-25 22:37:23 [INFO] rompy.core.render   :   • Files created:       3\n",
      "2025-08-25 22:37:23 [INFO] rompy.core.render   :   • Output location:     /tmp/rompy_backend_demo_v01nrn0z/backend_demo\n",
      "2025-08-25 22:37:23 [INFO] rompy.model         : \n",
      "2025-08-25 22:37:23 [INFO] rompy.model         : ┏━━━━━━━━━━━━━━━━━━━━━━━━━━━━━━━━━━━━━━━━━━━━━━━━━━━━━━━━━━━━━━━━━━━━┓\n",
      "2025-08-25 22:37:23 [INFO] rompy.model         : ┃                     MODEL GENERATION COMPLETE                      ┃\n",
      "2025-08-25 22:37:23 [INFO] rompy.model         : ┗━━━━━━━━━━━━━━━━━━━━━━━━━━━━━━━━━━━━━━━━━━━━━━━━━━━━━━━━━━━━━━━━━━━━┛\n",
      "2025-08-25 22:37:23 [INFO] rompy.model         : Model files generated at: /tmp/rompy_backend_demo_v01nrn0z/backend_demo\n",
      "2025-08-25 22:37:23 [INFO] rompy.run           : Model inputs generated in: /tmp/rompy_backend_demo_v01nrn0z/backend_demo\n",
      "2025-08-25 22:37:23 [INFO] rompy.run           : Executing command: echo 'Hello from local backend'\n",
      "2025-08-25 22:37:23 [INFO] rompy.run           : Command stdout:\n",
      "Hello from local backend\n",
      "\n",
      "2025-08-25 22:37:23 [INFO] rompy.run           : Local execution completed successfully for run_id: backend_demo\n"
     ]
    },
    {
     "name": "stdout",
     "output_type": "stream",
     "text": [
      "Running with local backend...\n",
      "Run successful: True\n",
      "\n",
      "Files created: 5\n",
      "  - INPUT\n",
      "  - outputs\n",
      "  - datasets\n",
      "  - outputs/readme.md\n",
      "  - datasets/readme.md\n"
     ]
    }
   ],
   "source": [
    "from rompy.backends.config import LocalConfig\n",
    "\n",
    "# Run with local backend\n",
    "print(\"Running with local backend...\")\n",
    "local_config = LocalConfig(\n",
    "    command=\"echo 'Hello from local backend'\",  # Replace with your actual command\n",
    "    timeout=3600  # Optional: timeout in seconds\n",
    ")\n",
    "success = model.run(backend=local_config)\n",
    "\n",
    "print(f\"Run successful: {success}\")\n",
    "\n",
    "# Check what files were created\n",
    "output_path = Path(output_dir) / model.run_id\n",
    "if output_path.exists():\n",
    "    files = list(output_path.rglob(\"*\"))\n",
    "    print(f\"\\nFiles created: {len(files)}\")\n",
    "    for file in files[:5]:  # Show first 5 files\n",
    "        print(f\"  - {file.relative_to(output_path)}\")\n",
    "    if len(files) > 5:\n",
    "        print(f\"  ... and {len(files) - 5} more\")"
   ]
  },
  {
   "cell_type": "markdown",
   "metadata": {},
   "source": [
    "### Docker Backend (if available)\n",
    "\n",
    "The Docker backend runs the model inside a Docker container. This requires Docker to be installed and running."
   ]
  },
  {
   "cell_type": "code",
   "execution_count": 18,
   "metadata": {},
   "outputs": [
    {
     "name": "stderr",
     "output_type": "stream",
     "text": [
      "2025-08-25 22:37:23 [WARNING] rompy.run.docker    : ! No workspace_dir provided, generating files (this may cause double generation in pipeline)\n",
      "2025-08-25 22:37:23 [INFO] rompy.model         : ┏━━━━━━━━━━━━━━━━━━━━━━━━━━━━━━━━━━━━━━━━━━━━━━━━━━━━━━━━━━━━━━━━━━━━┓\n",
      "2025-08-25 22:37:23 [INFO] rompy.model         : ┃                      MODEL RUN CONFIGURATION                       ┃\n",
      "2025-08-25 22:37:23 [INFO] rompy.model         : ┗━━━━━━━━━━━━━━━━━━━━━━━━━━━━━━━━━━━━━━━━━━━━━━━━━━━━━━━━━━━━━━━━━━━━┛\n",
      "2025-08-25 22:37:23 [INFO] rompy.model         :             Run ID : backend_demo\n",
      "2025-08-25 22:37:23 [INFO] rompy.model         :         Model Type : BaseConfig\n",
      "2025-08-25 22:37:23 [INFO] rompy.model         :         Start Time : 2023-01-01T00:00:00\n",
      "2025-08-25 22:37:23 [INFO] rompy.model         :           End Time : 2023-01-01T06:00:00\n",
      "2025-08-25 22:37:23 [INFO] rompy.model         :           Duration : 6 hours\n",
      "2025-08-25 22:37:23 [INFO] rompy.model         :      Time Interval : 1:00:00\n",
      "2025-08-25 22:37:23 [INFO] rompy.model         :   Output Directory : /tmp/rompy_backend_demo_v01nrn0z\n",
      "2025-08-25 22:37:23 [INFO] rompy.model         : ┏━━━━━━━━━━━━━━━━━━━━━━━━━━━━━━━━━━━━━━━━━━━━━━━━━━━━━━━━━━━━━━━━━━━━┓\n",
      "2025-08-25 22:37:23 [INFO] rompy.model         : ┗━━━━━━━━━━━━━━━━━━━━━━━━━━━━━━━━━━━━━━━━━━━━━━━━━━━━━━━━━━━━━━━━━━━━┛\n",
      "2025-08-25 22:37:23 [INFO] rompy.model         : \n",
      "2025-08-25 22:37:23 [INFO] root                : ┏━━━━━━━━━━━━━━━━━━━━━━━━━━━━━━━━━━━━━━━━━━━━━━━━━━━━━━━━━━━━━━━━━━━━┓\n",
      "2025-08-25 22:37:23 [INFO] root                : ┃                  MODEL CONFIGURATION (BaseConfig)                  ┃\n",
      "2025-08-25 22:37:23 [INFO] root                : ┗━━━━━━━━━━━━━━━━━━━━━━━━━━━━━━━━━━━━━━━━━━━━━━━━━━━━━━━━━━━━━━━━━━━━┛\n",
      "2025-08-25 22:37:23 [INFO] root                : \n",
      "2025-08-25 22:37:23 [INFO] rompy.model         : BaseConfig:\n",
      "2025-08-25 22:37:23 [INFO] rompy.model         :   model_type: base\n",
      "2025-08-25 22:37:23 [INFO] rompy.model         :   template: /home/tdurrant/source/rompy/rompy/rompy/templates/base\n",
      "2025-08-25 22:37:23 [INFO] rompy.model         :   checkout: main\n",
      "2025-08-25 22:37:23 [INFO] rompy.model         :   arg1: demo\n",
      "2025-08-25 22:37:23 [INFO] rompy.model         :   arg2: backend_test\n",
      "2025-08-25 22:37:23 [INFO] rompy.model         : \n",
      "2025-08-25 22:37:23 [INFO] rompy.model         : ┏━━━━━━━━━━━━━━━━━━━━━━━━━━━━━━━━━━━━━━━━━━━━━━━━━━━━━━━━━━━━━━━━━━━━┓\n",
      "2025-08-25 22:37:23 [INFO] rompy.model         : ┃                     STARTING MODEL GENERATION                      ┃\n",
      "2025-08-25 22:37:23 [INFO] rompy.model         : ┗━━━━━━━━━━━━━━━━━━━━━━━━━━━━━━━━━━━━━━━━━━━━━━━━━━━━━━━━━━━━━━━━━━━━┛\n",
      "2025-08-25 22:37:23 [INFO] rompy.model         : Preparing input files in /tmp/rompy_backend_demo_v01nrn0z\n",
      "2025-08-25 22:37:23 [INFO] rompy.model         : Processing model configuration...\n",
      "2025-08-25 22:37:23 [INFO] rompy.model         : Running configuration callable...\n",
      "2025-08-25 22:37:23 [INFO] rompy.model         : Rendering model templates to /tmp/rompy_backend_demo_v01nrn0z/backend_demo...\n",
      "2025-08-25 22:37:23 [INFO] rompy.core.render   : Template source: /home/tdurrant/source/rompy/rompy/rompy/templates/base\n",
      "2025-08-25 22:37:23 [INFO] rompy.core.render   : Output directory: /tmp/rompy_backend_demo_v01nrn0z\n",
      "2025-08-25 22:37:23 [INFO] rompy.core.render   : Using template version: main\n",
      "2025-08-25 22:37:23 [INFO] rompy.core.render   :   • Locating template repository...\n",
      "2025-08-25 22:37:23 [INFO] rompy.core.render   : Template repository located at: /home/tdurrant/source/rompy/rompy/rompy/templates/base\n",
      "2025-08-25 22:37:23 [INFO] rompy.core.render   :   • Generating files from template...\n",
      "2025-08-25 22:37:23 [INFO] rompy.core.render   :   • Rendering time:      0.01 seconds\n",
      "2025-08-25 22:37:23 [INFO] rompy.core.render   :   • Total process time:  0.01 seconds\n",
      "2025-08-25 22:37:23 [INFO] rompy.core.render   :   • Files created:       3\n",
      "2025-08-25 22:37:23 [INFO] rompy.core.render   :   • Output location:     /tmp/rompy_backend_demo_v01nrn0z/backend_demo\n",
      "2025-08-25 22:37:23 [INFO] rompy.model         : \n",
      "2025-08-25 22:37:23 [INFO] rompy.model         : ┏━━━━━━━━━━━━━━━━━━━━━━━━━━━━━━━━━━━━━━━━━━━━━━━━━━━━━━━━━━━━━━━━━━━━┓\n",
      "2025-08-25 22:37:23 [INFO] rompy.model         : ┃                     MODEL GENERATION COMPLETE                      ┃\n",
      "2025-08-25 22:37:23 [INFO] rompy.model         : ┗━━━━━━━━━━━━━━━━━━━━━━━━━━━━━━━━━━━━━━━━━━━━━━━━━━━━━━━━━━━━━━━━━━━━┛\n",
      "2025-08-25 22:37:23 [INFO] rompy.model         : Model files generated at: /tmp/rompy_backend_demo_v01nrn0z/backend_demo\n",
      "2025-08-25 22:37:23 [INFO] rompy.run.docker    : Using provided Docker image: ubuntu:20.04\n",
      "2025-08-25 22:37:23 [INFO] rompy.run.docker    : Executing: docker run --rm --user root -e TEST_VAR=backend_demo -v /tmp/rompy_backend_demo_v01nrn0z/backend_demo:/app/run_id:Z -v /tmp/rompy_backend_demo_v01nrn0z:/data ubuntu:20.04 bash -c cd /app/run_id && echo 'Directory contents:' && ls -la && echo 'Executing model...' && /bin/echo 'Hello from Docker container'\n"
     ]
    },
    {
     "name": "stdout",
     "output_type": "stream",
     "text": [
      "Docker backend is available!\n",
      "\n",
      "Attempting to run with Docker backend...\n",
      "(This may fail if Docker is not available or configured)\n"
     ]
    },
    {
     "name": "stderr",
     "output_type": "stream",
     "text": [
      "2025-08-25 22:37:23 [INFO] rompy.run.docker    : Docker stdout: \n",
      "Directory contents:\n",
      "total 4\n",
      "drwxr-xr-x. 4 1001 1001 100 Aug 25 12:37 .\n",
      "drwxr-xr-x. 1 root root  12 Aug 25 12:37 ..\n",
      "-rw-r--r--. 1 1001 1001 354 Aug 25 12:37 INPUT\n",
      "drwxr-xr-x. 2 1001 1001  60 Aug 25 12:37 datasets\n",
      "drwxr-xr-x. 2 1001 1001  60 Aug 25 12:37 outputs\n",
      "Executing model...\n",
      "Hello from Docker container\n",
      "\n",
      "2025-08-25 22:37:23 [INFO] rompy.run.docker    : Model run completed successfully with exit code 0\n"
     ]
    },
    {
     "name": "stdout",
     "output_type": "stream",
     "text": [
      "Docker run successful: True\n"
     ]
    }
   ],
   "source": [
    "from rompy.backends.config import DockerConfig\n",
    "\n",
    "# Check if Docker backend is available\n",
    "if \"docker\" in RUN_BACKENDS:\n",
    "    print(\"Docker backend is available!\")\n",
    "    \n",
    "    try:\n",
    "        print(\"\\nAttempting to run with Docker backend...\")\n",
    "        print(\"(This may fail if Docker is not available or configured)\")\n",
    "        \n",
    "        # Create a DockerConfig instance\n",
    "        docker_config = DockerConfig(\n",
    "            image=\"ubuntu:20.04\",  # Simple base image for demonstration\n",
    "            executable=\"/bin/echo 'Hello from Docker container'\",  # Simple command that will succeed\n",
    "            env_vars={\"TEST_VAR\": \"backend_demo\"},\n",
    "            volumes=[f\"{str(Path(output_dir).absolute())}:/data\"]  # Mount the output directory\n",
    "        )\n",
    "        \n",
    "        # Pass the config instance to model.run()\n",
    "        success = model.run(backend=docker_config)\n",
    "        \n",
    "        print(f\"Docker run successful: {success}\")\n",
    "        \n",
    "    except Exception as e:\n",
    "        print(f\"Docker run failed: {e}\")\n",
    "else:\n",
    "    print(\"Docker backend is not available in this environment.\")"
   ]
  },
  {
   "cell_type": "markdown",
   "metadata": {},
   "source": [
    "## Postprocessors\n",
    "\n",
    "Postprocessors handle model outputs after execution."
   ]
  },
  {
   "cell_type": "markdown",
   "metadata": {},
   "source": [
    "### No-op Postprocessor\n",
    "\n",
    "The no-op postprocessor is a placeholder that performs no operations."
   ]
  },
  {
   "cell_type": "code",
   "execution_count": 19,
   "metadata": {},
   "outputs": [
    {
     "name": "stderr",
     "output_type": "stream",
     "text": [
      "2025-08-25 22:37:23 [INFO] rompy.postprocess   : Starting no-op postprocessing for run_id: backend_demo\n",
      "2025-08-25 22:37:23 [INFO] rompy.postprocess   : Found 3 output files in /tmp/rompy_backend_demo_v01nrn0z/backend_demo\n",
      "2025-08-25 22:37:23 [INFO] rompy.postprocess   : No-op postprocessing completed for run_id: backend_demo\n"
     ]
    },
    {
     "name": "stdout",
     "output_type": "stream",
     "text": [
      "Running no-op postprocessor...\n",
      "Postprocessing results: {'success': True, 'message': 'No postprocessing requested - validation only', 'run_id': 'backend_demo', 'output_dir': '/tmp/rompy_backend_demo_v01nrn0z/backend_demo', 'validated': True}\n"
     ]
    }
   ],
   "source": [
    "# Use the no-op postprocessor\n",
    "print(\"Running no-op postprocessor...\")\n",
    "results = model.postprocess(processor=\"noop\")\n",
    "\n",
    "print(f\"Postprocessing results: {results}\")"
   ]
  },
  {
   "cell_type": "markdown",
   "metadata": {},
   "source": [
    "### Custom Postprocessor Example\n",
    "\n",
    "Let's create a simple custom postprocessor to demonstrate how to extend the system."
   ]
  },
  {
   "cell_type": "code",
   "execution_count": 20,
   "metadata": {},
   "outputs": [
    {
     "name": "stdout",
     "output_type": "stream",
     "text": [
      "Running custom file count postprocessor...\n",
      "Custom postprocessing results:\n",
      "  success: True\n",
      "  message: Found 3 files\n",
      "  file_count: 3\n",
      "  total_size_bytes: 468\n",
      "  output_directory: /tmp/rompy_backend_demo_v01nrn0z/backend_demo\n"
     ]
    }
   ],
   "source": [
    "from typing import Dict, Any\n",
    "\n",
    "class FileCountPostprocessor:\n",
    "    \"\"\"A simple postprocessor that counts files in the output directory.\"\"\"\n",
    "    \n",
    "    def process(self, model_run, **kwargs) -> Dict[str, Any]:\n",
    "        \"\"\"Count files in the model output directory.\"\"\"\n",
    "        output_path = Path(model_run.output_dir) / model_run.run_id\n",
    "        \n",
    "        if not output_path.exists():\n",
    "            return {\n",
    "                \"success\": False,\n",
    "                \"message\": \"Output directory does not exist\",\n",
    "                \"file_count\": 0\n",
    "            }\n",
    "        \n",
    "        # Count files\n",
    "        file_count = sum(1 for f in output_path.rglob(\"*\") if f.is_file())\n",
    "        total_size = sum(f.stat().st_size for f in output_path.rglob(\"*\") if f.is_file())\n",
    "        \n",
    "        return {\n",
    "            \"success\": True,\n",
    "            \"message\": f\"Found {file_count} files\",\n",
    "            \"file_count\": file_count,\n",
    "            \"total_size_bytes\": total_size,\n",
    "            \"output_directory\": str(output_path)\n",
    "        }\n",
    "\n",
    "# Use our custom postprocessor\n",
    "print(\"Running custom file count postprocessor...\")\n",
    "custom_processor = FileCountPostprocessor()\n",
    "results = custom_processor.process(model)\n",
    "\n",
    "print(\"Custom postprocessing results:\")\n",
    "for key, value in results.items():\n",
    "    print(f\"  {key}: {value}\")"
   ]
  },
  {
   "cell_type": "markdown",
   "metadata": {},
   "source": [
    "## Pipeline Backends\n",
    "\n",
    "Pipeline backends orchestrate the complete workflow from model generation through execution to postprocessing."
   ]
  },
  {
   "cell_type": "markdown",
   "metadata": {},
   "source": [
    "### Local Pipeline\n",
    "\n",
    "The local pipeline backend executes the complete workflow locally."
   ]
  },
  {
   "cell_type": "code",
   "execution_count": 21,
   "metadata": {},
   "outputs": [
    {
     "name": "stderr",
     "output_type": "stream",
     "text": [
      "2025-08-25 22:37:24 [INFO] rompy.pipeline      : Starting pipeline execution for run_id: pipeline_demo\n",
      "2025-08-25 22:37:24 [INFO] rompy.pipeline      : Pipeline configuration: run_backend='local', processor='noop'\n",
      "2025-08-25 22:37:24 [INFO] rompy.pipeline      : Stage 1: Generating input files for pipeline_demo\n",
      "2025-08-25 22:37:24 [INFO] rompy.model         : ┏━━━━━━━━━━━━━━━━━━━━━━━━━━━━━━━━━━━━━━━━━━━━━━━━━━━━━━━━━━━━━━━━━━━━┓\n",
      "2025-08-25 22:37:24 [INFO] rompy.model         : ┃                      MODEL RUN CONFIGURATION                       ┃\n",
      "2025-08-25 22:37:24 [INFO] rompy.model         : ┗━━━━━━━━━━━━━━━━━━━━━━━━━━━━━━━━━━━━━━━━━━━━━━━━━━━━━━━━━━━━━━━━━━━━┛\n",
      "2025-08-25 22:37:24 [INFO] rompy.model         :             Run ID : pipeline_demo\n",
      "2025-08-25 22:37:24 [INFO] rompy.model         :         Model Type : BaseConfig\n",
      "2025-08-25 22:37:24 [INFO] rompy.model         :         Start Time : 2023-01-01T00:00:00\n",
      "2025-08-25 22:37:24 [INFO] rompy.model         :           End Time : 2023-01-01T03:00:00\n",
      "2025-08-25 22:37:24 [INFO] rompy.model         :           Duration : 3 hours\n",
      "2025-08-25 22:37:24 [INFO] rompy.model         :      Time Interval : 1:00:00\n",
      "2025-08-25 22:37:24 [INFO] rompy.model         :   Output Directory : /tmp/rompy_backend_demo_v01nrn0z\n",
      "2025-08-25 22:37:24 [INFO] rompy.model         : ┏━━━━━━━━━━━━━━━━━━━━━━━━━━━━━━━━━━━━━━━━━━━━━━━━━━━━━━━━━━━━━━━━━━━━┓\n",
      "2025-08-25 22:37:24 [INFO] rompy.model         : ┗━━━━━━━━━━━━━━━━━━━━━━━━━━━━━━━━━━━━━━━━━━━━━━━━━━━━━━━━━━━━━━━━━━━━┛\n",
      "2025-08-25 22:37:24 [INFO] rompy.model         : \n",
      "2025-08-25 22:37:24 [INFO] root                : ┏━━━━━━━━━━━━━━━━━━━━━━━━━━━━━━━━━━━━━━━━━━━━━━━━━━━━━━━━━━━━━━━━━━━━┓\n",
      "2025-08-25 22:37:24 [INFO] root                : ┃                  MODEL CONFIGURATION (BaseConfig)                  ┃\n",
      "2025-08-25 22:37:24 [INFO] root                : ┗━━━━━━━━━━━━━━━━━━━━━━━━━━━━━━━━━━━━━━━━━━━━━━━━━━━━━━━━━━━━━━━━━━━━┛\n",
      "2025-08-25 22:37:24 [INFO] root                : \n"
     ]
    },
    {
     "name": "stderr",
     "output_type": "stream",
     "text": [
      "2025-08-25 22:37:24 [INFO] rompy.model         : BaseConfig:\n",
      "2025-08-25 22:37:24 [INFO] rompy.model         :   model_type: base\n",
      "2025-08-25 22:37:24 [INFO] rompy.model         :   template: /home/tdurrant/source/rompy/rompy/rompy/templates/base\n",
      "2025-08-25 22:37:24 [INFO] rompy.model         :   checkout: main\n",
      "2025-08-25 22:37:24 [INFO] rompy.model         :   arg1: pipeline\n",
      "2025-08-25 22:37:24 [INFO] rompy.model         :   arg2: demo\n",
      "2025-08-25 22:37:24 [INFO] rompy.model         : \n",
      "2025-08-25 22:37:24 [INFO] rompy.model         : ┏━━━━━━━━━━━━━━━━━━━━━━━━━━━━━━━━━━━━━━━━━━━━━━━━━━━━━━━━━━━━━━━━━━━━┓\n",
      "2025-08-25 22:37:24 [INFO] rompy.model         : ┃                     STARTING MODEL GENERATION                      ┃\n",
      "2025-08-25 22:37:24 [INFO] rompy.model         : ┗━━━━━━━━━━━━━━━━━━━━━━━━━━━━━━━━━━━━━━━━━━━━━━━━━━━━━━━━━━━━━━━━━━━━┛\n",
      "2025-08-25 22:37:24 [INFO] rompy.model         : Preparing input files in /tmp/rompy_backend_demo_v01nrn0z\n",
      "2025-08-25 22:37:24 [INFO] rompy.model         : Processing model configuration...\n",
      "2025-08-25 22:37:24 [INFO] rompy.model         : Running configuration callable...\n",
      "2025-08-25 22:37:24 [INFO] rompy.model         : Rendering model templates to /tmp/rompy_backend_demo_v01nrn0z/pipeline_demo...\n",
      "2025-08-25 22:37:24 [INFO] rompy.core.render   : Template source: /home/tdurrant/source/rompy/rompy/rompy/templates/base\n",
      "2025-08-25 22:37:24 [INFO] rompy.core.render   : Output directory: /tmp/rompy_backend_demo_v01nrn0z\n",
      "2025-08-25 22:37:24 [INFO] rompy.core.render   : Using template version: main\n",
      "2025-08-25 22:37:24 [INFO] rompy.core.render   :   • Locating template repository...\n",
      "2025-08-25 22:37:24 [INFO] rompy.core.render   : Template repository located at: /home/tdurrant/source/rompy/rompy/rompy/templates/base\n",
      "2025-08-25 22:37:24 [INFO] rompy.core.render   :   • Generating files from template...\n",
      "2025-08-25 22:37:24 [INFO] rompy.core.render   :   • Rendering time:      0.01 seconds\n",
      "2025-08-25 22:37:24 [INFO] rompy.core.render   :   • Total process time:  0.01 seconds\n",
      "2025-08-25 22:37:24 [INFO] rompy.core.render   :   • Files created:       3\n",
      "2025-08-25 22:37:24 [INFO] rompy.core.render   :   • Output location:     /tmp/rompy_backend_demo_v01nrn0z/pipeline_demo\n",
      "2025-08-25 22:37:24 [INFO] rompy.model         : \n",
      "2025-08-25 22:37:24 [INFO] rompy.model         : ┏━━━━━━━━━━━━━━━━━━━━━━━━━━━━━━━━━━━━━━━━━━━━━━━━━━━━━━━━━━━━━━━━━━━━┓\n",
      "2025-08-25 22:37:24 [INFO] rompy.model         : ┃                     MODEL GENERATION COMPLETE                      ┃\n",
      "2025-08-25 22:37:24 [INFO] rompy.model         : ┗━━━━━━━━━━━━━━━━━━━━━━━━━━━━━━━━━━━━━━━━━━━━━━━━━━━━━━━━━━━━━━━━━━━━┛\n",
      "2025-08-25 22:37:24 [INFO] rompy.model         : Model files generated at: /tmp/rompy_backend_demo_v01nrn0z/pipeline_demo\n",
      "2025-08-25 22:37:24 [INFO] rompy.pipeline      : Input files generated successfully in: /tmp/rompy_backend_demo_v01nrn0z/pipeline_demo\n",
      "2025-08-25 22:37:24 [INFO] rompy.pipeline      : Stage 2: Running model using local backend\n",
      "2025-08-25 22:37:24 [INFO] rompy.run           : Starting local execution for run_id: pipeline_demo\n",
      "2025-08-25 22:37:24 [INFO] rompy.run           : Using provided workspace directory: /tmp/rompy_backend_demo_v01nrn0z/pipeline_demo\n",
      "2025-08-25 22:37:24 [WARNING] rompy.run           : ! Model config does not have a run method. Nothing to execute.\n",
      "2025-08-25 22:37:24 [INFO] rompy.run           : Local execution completed successfully for run_id: pipeline_demo\n",
      "2025-08-25 22:37:24 [INFO] rompy.pipeline      : Model run completed successfully\n",
      "2025-08-25 22:37:24 [INFO] rompy.pipeline      : Stage 3: Postprocessing with noop\n",
      "2025-08-25 22:37:24 [INFO] rompy.postprocess   : Starting no-op postprocessing for run_id: pipeline_demo\n",
      "2025-08-25 22:37:24 [INFO] rompy.postprocess   : Found 3 output files in /tmp/rompy_backend_demo_v01nrn0z/pipeline_demo\n",
      "2025-08-25 22:37:24 [INFO] rompy.postprocess   : No-op postprocessing completed for run_id: pipeline_demo\n",
      "2025-08-25 22:37:24 [INFO] rompy.pipeline      : Postprocessing completed\n",
      "2025-08-25 22:37:24 [INFO] rompy.pipeline      : Pipeline execution completed successfully for run_id: pipeline_demo\n"
     ]
    },
    {
     "name": "stdout",
     "output_type": "stream",
     "text": [
      "Running complete pipeline...\n",
      "\n",
      "Pipeline results:\n",
      "  success: True\n",
      "  run_id: pipeline_demo\n",
      "  stages_completed: ['generate', 'run', 'postprocess']\n",
      "  run_backend: local\n",
      "  processor: noop\n",
      "  staging_dir: /tmp/rompy_backend_demo_v01nrn0z/pipeline_demo\n",
      "  run_success: True\n",
      "  postprocess_results: {'success': True, 'message': 'No postprocessing requested - validation only', 'run_id': 'pipeline_demo', 'output_dir': '/tmp/rompy_backend_demo_v01nrn0z/pipeline_demo', 'validated': True}\n",
      "  message: Pipeline completed successfully\n"
     ]
    }
   ],
   "source": [
    "# Create a fresh model run for the pipeline demo\n",
    "pipeline_model = ModelRun(\n",
    "    run_id=\"pipeline_demo\",\n",
    "    period=TimeRange(\n",
    "        start=datetime(2023, 1, 1, 0),\n",
    "        end=datetime(2023, 1, 1, 3),\n",
    "        interval=\"1H\"\n",
    "    ),\n",
    "    output_dir=output_dir,\n",
    "    config=BaseConfig(arg1=\"pipeline\", arg2=\"demo\"),\n",
    "    delete_existing=True\n",
    ")\n",
    "\n",
    "# Run the complete pipeline\n",
    "print(\"Running complete pipeline...\")\n",
    "results = pipeline_model.pipeline(\n",
    "    pipeline_backend=\"local\",\n",
    "    run_backend=\"local\",\n",
    "    processor=\"noop\"\n",
    ")\n",
    "\n",
    "print(\"\\nPipeline results:\")\n",
    "for key, value in results.items():\n",
    "    print(f\"  {key}: {value}\")"
   ]
  },
  {
   "cell_type": "markdown",
   "metadata": {},
   "source": [
    "## Error Handling\n",
    "\n",
    "The backend system provides clear error messages when backends are not found."
   ]
  },
  {
   "cell_type": "code",
   "execution_count": 22,
   "metadata": {},
   "outputs": [
    {
     "name": "stdout",
     "output_type": "stream",
     "text": [
      "Run backend error: Backend must be a subclass of BaseBackendConfig, got InvalidBackendConfig\n",
      "Postprocessor error: Unknown postprocessor: invalid. Available processors: noop\n",
      "Pipeline backend error: Unknown pipeline backend: unknown. Available backends: local\n"
     ]
    }
   ],
   "source": [
    "from rompy.backends.config import LocalConfig\n",
    "\n",
    "# Try to use a non-existent run backend\n",
    "try:\n",
    "    # Instead of passing a string, we need to create a BackendConfig instance\n",
    "    # with an invalid backend type\n",
    "    class InvalidBackendConfig:\n",
    "        pass\n",
    "    \n",
    "    model.run(backend=InvalidBackendConfig())\n",
    "except TypeError as e:\n",
    "    print(f\"Run backend error: {e}\")\n",
    "\n",
    "# Try to use a non-existent postprocessor\n",
    "try:\n",
    "    model.postprocess(processor=\"invalid\")\n",
    "except ValueError as e:\n",
    "    print(f\"Postprocessor error: {e}\")\n",
    "\n",
    "# Try to use a non-existent pipeline backend\n",
    "try:\n",
    "    model.pipeline(pipeline_backend=\"unknown\")\n",
    "except ValueError as e:\n",
    "    print(f\"Pipeline backend error: {e}\")"
   ]
  },
  {
   "cell_type": "markdown",
   "metadata": {},
   "source": [
    "## Complete Workflow Example\n",
    "\n",
    "Let's put it all together with a complete workflow that demonstrates the full capability of the backend system."
   ]
  },
  {
   "cell_type": "code",
   "execution_count": 23,
   "metadata": {},
   "outputs": [
    {
     "name": "stderr",
     "output_type": "stream",
     "text": [
      "2025-08-25 22:37:24 [INFO] rompy.model         : ┏━━━━━━━━━━━━━━━━━━━━━━━━━━━━━━━━━━━━━━━━━━━━━━━━━━━━━━━━━━━━━━━━━━━━┓\n",
      "2025-08-25 22:37:24 [INFO] rompy.model         : ┃                      MODEL RUN CONFIGURATION                       ┃\n",
      "2025-08-25 22:37:24 [INFO] rompy.model         : ┗━━━━━━━━━━━━━━━━━━━━━━━━━━━━━━━━━━━━━━━━━━━━━━━━━━━━━━━━━━━━━━━━━━━━┛\n",
      "2025-08-25 22:37:24 [INFO] rompy.model         :             Run ID : complete_workflow\n",
      "2025-08-25 22:37:24 [INFO] rompy.model         :         Model Type : BaseConfig\n",
      "2025-08-25 22:37:24 [INFO] rompy.model         :         Start Time : 2023-01-01T00:00:00\n",
      "2025-08-25 22:37:24 [INFO] rompy.model         :           End Time : 2023-01-01T06:00:00\n",
      "2025-08-25 22:37:24 [INFO] rompy.model         :           Duration : 6 hours\n",
      "2025-08-25 22:37:24 [INFO] rompy.model         :      Time Interval : 1:00:00\n",
      "2025-08-25 22:37:24 [INFO] rompy.model         :   Output Directory : /tmp/rompy_backend_demo_v01nrn0z\n",
      "2025-08-25 22:37:24 [INFO] rompy.model         : ┏━━━━━━━━━━━━━━━━━━━━━━━━━━━━━━━━━━━━━━━━━━━━━━━━━━━━━━━━━━━━━━━━━━━━┓\n",
      "2025-08-25 22:37:24 [INFO] rompy.model         : ┗━━━━━━━━━━━━━━━━━━━━━━━━━━━━━━━━━━━━━━━━━━━━━━━━━━━━━━━━━━━━━━━━━━━━┛\n",
      "2025-08-25 22:37:24 [INFO] rompy.model         : \n",
      "2025-08-25 22:37:24 [INFO] root                : ┏━━━━━━━━━━━━━━━━━━━━━━━━━━━━━━━━━━━━━━━━━━━━━━━━━━━━━━━━━━━━━━━━━━━━┓\n",
      "2025-08-25 22:37:24 [INFO] root                : ┃                  MODEL CONFIGURATION (BaseConfig)                  ┃\n",
      "2025-08-25 22:37:24 [INFO] root                : ┗━━━━━━━━━━━━━━━━━━━━━━━━━━━━━━━━━━━━━━━━━━━━━━━━━━━━━━━━━━━━━━━━━━━━┛\n",
      "2025-08-25 22:37:24 [INFO] root                : \n",
      "2025-08-25 22:37:24 [INFO] rompy.model         : BaseConfig:\n",
      "2025-08-25 22:37:24 [INFO] rompy.model         :   model_type: base\n",
      "2025-08-25 22:37:24 [INFO] rompy.model         :   template: /home/tdurrant/source/rompy/rompy/rompy/templates/base\n",
      "2025-08-25 22:37:24 [INFO] rompy.model         :   checkout: main\n",
      "2025-08-25 22:37:24 [INFO] rompy.model         :   arg1: complete\n",
      "2025-08-25 22:37:24 [INFO] rompy.model         :   arg2: workflow\n",
      "2025-08-25 22:37:24 [INFO] rompy.model         : \n",
      "2025-08-25 22:37:24 [INFO] rompy.model         : ┏━━━━━━━━━━━━━━━━━━━━━━━━━━━━━━━━━━━━━━━━━━━━━━━━━━━━━━━━━━━━━━━━━━━━┓\n",
      "2025-08-25 22:37:24 [INFO] rompy.model         : ┃                     STARTING MODEL GENERATION                      ┃\n",
      "2025-08-25 22:37:24 [INFO] rompy.model         : ┗━━━━━━━━━━━━━━━━━━━━━━━━━━━━━━━━━━━━━━━━━━━━━━━━━━━━━━━━━━━━━━━━━━━━┛\n",
      "2025-08-25 22:37:24 [INFO] rompy.model         : Preparing input files in /tmp/rompy_backend_demo_v01nrn0z\n",
      "2025-08-25 22:37:24 [INFO] rompy.model         : Processing model configuration...\n",
      "2025-08-25 22:37:24 [INFO] rompy.model         : Running configuration callable...\n",
      "2025-08-25 22:37:24 [INFO] rompy.model         : Rendering model templates to /tmp/rompy_backend_demo_v01nrn0z/complete_workflow...\n",
      "2025-08-25 22:37:24 [INFO] rompy.core.render   : Template source: /home/tdurrant/source/rompy/rompy/rompy/templates/base\n",
      "2025-08-25 22:37:24 [INFO] rompy.core.render   : Output directory: /tmp/rompy_backend_demo_v01nrn0z\n",
      "2025-08-25 22:37:24 [INFO] rompy.core.render   : Using template version: main\n",
      "2025-08-25 22:37:24 [INFO] rompy.core.render   :   • Locating template repository...\n",
      "2025-08-25 22:37:24 [INFO] rompy.core.render   : Template repository located at: /home/tdurrant/source/rompy/rompy/rompy/templates/base\n",
      "2025-08-25 22:37:24 [INFO] rompy.core.render   :   • Generating files from template...\n",
      "2025-08-25 22:37:24 [INFO] rompy.core.render   :   • Rendering time:      0.01 seconds\n",
      "2025-08-25 22:37:24 [INFO] rompy.core.render   :   • Total process time:  0.01 seconds\n",
      "2025-08-25 22:37:24 [INFO] rompy.core.render   :   • Files created:       3\n",
      "2025-08-25 22:37:24 [INFO] rompy.core.render   :   • Output location:     /tmp/rompy_backend_demo_v01nrn0z/complete_workflow\n",
      "2025-08-25 22:37:24 [INFO] rompy.model         : \n",
      "2025-08-25 22:37:24 [INFO] rompy.model         : ┏━━━━━━━━━━━━━━━━━━━━━━━━━━━━━━━━━━━━━━━━━━━━━━━━━━━━━━━━━━━━━━━━━━━━┓\n",
      "2025-08-25 22:37:24 [INFO] rompy.model         : ┃                     MODEL GENERATION COMPLETE                      ┃\n",
      "2025-08-25 22:37:24 [INFO] rompy.model         : ┗━━━━━━━━━━━━━━━━━━━━━━━━━━━━━━━━━━━━━━━━━━━━━━━━━━━━━━━━━━━━━━━━━━━━┛\n",
      "2025-08-25 22:37:24 [INFO] rompy.model         : Model files generated at: /tmp/rompy_backend_demo_v01nrn0z/complete_workflow\n",
      "2025-08-25 22:37:24 [INFO] rompy.run           : Starting local execution for run_id: complete_workflow\n",
      "2025-08-25 22:37:24 [WARNING] rompy.run           : ! No workspace_dir provided, generating files (this may cause double generation in pipeline)\n",
      "2025-08-25 22:37:24 [INFO] rompy.model         : ┏━━━━━━━━━━━━━━━━━━━━━━━━━━━━━━━━━━━━━━━━━━━━━━━━━━━━━━━━━━━━━━━━━━━━┓\n",
      "2025-08-25 22:37:24 [INFO] rompy.model         : ┃                      MODEL RUN CONFIGURATION                       ┃\n",
      "2025-08-25 22:37:24 [INFO] rompy.model         : ┗━━━━━━━━━━━━━━━━━━━━━━━━━━━━━━━━━━━━━━━━━━━━━━━━━━━━━━━━━━━━━━━━━━━━┛\n",
      "2025-08-25 22:37:24 [INFO] rompy.model         :             Run ID : complete_workflow\n",
      "2025-08-25 22:37:24 [INFO] rompy.model         :         Model Type : BaseConfig\n",
      "2025-08-25 22:37:24 [INFO] rompy.model         :         Start Time : 2023-01-01T00:00:00\n",
      "2025-08-25 22:37:24 [INFO] rompy.model         :           End Time : 2023-01-01T06:00:00\n",
      "2025-08-25 22:37:24 [INFO] rompy.model         :           Duration : 6 hours\n",
      "2025-08-25 22:37:24 [INFO] rompy.model         :      Time Interval : 1:00:00\n",
      "2025-08-25 22:37:24 [INFO] rompy.model         :   Output Directory : /tmp/rompy_backend_demo_v01nrn0z\n",
      "2025-08-25 22:37:24 [INFO] rompy.model         : ┏━━━━━━━━━━━━━━━━━━━━━━━━━━━━━━━━━━━━━━━━━━━━━━━━━━━━━━━━━━━━━━━━━━━━┓\n",
      "2025-08-25 22:37:24 [INFO] rompy.model         : ┗━━━━━━━━━━━━━━━━━━━━━━━━━━━━━━━━━━━━━━━━━━━━━━━━━━━━━━━━━━━━━━━━━━━━┛\n",
      "2025-08-25 22:37:24 [INFO] rompy.model         : \n",
      "2025-08-25 22:37:24 [INFO] root                : ┏━━━━━━━━━━━━━━━━━━━━━━━━━━━━━━━━━━━━━━━━━━━━━━━━━━━━━━━━━━━━━━━━━━━━┓\n",
      "2025-08-25 22:37:24 [INFO] root                : ┃                  MODEL CONFIGURATION (BaseConfig)                  ┃\n",
      "2025-08-25 22:37:24 [INFO] root                : ┗━━━━━━━━━━━━━━━━━━━━━━━━━━━━━━━━━━━━━━━━━━━━━━━━━━━━━━━━━━━━━━━━━━━━┛\n",
      "2025-08-25 22:37:24 [INFO] root                : \n",
      "2025-08-25 22:37:24 [INFO] rompy.model         : BaseConfig:\n",
      "2025-08-25 22:37:24 [INFO] rompy.model         :   model_type: base\n",
      "2025-08-25 22:37:24 [INFO] rompy.model         :   template: /home/tdurrant/source/rompy/rompy/rompy/templates/base\n",
      "2025-08-25 22:37:24 [INFO] rompy.model         :   checkout: main\n",
      "2025-08-25 22:37:24 [INFO] rompy.model         :   arg1: complete\n",
      "2025-08-25 22:37:24 [INFO] rompy.model         :   arg2: workflow\n",
      "2025-08-25 22:37:24 [INFO] rompy.model         : \n",
      "2025-08-25 22:37:24 [INFO] rompy.model         : ┏━━━━━━━━━━━━━━━━━━━━━━━━━━━━━━━━━━━━━━━━━━━━━━━━━━━━━━━━━━━━━━━━━━━━┓\n",
      "2025-08-25 22:37:24 [INFO] rompy.model         : ┃                     STARTING MODEL GENERATION                      ┃\n",
      "2025-08-25 22:37:24 [INFO] rompy.model         : ┗━━━━━━━━━━━━━━━━━━━━━━━━━━━━━━━━━━━━━━━━━━━━━━━━━━━━━━━━━━━━━━━━━━━━┛\n",
      "2025-08-25 22:37:24 [INFO] rompy.model         : Preparing input files in /tmp/rompy_backend_demo_v01nrn0z\n",
      "2025-08-25 22:37:24 [INFO] rompy.model         : Processing model configuration...\n",
      "2025-08-25 22:37:24 [INFO] rompy.model         : Running configuration callable...\n",
      "2025-08-25 22:37:24 [INFO] rompy.model         : Rendering model templates to /tmp/rompy_backend_demo_v01nrn0z/complete_workflow...\n",
      "2025-08-25 22:37:24 [INFO] rompy.core.render   : Template source: /home/tdurrant/source/rompy/rompy/rompy/templates/base\n",
      "2025-08-25 22:37:24 [INFO] rompy.core.render   : Output directory: /tmp/rompy_backend_demo_v01nrn0z\n",
      "2025-08-25 22:37:24 [INFO] rompy.core.render   : Using template version: main\n",
      "2025-08-25 22:37:24 [INFO] rompy.core.render   :   • Locating template repository...\n",
      "2025-08-25 22:37:24 [INFO] rompy.core.render   : Template repository located at: /home/tdurrant/source/rompy/rompy/rompy/templates/base\n",
      "2025-08-25 22:37:24 [INFO] rompy.core.render   :   • Generating files from template...\n",
      "2025-08-25 22:37:24 [INFO] rompy.core.render   :   • Rendering time:      0.01 seconds\n",
      "2025-08-25 22:37:24 [INFO] rompy.core.render   :   • Total process time:  0.01 seconds\n",
      "2025-08-25 22:37:24 [INFO] rompy.core.render   :   • Files created:       3\n",
      "2025-08-25 22:37:24 [INFO] rompy.core.render   :   • Output location:     /tmp/rompy_backend_demo_v01nrn0z/complete_workflow\n",
      "2025-08-25 22:37:24 [INFO] rompy.model         : \n",
      "2025-08-25 22:37:24 [INFO] rompy.model         : ┏━━━━━━━━━━━━━━━━━━━━━━━━━━━━━━━━━━━━━━━━━━━━━━━━━━━━━━━━━━━━━━━━━━━━┓\n",
      "2025-08-25 22:37:24 [INFO] rompy.model         : ┃                     MODEL GENERATION COMPLETE                      ┃\n",
      "2025-08-25 22:37:24 [INFO] rompy.model         : ┗━━━━━━━━━━━━━━━━━━━━━━━━━━━━━━━━━━━━━━━━━━━━━━━━━━━━━━━━━━━━━━━━━━━━┛\n",
      "2025-08-25 22:37:24 [INFO] rompy.model         : Model files generated at: /tmp/rompy_backend_demo_v01nrn0z/complete_workflow\n",
      "2025-08-25 22:37:24 [INFO] rompy.run           : Model inputs generated in: /tmp/rompy_backend_demo_v01nrn0z/complete_workflow\n",
      "2025-08-25 22:37:24 [INFO] rompy.run           : Executing command: echo 'Running model simulation'\n",
      "2025-08-25 22:37:24 [INFO] rompy.run           : Command stdout:\n",
      "Running model simulation\n",
      "\n",
      "2025-08-25 22:37:24 [INFO] rompy.run           : Local execution completed successfully for run_id: complete_workflow\n",
      "2025-08-25 22:37:24 [INFO] rompy.postprocess   : Starting no-op postprocessing for run_id: complete_workflow\n",
      "2025-08-25 22:37:24 [INFO] rompy.postprocess   : Found 3 output files in /tmp/rompy_backend_demo_v01nrn0z/complete_workflow\n",
      "2025-08-25 22:37:24 [INFO] rompy.postprocess   : No-op postprocessing completed for run_id: complete_workflow\n"
     ]
    },
    {
     "name": "stdout",
     "output_type": "stream",
     "text": [
      "1. Generating model inputs...\n",
      "   ✓ Inputs generated\n",
      "\n",
      "2. Running model...\n",
      "   ✓ Model run: Success\n",
      "\n",
      "3. Processing outputs...\n",
      "   ✓ Output processing complete\n",
      "\n",
      "4. Results summary:\n",
      "   - Run ID: complete_workflow\n",
      "   - Output directory: /tmp/rompy_backend_demo_v01nrn0z/complete_workflow\n",
      "   - Run successful: True\n",
      "   - Process results: {'success': True, 'message': 'No postprocessing requested - validation only', 'run_id': 'complete_workflow', 'output_dir': '/tmp/rompy_backend_demo_v01nrn0z/complete_workflow', 'validated': True}\n"
     ]
    }
   ],
   "source": [
    "from rompy.backends.config import LocalConfig\n",
    "\n",
    "# Create a complete workflow model\n",
    "workflow_model = ModelRun(\n",
    "    run_id=\"complete_workflow\",\n",
    "    period=TimeRange(\n",
    "        start=datetime(2023, 1, 1, 0),\n",
    "        end=datetime(2023, 1, 1, 6),\n",
    "        interval=\"1H\"\n",
    "    ),\n",
    "    output_dir=output_dir,\n",
    "    config=BaseConfig(arg1=\"complete\", arg2=\"workflow\"),\n",
    "    delete_existing=True\n",
    ")\n",
    "\n",
    "print(\"1. Generating model inputs...\")\n",
    "workflow_model.generate()\n",
    "print(\"   ✓ Inputs generated\")\n",
    "\n",
    "# Create a LocalConfig instance\n",
    "local_config = LocalConfig(\n",
    "    command=\"echo 'Running model simulation'\",  # Replace with your actual command\n",
    "    working_dir=str(Path(output_dir) / \"complete_workflow\")\n",
    ")\n",
    "\n",
    "# Step 2: Run the model\n",
    "print(\"\\n2. Running model...\")\n",
    "run_success = workflow_model.run(backend=local_config)\n",
    "print(f\"   ✓ Model run: {'Success' if run_success else 'Failed'}\")\n",
    "\n",
    "# Step 3: Process outputs\n",
    "print(\"\\n3. Processing outputs...\")\n",
    "process_results = workflow_model.postprocess(processor=\"noop\")\n",
    "print(\"   ✓ Output processing complete\")\n",
    "\n",
    "# Step 4: Show results\n",
    "print(\"\\n4. Results summary:\")\n",
    "print(f\"   - Run ID: {workflow_model.run_id}\")\n",
    "print(f\"   - Output directory: {Path(output_dir) / workflow_model.run_id}\")\n",
    "print(f\"   - Run successful: {run_success}\")\n",
    "print(f\"   - Process results: {process_results}\")"
   ]
  },
  {
   "cell_type": "markdown",
   "metadata": {},
   "source": [
    "## Summary\n",
    "\n",
    "This notebook demonstrated the key features of rompy's backend system:\n",
    "\n",
    "1. **Run Backends**: Execute models in different environments (local, Docker)\n",
    "2. **Postprocessors**: Process model outputs with custom logic\n",
    "3. **Pipeline Backends**: Orchestrate complete workflows\n",
    "4. **Extensibility**: Easy to create and register custom backends\n",
    "5. **Error Handling**: Clear error messages for debugging\n",
    "\n",
    "The entry point-based architecture makes it easy to extend rompy with custom backends without modifying the core library. Simply implement the required interface and register your backend through Python entry points."
   ]
  },
  {
   "cell_type": "code",
   "execution_count": 24,
   "metadata": {},
   "outputs": [
    {
     "name": "stdout",
     "output_type": "stream",
     "text": [
      "Cleaned up temporary directory: /tmp/rompy_backend_demo_v01nrn0z\n"
     ]
    }
   ],
   "source": [
    "# Cleanup: Remove temporary files\n",
    "import shutil\n",
    "\n",
    "try:\n",
    "    shutil.rmtree(output_dir)\n",
    "    print(f\"Cleaned up temporary directory: {output_dir}\")\n",
    "except Exception as e:\n",
    "    print(f\"Could not clean up {output_dir}: {e}\")"
   ]
  },
  {
   "cell_type": "code",
   "execution_count": null,
   "metadata": {},
   "outputs": [],
   "source": []
  }
 ],
 "metadata": {
  "kernelspec": {
   "display_name": ".venv",
   "language": "python",
   "name": "python3"
  },
  "language_info": {
   "codemirror_mode": {
    "name": "ipython",
    "version": 3
   },
   "file_extension": ".py",
   "mimetype": "text/x-python",
   "name": "python",
   "nbconvert_exporter": "python",
   "pygments_lexer": "ipython3",
   "version": "3.13.5"
  }
 },
 "nbformat": 4,
 "nbformat_minor": 4
}
