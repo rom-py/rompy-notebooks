{
 "cells": [
  {
   "cell_type": "markdown",
   "id": "f282e073-4210-4cc0-a22a-e2acf95f0ece",
   "metadata": {},
   "source": [
    "# SWAN Output Components\n",
    "\n",
    "This notebook shows examples of using the SWAN components to define model output commands"
   ]
  },
  {
   "cell_type": "code",
   "execution_count": 1,
   "id": "283e2636",
   "metadata": {},
   "outputs": [],
   "source": [
    "%load_ext autoreload\n",
    "%autoreload 2\n",
    "\n",
    "import warnings\n",
    "warnings.filterwarnings(\"ignore\")"
   ]
  },
  {
   "cell_type": "code",
   "execution_count": 2,
   "id": "6c7aae0b-a773-4f17-8d2f-a51a8d7c43b4",
   "metadata": {},
   "outputs": [],
   "source": [
    "from rompy_swan.components.group import OUTPUT\n",
    "from rompy_swan.subcomponents.time import TimeRangeOpen\n",
    "from rompy_swan.components.output import (\n",
    "    SPECIAL_NAMES,\n",
    "    BaseLocation,\n",
    "    FRAME,\n",
    "    GROUP,\n",
    "    CURVE,\n",
    "    CURVES,\n",
    "    RAY,\n",
    "    ISOLINE,\n",
    "    POINTS,\n",
    "    POINTS_FILE,\n",
    "    NGRID,\n",
    "    NGRID_UNSTRUCTURED,\n",
    "    QUANTITY,\n",
    "    QUANTITIES,\n",
    "    OUTPUT_OPTIONS,\n",
    "    BLOCK,\n",
    "    BLOCKS,\n",
    "    TABLE,\n",
    "    SPECOUT,\n",
    "    NESTOUT,\n",
    "    TEST,\n",
    ")"
   ]
  },
  {
   "cell_type": "markdown",
   "id": "526786a3-e758-4449-9cd2-6e5770515c8e",
   "metadata": {},
   "source": [
    "## OUTPUT group component\n",
    "\n",
    "The OUTPUT group component provides an interface for the different types of SWAN output commands"
   ]
  },
  {
   "cell_type": "code",
   "execution_count": 3,
   "id": "47cd1a9e-8d1f-49a2-be31-218f6ef18cf4",
   "metadata": {},
   "outputs": [
    {
     "name": "stdout",
     "output_type": "stream",
     "text": [
      "\u001b[31mInit signature:\u001b[39m\n",
      "OUTPUT(\n",
      "    *,\n",
      "    model_type: Literal[\u001b[33m'output'\u001b[39m, \u001b[33m'OUTPUT'\u001b[39m] = \u001b[33m'output'\u001b[39m,\n",
      "    frame: Optional[Annotated[rompy_swan.components.output.FRAME, FieldInfo(annotation=NoneType, required=\u001b[38;5;28;01mTrue\u001b[39;00m, description=\u001b[33m'Frame locations component'\u001b[39m)]] = \u001b[38;5;28;01mNone\u001b[39;00m,\n",
      "    group: Optional[Annotated[rompy_swan.components.output.GROUP, FieldInfo(annotation=NoneType, required=\u001b[38;5;28;01mTrue\u001b[39;00m, description=\u001b[33m'Group locations component'\u001b[39m)]] = \u001b[38;5;28;01mNone\u001b[39;00m,\n",
      "    curve: Optional[Annotated[rompy_swan.components.output.CURVES, FieldInfo(annotation=NoneType, required=\u001b[38;5;28;01mTrue\u001b[39;00m, description=\u001b[33m'Curve locations component'\u001b[39m)]] = \u001b[38;5;28;01mNone\u001b[39;00m,\n",
      "    ray: Optional[Annotated[rompy_swan.components.output.RAY, FieldInfo(annotation=NoneType, required=\u001b[38;5;28;01mTrue\u001b[39;00m, description=\u001b[33m'Ray locations component'\u001b[39m)]] = \u001b[38;5;28;01mNone\u001b[39;00m,\n",
      "    isoline: Optional[Annotated[rompy_swan.components.output.ISOLINE, FieldInfo(annotation=NoneType, required=\u001b[38;5;28;01mTrue\u001b[39;00m, description=\u001b[33m'Isoline locations component'\u001b[39m)]] = \u001b[38;5;28;01mNone\u001b[39;00m,\n",
      "    points: Optional[Annotated[Union[rompy_swan.components.output.POINTS, rompy_swan.components.output.POINTS_FILE], FieldInfo(annotation=NoneType, required=\u001b[38;5;28;01mTrue\u001b[39;00m, description=\u001b[33m'Points locations component'\u001b[39m, discriminator=\u001b[33m'model_type'\u001b[39m)]] = \u001b[38;5;28;01mNone\u001b[39;00m,\n",
      "    ngrid: Optional[Annotated[Union[rompy_swan.components.output.NGRID, rompy_swan.components.output.NGRID_UNSTRUCTURED], FieldInfo(annotation=NoneType, required=\u001b[38;5;28;01mTrue\u001b[39;00m, description=\u001b[33m'Ngrid locations component'\u001b[39m, discriminator=\u001b[33m'model_type'\u001b[39m)]] = \u001b[38;5;28;01mNone\u001b[39;00m,\n",
      "    quantity: Optional[Annotated[rompy_swan.components.output.QUANTITIES, FieldInfo(annotation=NoneType, required=\u001b[38;5;28;01mTrue\u001b[39;00m, description=\u001b[33m'Quantity component'\u001b[39m)]] = \u001b[38;5;28;01mNone\u001b[39;00m,\n",
      "    output_options: Optional[Annotated[rompy_swan.components.output.OUTPUT_OPTIONS, FieldInfo(annotation=NoneType, required=\u001b[38;5;28;01mTrue\u001b[39;00m, description=\u001b[33m'Output options component'\u001b[39m)]] = \u001b[38;5;28;01mNone\u001b[39;00m,\n",
      "    block: Optional[Annotated[Union[rompy_swan.components.output.BLOCK, rompy_swan.components.output.BLOCKS], FieldInfo(annotation=NoneType, required=\u001b[38;5;28;01mTrue\u001b[39;00m, description=\u001b[33m'Block write component'\u001b[39m, discriminator=\u001b[33m'model_type'\u001b[39m)]] = \u001b[38;5;28;01mNone\u001b[39;00m,\n",
      "    table: Optional[Annotated[rompy_swan.components.output.TABLE, FieldInfo(annotation=NoneType, required=\u001b[38;5;28;01mTrue\u001b[39;00m, description=\u001b[33m'Table write component'\u001b[39m)]] = \u001b[38;5;28;01mNone\u001b[39;00m,\n",
      "    specout: Optional[Annotated[rompy_swan.components.output.SPECOUT, FieldInfo(annotation=NoneType, required=\u001b[38;5;28;01mTrue\u001b[39;00m, description=\u001b[33m'Spectra write component'\u001b[39m)]] = \u001b[38;5;28;01mNone\u001b[39;00m,\n",
      "    nestout: Optional[Annotated[rompy_swan.components.output.NESTOUT, FieldInfo(annotation=NoneType, required=\u001b[38;5;28;01mTrue\u001b[39;00m, description=\u001b[33m'Nest write component'\u001b[39m)]] = \u001b[38;5;28;01mNone\u001b[39;00m,\n",
      "    test: Optional[Annotated[rompy_swan.components.output.TEST, FieldInfo(annotation=NoneType, required=\u001b[38;5;28;01mTrue\u001b[39;00m, description=\u001b[33m'Intermediate write component'\u001b[39m)]] = \u001b[38;5;28;01mNone\u001b[39;00m,\n",
      ") -> \u001b[38;5;28;01mNone\u001b[39;00m\n",
      "\u001b[31mDocstring:\u001b[39m     \n",
      "Output group component.\n",
      "\n",
      ".. code-block:: text\n",
      "\n",
      "    FRAME 'sname' ...\n",
      "    GROUP 'sname' ...\n",
      "    CURVE 'sname' ...\n",
      "    RAY 'rname' ...\n",
      "    ISOLINE 'sname' 'rname' ...\n",
      "    POINTS 'sname ...\n",
      "    NGRID 'sname' ...\n",
      "    QUANTITY ...\n",
      "    OUTPUT OPTIONS ...\n",
      "    BLOCK 'sname' ...\n",
      "    TABLE 'sname' ...\n",
      "    SPECOUT 'sname' ...\n",
      "    NESTOUT 'sname ...\n",
      "\n",
      "This group component is used to define multiple types of output locations and\n",
      "write components in a single model. Only fields that are explicitly prescribed are\n",
      "rendered by this group component.\n",
      "\n",
      "Note\n",
      "----\n",
      "The components prescribed are validated according to some constraints as defined\n",
      "in the SWAN manual:\n",
      "\n",
      "- The name `'sname'` of each Locations component must be unique.\n",
      "- The Locations `'sname'` assigned to each write component must be defined.\n",
      "- The BLOCK component must be associated with either a `FRAME` or `GROUP`.\n",
      "- The ISOLINE write component must be associated with a `RAY` component.\n",
      "- The NGRID and NESTOUT components must be defined together.\n",
      "\n",
      "Examples\n",
      "--------\n",
      "\n",
      ".. ipython:: python\n",
      "    :okwarning:\n",
      "\n",
      "    from rompy_swan.components.output import POINTS, BLOCK, QUANTITIES, TABLE\n",
      "    from rompy_swan.components.group import OUTPUT\n",
      "    points = POINTS(sname=\"outpts\", xp=[172.3, 172.4], yp=[-39, -39])\n",
      "    quantity = QUANTITIES(\n",
      "        quantities=[\n",
      "            dict(output=[\"depth\", \"hsign\", \"tps\", \"dir\", \"tm01\"], excv=-9),\n",
      "        ]\n",
      "    )\n",
      "    times = dict(tbeg=\"2012-01-01T00:00:00\", delt=\"PT30M\", tfmt=1, dfmt=\"min\")\n",
      "    block = BLOCK(\n",
      "        model_type=\"block\",\n",
      "        sname=\"COMPGRID\",\n",
      "        fname=\"./swangrid.nc\",\n",
      "        output=[\"depth\", \"hsign\", \"tps\", \"dir\"],\n",
      "        times=times,\n",
      "    )\n",
      "    table = TABLE(\n",
      "        sname=\"outpts\",\n",
      "        format=\"noheader\",\n",
      "        fname=\"./swantable.nc\",\n",
      "        output=[\"hsign\", \"hswell\", \"dir\", \"tps\", \"tm01\", \"watlev\", \"qp\"],\n",
      "        times=times,\n",
      "    )\n",
      "    out = OUTPUT(\n",
      "        points=points,\n",
      "        quantity=quantity,\n",
      "        block=block,\n",
      "        table=table,\n",
      "    )\n",
      "    print(out.render())\n",
      "\u001b[31mInit docstring:\u001b[39m\n",
      "Create a new model by parsing and validating input data from keyword arguments.\n",
      "\n",
      "Raises [`ValidationError`][pydantic_core.ValidationError] if the input data cannot be\n",
      "validated to form a valid model.\n",
      "\n",
      "`self` is explicitly positional-only to allow `self` as a field name.\n",
      "\u001b[31mFile:\u001b[39m           /source/csiro/rompy-swan/src/rompy_swan/components/group.py\n",
      "\u001b[31mType:\u001b[39m           ModelMetaclass\n",
      "\u001b[31mSubclasses:\u001b[39m     "
     ]
    }
   ],
   "source": [
    "OUTPUT?"
   ]
  },
  {
   "cell_type": "markdown",
   "id": "01a41eaa",
   "metadata": {},
   "source": [
    "### BLOCK"
   ]
  },
  {
   "cell_type": "code",
   "execution_count": 4,
   "id": "5059af97-295d-4348-baf0-845588076c2b",
   "metadata": {},
   "outputs": [
    {
     "name": "stdout",
     "output_type": "stream",
     "text": [
      "BLOCK sname='COMPGRID' fname='outgrid.nc' LAYOUT idla=3 &\n",
      "    DEPTH &\n",
      "    WIND &\n",
      "    HSIGN &\n",
      "    HSWELL &\n",
      "    DIR &\n",
      "    TPS &\n",
      "    OUTPUT tbegblk=19700101.000000 deltblk=60.0 MIN\n"
     ]
    }
   ],
   "source": [
    "# Specifying a single block component\n",
    "\n",
    "block = BLOCK(\n",
    "    sname=\"COMPGRID\",\n",
    "    fname=\"outgrid.nc\",\n",
    "    output=[\"depth\", \"wind\", \"hsign\", \"hswell\", \"dir\", \"tps\"],\n",
    "    times=TimeRangeOpen(tfmt=1, dfmt=\"min\"),\n",
    "    idla=3,\n",
    ")\n",
    "print(block.render())\n",
    "\n",
    "# Note\n",
    "# ----\n",
    "# The times field is overriden in the SwanConfig class using the general TimeRange\n",
    "# but it can be used here to specify the time format and the time delta formats"
   ]
  },
  {
   "cell_type": "code",
   "execution_count": 5,
   "id": "f5959fe2-5bbb-4944-8b50-effc3bcc8539",
   "metadata": {},
   "outputs": [
    {
     "name": "stdout",
     "output_type": "stream",
     "text": [
      "BLOCK sname='COMPGRID' fname='depth.txt' DEPTH\n",
      "BLOCK sname='COMPGRID' fname='hsign.txt' HSIGN\n",
      "BLOCK sname='COMPGRID' fname='tps.txt' TPS\n",
      "BLOCK sname='COMPGRID' fname='dir.txt' DIR\n"
     ]
    }
   ],
   "source": [
    "# Specifying multiple block components\n",
    "\n",
    "block1 = BLOCK(sname=\"COMPGRID\", fname=\"depth.txt\", output=[\"depth\"])\n",
    "block2 = BLOCK(sname=\"COMPGRID\", fname=\"hsign.txt\", output=[\"hsign\"])\n",
    "block3 = BLOCK(sname=\"COMPGRID\", fname=\"tps.txt\", output=[\"tps\"])\n",
    "block4 = BLOCK(sname=\"COMPGRID\", fname=\"dir.txt\", output=[\"dir\"])\n",
    "\n",
    "blocks = BLOCKS(components=[block1, block2, block3, block4])\n",
    "print(blocks.render())"
   ]
  },
  {
   "cell_type": "code",
   "execution_count": 6,
   "id": "1301a2f5",
   "metadata": {},
   "outputs": [
    {
     "name": "stdout",
     "output_type": "stream",
     "text": [
      "BLOCK sname='COMPGRID' fname='depth.txt' DEPTH\n",
      "\n",
      "BLOCK sname='COMPGRID' fname='hsign.txt' HSIGN\n",
      "\n",
      "BLOCK sname='COMPGRID' fname='tps.txt' TPS\n",
      "\n",
      "BLOCK sname='COMPGRID' fname='dir.txt' DIR\n"
     ]
    }
   ],
   "source": [
    "output = OUTPUT(block=blocks)\n",
    "print(output.render())"
   ]
  }
 ],
 "metadata": {
  "kernelspec": {
   "display_name": "rompy-swan",
   "language": "python",
   "name": "python3"
  },
  "language_info": {
   "codemirror_mode": {
    "name": "ipython",
    "version": 3
   },
   "file_extension": ".py",
   "mimetype": "text/x-python",
   "name": "python",
   "nbconvert_exporter": "python",
   "pygments_lexer": "ipython3",
   "version": "3.12.3"
  }
 },
 "nbformat": 4,
 "nbformat_minor": 5
}
