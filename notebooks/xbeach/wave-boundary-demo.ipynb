{
 "cells": [
  {
   "cell_type": "markdown",
   "metadata": {},
   "source": [
    "# XBeach Wave boundary\n",
    "\n",
    "Demo notebook with usage examples"
   ]
  },
  {
   "cell_type": "code",
   "execution_count": 1,
   "metadata": {},
   "outputs": [],
   "source": [
    "%load_ext autoreload\n",
    "%autoreload 2"
   ]
  },
  {
   "cell_type": "code",
   "execution_count": 2,
   "metadata": {},
   "outputs": [
    {
     "name": "stderr",
     "output_type": "stream",
     "text": [
      "/home/rguedes/.virtualenvs/xbeach/lib/python3.10/site-packages/pyschism/forcing/hycom/gofs.py:8: UserWarning: The seawater library is deprecated! Please use gsw instead.\n",
      "  import seawater as sw\n",
      "/home/rguedes/.virtualenvs/xbeach/lib/python3.10/site-packages/pydantic/_internal/_fields.py:172: UserWarning: Field name \"crs\" in \"SourceCRSWavespectra\" shadows an attribute in parent \"SourceMixin\"\n",
      "  warnings.warn(\n",
      "/home/rguedes/.virtualenvs/xbeach/lib/python3.10/site-packages/pydantic/_internal/_fields.py:172: UserWarning: Field name \"x_dim\" in \"SourceCRSWavespectra\" shadows an attribute in parent \"SourceMixin\"\n",
      "  warnings.warn(\n",
      "/home/rguedes/.virtualenvs/xbeach/lib/python3.10/site-packages/pydantic/_internal/_fields.py:172: UserWarning: Field name \"y_dim\" in \"SourceCRSWavespectra\" shadows an attribute in parent \"SourceMixin\"\n",
      "  warnings.warn(\n"
     ]
    }
   ],
   "source": [
    "from pathlib import Path\n",
    "import xarray as xr\n",
    "\n",
    "from rompy_xbeach.boundary import (\n",
    "    BoundaryStationSpectraJons,\n",
    ")\n",
    "\n",
    "import warnings\n",
    "warnings.filterwarnings(\"ignore\")"
   ]
  },
  {
   "cell_type": "code",
   "execution_count": 3,
   "metadata": {},
   "outputs": [],
   "source": [
    "datadir = Path(\"../../../rompy-xbeach/tests/data\")\n",
    "outdir = Path(\"wave-boundary-demo\")\n",
    "outdir.mkdir(exist_ok=True, parents=True)"
   ]
  },
  {
   "cell_type": "markdown",
   "metadata": {},
   "source": [
    "## Overview\n",
    "\n",
    "XBeach wave boundary objects provide an interface to generate wave boundary conditions\n",
    "from existing data.\n",
    "\n",
    "\n",
    "### 1. Input data\n",
    "\n",
    "#### 1.1. Input data structure\n",
    "\n",
    "Two types of data structure are supported:\n",
    "\n",
    "* **Gridded data**: The data are gridded over the (x, y) space. This type of data\n",
    "usually includes integraged parameters but it is also possible to have gridded wave\n",
    "spectra (e.g., ERA5 output).\n",
    "\n",
    "* **Station data**: The data are defined with a single \"station-type\" dimension which\n",
    "has associated variables to define the (x, y) coordinates of each station point.\n",
    "Wavespectra are typically specified with this structure but wave parameters can also be\n",
    "provided that way (e.g., SMC output).\n",
    "\n",
    "#### 1.2. Input data type\n",
    "\n",
    "Two types of data type are supported. These types may be specified from gridded and\n",
    "station data structures.\n",
    "\n",
    "* **Frequency-direction wave spectra**: Prescribe wave boundary conditions from the\n",
    "full spectra\n",
    "\n",
    "* **Integrated wave parameters**: Prescribe wave boundary conditions from integrated\n",
    "wave parameters\n",
    "\n",
    "\n",
    "### 2. XBeach `bctype`\n",
    "\n",
    "XBeach can be run off wave spectra or wave parameters. The model uses the `bctype`\n",
    "parameter to receive different types of wave boundary data.\n",
    "\n",
    "\n",
    "### 3. Rompy-XBeach interface\n",
    "\n",
    "The interface in rompy-xbeach allow constructing different `bctype` options from the\n",
    "supported range of input data structures and data types. Each object is defined as\n",
    "follows:\n",
    "\n",
    "`Boundary{Data-structure}{Data-type}{Bctype}`\n",
    "\n",
    "For example, the `BoundaryStationSpectraJons` interface deals with `station`, 2D\n",
    "`spectra` data and produces `jons` bctype."
   ]
  },
  {
   "cell_type": "markdown",
   "metadata": {},
   "source": [
    "## Interfaces\n",
    "\n",
    "XBeach boundary interfaces are intantiated with a `Source` instance plus some parameters\n",
    "that are specific to each input data and bctype. They all have a `get()` method which\n",
    "takes as inputs the workspace `destdir` directory, the model `grid`, and the model `time`.\n",
    "The source data are sliced at the location of the offshore boundary, defined from the grid,\n",
    "and over the model times. The sliced data is used to create XBeach `bcfile` data. The\n",
    "method returns a dictionary with the key-value pair to write in the XBeach params file."
   ]
  },
  {
   "cell_type": "markdown",
   "metadata": {},
   "source": [
    "### BoundaryStationSpectraJons\n",
    "\n",
    "XBeach jonswap type wave boundary from station spectra input data"
   ]
  },
  {
   "cell_type": "code",
   "execution_count": 4,
   "metadata": {},
   "outputs": [],
   "source": [
    "from rompy.core.time import TimeRange\n",
    "from rompy_xbeach.grid import RegularGrid\n",
    "from rompy_xbeach.source import SourceCRSWavespectra\n",
    "from rompy_xbeach.boundary import BoundaryStationSpectraJons"
   ]
  },
  {
   "cell_type": "code",
   "execution_count": 5,
   "metadata": {},
   "outputs": [],
   "source": [
    "# Data source\n",
    "source = SourceCRSWavespectra(uri=datadir / \"aus-20230101.nc\", reader=\"read_ww3\")\n",
    "\n",
    "# Model times\n",
    "time = TimeRange(start=\"2023-01-01T00\", end=\"2023-01-01T12\", interval=\"1h\")\n",
    "\n",
    "# Model grid\n",
    "grid = RegularGrid(\n",
    "    ori=dict(x=115.594239, y=-32.641104, crs=\"epsg:4326\"),\n",
    "    alfa=347.0,\n",
    "    dx=10,\n",
    "    dy=15,\n",
    "    nx=230,\n",
    "    ny=220,\n",
    "    crs=\"28350\",\n",
    ")"
   ]
  },
  {
   "cell_type": "markdown",
   "metadata": {},
   "source": [
    "#### Multiple bcfiles\n",
    "\n",
    "\n",
    "By default, multiple bcfiles with the associated filelist file are generated if the\n",
    "multiple time steps are available in the source data within the time range provided.\n",
    "This behaviour is controlled by the `filelist` parameter which defaults to True`."
   ]
  },
  {
   "cell_type": "code",
   "execution_count": 6,
   "metadata": {},
   "outputs": [
    {
     "data": {
      "text/plain": [
       "{'filelist': 'filelist.txt'}"
      ]
     },
     "execution_count": 6,
     "metadata": {},
     "output_type": "execute_result"
    }
   ],
   "source": [
    "destdir = outdir / \"jons_multi\"\n",
    "destdir.mkdir(exist_ok=True)\n",
    "\n",
    "# The filelist parameter indicates one bcfile will be generated for each time\n",
    "# step and a filelist file will be generated with the list of bcfiles. The coords\n",
    "# parameter is usually not needed for wavespectra type sources since wavespectra datasets\n",
    "# have established conventions for the coordinates. The dbtc parameter is specific to the\n",
    "# Jons bctype and defines the internal XBeach timestep of the generated wave timeseries. \n",
    "\n",
    "wb = BoundaryStationSpectraJons(\n",
    "    id=\"test\",\n",
    "    source=source,\n",
    "    filelist=True, # this is the default value\n",
    "    coords=dict(x=\"lon\", y=\"lat\", s=\"site\"), # this is the default value\n",
    "    dbtc=2.0, # timestep of the generated wave timeseries, ignore it to let xbeach decide\n",
    "    fnyq=0.3, # Nyquist frequency, ignore it to let xbeach decide\n",
    "    dfj=None, # step size frequency for the Jonswap spectrum, ignore it to let xbeach decide\n",
    ")\n",
    "\n",
    "# Generate the XBeach boundary files and return the list of bcfiles\n",
    "\n",
    "namelist = wb.get(destdir=destdir, grid=grid, time=time)\n",
    "namelist"
   ]
  },
  {
   "cell_type": "code",
   "execution_count": 7,
   "metadata": {},
   "outputs": [
    {
     "data": {
      "text/plain": [
       "[PosixPath('wave-boundary-demo/jons_multi/filelist.txt'),\n",
       " PosixPath('wave-boundary-demo/jons_multi/jons-20230101T060000.txt'),\n",
       " PosixPath('wave-boundary-demo/jons_multi/jons-20230101T000000.txt')]"
      ]
     },
     "execution_count": 7,
     "metadata": {},
     "output_type": "execute_result"
    }
   ],
   "source": [
    "# The filelist.txt is created in the destdir directory and contains the list of bcfiles\n",
    "# which are also created in the same workspace. One file is created for each time step\n",
    "# in the input source data within the time period specified in the time parameter (the\n",
    "# initial and end times are interpolated at time.start and time.end if these exact\n",
    "# times are not present in the source dataset).\n",
    "\n",
    "list(destdir.glob(\"*.txt\"))"
   ]
  },
  {
   "cell_type": "code",
   "execution_count": 8,
   "metadata": {},
   "outputs": [
    {
     "name": "stdout",
     "output_type": "stream",
     "text": [
      "FILELIST\n",
      "21600 2 jons-20230101T000000.txt\n",
      "21600 2 jons-20230101T060000.txt\n",
      "\n"
     ]
    }
   ],
   "source": [
    "# Let's inspect the content of filelist.txt. Note the duration is defined by the time\n",
    "# steps in the source dataset which in this test data file is 6h.\n",
    "\n",
    "filelist = destdir / \"filelist.txt\"\n",
    "print(filelist.read_text())"
   ]
  },
  {
   "cell_type": "code",
   "execution_count": 9,
   "metadata": {},
   "outputs": [
    {
     "name": "stdout",
     "output_type": "stream",
     "text": [
      "gammajsp = 2.37594\n",
      "Hm0 = 0.451453\n",
      "mainang = 44.6871\n",
      "fnyq = 0.3\n",
      "Tp = 14.3738\n",
      "s = 66.9335\n",
      "\n"
     ]
    }
   ],
   "source": [
    "# And the content of one of the bcfiles\n",
    "\n",
    "bcfile = destdir / filelist.read_text().split(\"\\n\")[1].split()[-1]\n",
    "print(bcfile.read_text())"
   ]
  },
  {
   "cell_type": "markdown",
   "metadata": {},
   "source": [
    "#### Single bcfile\n",
    "\n",
    "If the `filelist` parameter is set to `False`, a single `bcfile` is created at `time.start`\n",
    "and used to run the entire simulation period."
   ]
  },
  {
   "cell_type": "code",
   "execution_count": 10,
   "metadata": {},
   "outputs": [
    {
     "data": {
      "text/plain": [
       "{'bcfile': 'jons-20230101T000000.txt'}"
      ]
     },
     "execution_count": 10,
     "metadata": {},
     "output_type": "execute_result"
    }
   ],
   "source": [
    "destdir = outdir / \"jons_single\"\n",
    "destdir.mkdir(exist_ok=True)\n",
    "\n",
    "# Single bcfile at time.start\n",
    "\n",
    "wb = BoundaryStationSpectraJons(\n",
    "    id=\"test\",\n",
    "    source=source,\n",
    "    filelist=False\n",
    ")\n",
    "\n",
    "# Generate the XBeach boundary file, notice the 'bcfile' parameter is returned in the\n",
    "# namelist in this case instead of 'filelist'.\n",
    "\n",
    "bcfile = wb.get(destdir=destdir, grid=grid, time=time)\n",
    "bcfile"
   ]
  },
  {
   "cell_type": "code",
   "execution_count": 11,
   "metadata": {},
   "outputs": [
    {
     "data": {
      "text/plain": [
       "[PosixPath('wave-boundary-demo/jons_single/jons-20230101T020000.txt'),\n",
       " PosixPath('wave-boundary-demo/jons_single/filelist.txt'),\n",
       " PosixPath('wave-boundary-demo/jons_single/jons-20230101T030000.txt'),\n",
       " PosixPath('wave-boundary-demo/jons_single/jons-20230101T010000.txt'),\n",
       " PosixPath('wave-boundary-demo/jons_single/jons-20230101T000000.txt')]"
      ]
     },
     "execution_count": 11,
     "metadata": {},
     "output_type": "execute_result"
    }
   ],
   "source": [
    "# The filelist file is not created in the workspace, only one single bcfile.\n",
    "\n",
    "workspace_files = list(destdir.glob(\"*.txt\"))\n",
    "workspace_files"
   ]
  },
  {
   "cell_type": "code",
   "execution_count": 12,
   "metadata": {},
   "outputs": [
    {
     "name": "stdout",
     "output_type": "stream",
     "text": [
      "mainang = 265.291\n",
      "Hm0 = 0.816745\n",
      "s = 50.9067\n",
      "Tp = 16.2331\n",
      "gammajsp = 3.49984\n",
      "\n"
     ]
    }
   ],
   "source": [
    "print(workspace_files[0].read_text())"
   ]
  },
  {
   "cell_type": "markdown",
   "metadata": {},
   "source": [
    "### BoundaryStationParamJons\n",
    "\n",
    "XBeach jonswap type wave boundary from station parameters input data"
   ]
  },
  {
   "cell_type": "code",
   "execution_count": 13,
   "metadata": {},
   "outputs": [],
   "source": [
    "from rompy_xbeach.source import SourceCRSFile\n",
    "from rompy_xbeach.boundary import BoundaryStationParamJons"
   ]
  },
  {
   "cell_type": "code",
   "execution_count": 14,
   "metadata": {},
   "outputs": [],
   "source": [
    "# Data source\n",
    "source = SourceCRSFile(\n",
    "    uri=datadir / \"smc-params-20230101.nc\",\n",
    "    crs=4326,\n",
    "    x_dim=\"lon\",\n",
    "    y_dim=\"lat\",\n",
    ")\n",
    "\n",
    "# Model times\n",
    "time = TimeRange(start=\"2023-01-01T00\", end=\"2023-01-01T04\", interval=\"1h\")"
   ]
  },
  {
   "cell_type": "markdown",
   "metadata": {},
   "source": [
    "#### Multiple bcfiles"
   ]
  },
  {
   "cell_type": "code",
   "execution_count": 15,
   "metadata": {},
   "outputs": [
    {
     "data": {
      "text/plain": [
       "{'filelist': 'filelist.txt'}"
      ]
     },
     "execution_count": 15,
     "metadata": {},
     "output_type": "execute_result"
    }
   ],
   "source": [
    "# Destination directory\n",
    "destdir = outdir / \"param_jons_multi\"\n",
    "destdir.mkdir(exist_ok=True)\n",
    "\n",
    "# Instantiate the boundary object\n",
    "wb = BoundaryStationParamJons(\n",
    "    id=\"test\",\n",
    "    source=source,\n",
    "    coords=dict(s=\"seapoint\", x=\"longitude\", y=\"latitude\", t=\"time\"),\n",
    "    hm0=\"phs1\",\n",
    "    tp=\"ptp1\",\n",
    "    mainang=\"pdp1\",\n",
    "    gammajsp=\"ppe1\",\n",
    "    dspr=\"pspr1\",\n",
    ")\n",
    "\n",
    "# Generate the XBeach boundary files and return the list of bcfiles\n",
    "namelist = wb.get(destdir=destdir, grid=grid, time=time)\n",
    "namelist"
   ]
  },
  {
   "cell_type": "code",
   "execution_count": 16,
   "metadata": {},
   "outputs": [
    {
     "data": {
      "text/plain": [
       "[PosixPath('wave-boundary-demo/param_jons_multi/jons-20230101T020000.txt'),\n",
       " PosixPath('wave-boundary-demo/param_jons_multi/filelist.txt'),\n",
       " PosixPath('wave-boundary-demo/param_jons_multi/jons-20230101T030000.txt'),\n",
       " PosixPath('wave-boundary-demo/param_jons_multi/jons-20230101T010000.txt'),\n",
       " PosixPath('wave-boundary-demo/param_jons_multi/jons-20230101T000000.txt')]"
      ]
     },
     "execution_count": 16,
     "metadata": {},
     "output_type": "execute_result"
    }
   ],
   "source": [
    "list(destdir.glob(\"*.txt\"))"
   ]
  },
  {
   "cell_type": "code",
   "execution_count": 17,
   "metadata": {},
   "outputs": [
    {
     "name": "stdout",
     "output_type": "stream",
     "text": [
      "FILELIST\n",
      "3600 1 jons-20230101T000000.txt\n",
      "3600 1 jons-20230101T010000.txt\n",
      "3600 1 jons-20230101T020000.txt\n",
      "3600 1 jons-20230101T030000.txt\n",
      "\n"
     ]
    }
   ],
   "source": [
    "filelist = destdir / \"filelist.txt\"\n",
    "print(filelist.read_text())"
   ]
  },
  {
   "cell_type": "markdown",
   "metadata": {},
   "source": [
    "#### Single bcfile"
   ]
  },
  {
   "cell_type": "code",
   "execution_count": 18,
   "metadata": {},
   "outputs": [
    {
     "data": {
      "text/plain": [
       "{'bcfile': 'jons-20230101T000000.txt'}"
      ]
     },
     "execution_count": 18,
     "metadata": {},
     "output_type": "execute_result"
    }
   ],
   "source": [
    "# Destination directory\n",
    "destdir = outdir / \"param_jons_single\"\n",
    "destdir.mkdir(exist_ok=True)\n",
    "\n",
    "wb = BoundaryStationParamJons(\n",
    "    id=\"test\",\n",
    "    filelist=False,\n",
    "    source=source,\n",
    "    coords=dict(s=\"seapoint\"), # all other coordinates are equal to the default values\n",
    "    hm0=\"phs1\",\n",
    "    tp=\"ptp1\",\n",
    "    mainang=\"pdp1\",\n",
    "    gammajsp=\"ppe1\",\n",
    "    dspr=\"pspr1\",\n",
    ")\n",
    "\n",
    "# Generate the XBeach boundary files and return the list of bcfiles\n",
    "bcfile = wb.get(destdir=destdir, grid=grid, time=time)\n",
    "bcfile"
   ]
  },
  {
   "cell_type": "code",
   "execution_count": 19,
   "metadata": {},
   "outputs": [
    {
     "data": {
      "text/plain": [
       "[PosixPath('wave-boundary-demo/param_jons_single/jons-20230101T000000.txt')]"
      ]
     },
     "execution_count": 19,
     "metadata": {},
     "output_type": "execute_result"
    }
   ],
   "source": [
    "workspace_files = list(destdir.glob(\"*.txt\"))\n",
    "workspace_files"
   ]
  },
  {
   "cell_type": "code",
   "execution_count": 20,
   "metadata": {},
   "outputs": [
    {
     "name": "stdout",
     "output_type": "stream",
     "text": [
      "gammajsp = 1.06363\n",
      "Hm0 = 1.34021\n",
      "mainang = 246.014\n",
      "Tp = 10.1854\n",
      "s = 11.1119\n",
      "\n"
     ]
    }
   ],
   "source": [
    "print(workspace_files[0].read_text())"
   ]
  },
  {
   "cell_type": "markdown",
   "metadata": {},
   "source": [
    "#### Default parameters\n",
    "\n",
    "Fields `hm0`, `tp` and `mainang` are required in `BoundaryStationParamJons`. The other\n",
    "parameters `gammajsp` and `dspr` are optional and defined internally by XBeach if not provided"
   ]
  },
  {
   "cell_type": "code",
   "execution_count": 21,
   "metadata": {},
   "outputs": [
    {
     "name": "stdout",
     "output_type": "stream",
     "text": [
      "Hm0 = 1.34021\n",
      "mainang = 246.014\n",
      "Tp = 10.1854\n",
      "\n"
     ]
    }
   ],
   "source": [
    "wb = BoundaryStationParamJons(\n",
    "    id=\"test\",\n",
    "    filelist=False,\n",
    "    source=source,\n",
    "    coords=dict(s=\"seapoint\"),\n",
    "    hm0=\"phs1\",\n",
    "    tp=\"ptp1\",\n",
    "    mainang=\"pdp1\",\n",
    ")\n",
    "\n",
    "bcfile = wb.get(destdir=destdir, grid=grid, time=time)\n",
    "\n",
    "print(workspace_files[0].read_text())"
   ]
  },
  {
   "cell_type": "markdown",
   "metadata": {},
   "source": [
    "Alternatively, it is possible to define any of the jonswap parameters as a float value,\n",
    "in which case that float is used to define the jonswap parameter in the bcfiles"
   ]
  },
  {
   "cell_type": "code",
   "execution_count": 22,
   "metadata": {},
   "outputs": [
    {
     "name": "stdout",
     "output_type": "stream",
     "text": [
      "gammajsp = 3\n",
      "Hm0 = 1.34021\n",
      "mainang = 246.014\n",
      "Tp = 10.1854\n",
      "s = 15.414\n",
      "\n"
     ]
    }
   ],
   "source": [
    "wb = BoundaryStationParamJons(\n",
    "    id=\"test\",\n",
    "    filelist=False,\n",
    "    source=source,\n",
    "    coords=dict(s=\"seapoint\"),\n",
    "    hm0=\"phs1\",\n",
    "    tp=\"ptp1\",\n",
    "    mainang=\"pdp1\",\n",
    "    dspr=20.0,\n",
    "    gammajsp=3.0,\n",
    ")\n",
    "\n",
    "bcfile = wb.get(destdir=destdir, grid=grid, time=time)\n",
    "\n",
    "print(workspace_files[0].read_text())"
   ]
  },
  {
   "cell_type": "markdown",
   "metadata": {},
   "source": [
    "Notice `BoundaryStationParamJons` takes the directional wave spreading `dspr` as input,\n",
    "in degrees, which is the parameter usually available from spectral wave models. The\n",
    "Jonswap spreading coefficient `s` is calculated from that."
   ]
  }
 ],
 "metadata": {
  "kernelspec": {
   "display_name": "xbeach",
   "language": "python",
   "name": "python3"
  },
  "language_info": {
   "codemirror_mode": {
    "name": "ipython",
    "version": 3
   },
   "file_extension": ".py",
   "mimetype": "text/x-python",
   "name": "python",
   "nbconvert_exporter": "python",
   "pygments_lexer": "ipython3",
   "version": "3.10.12"
  }
 },
 "nbformat": 4,
 "nbformat_minor": 2
}
