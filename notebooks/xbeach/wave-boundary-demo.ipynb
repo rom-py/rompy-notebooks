{
 "cells": [
  {
   "cell_type": "markdown",
   "metadata": {},
   "source": [
    "# XBeach Wave boundary\n",
    "\n",
    "Demo notebook with usage examples"
   ]
  },
  {
   "cell_type": "code",
   "execution_count": 1,
   "metadata": {},
   "outputs": [],
   "source": [
    "%load_ext autoreload\n",
    "%autoreload 2"
   ]
  },
  {
   "cell_type": "code",
   "execution_count": 2,
   "metadata": {},
   "outputs": [],
   "source": [
    "from pathlib import Path\n",
    "import xarray as xr\n",
    "\n",
    "import warnings\n",
    "warnings.filterwarnings(\"ignore\")"
   ]
  },
  {
   "cell_type": "code",
   "execution_count": 3,
   "metadata": {},
   "outputs": [],
   "source": [
    "datadir = Path(\"../../../rompy-xbeach/tests/data\")\n",
    "outdir = Path(\"wave-boundary-demo\")\n",
    "outdir.mkdir(exist_ok=True, parents=True)"
   ]
  },
  {
   "cell_type": "markdown",
   "metadata": {},
   "source": [
    "## Overview\n",
    "\n",
    "XBeach wave boundary objects provide an interface to generate wave boundary conditions\n",
    "from existing data.\n",
    "\n",
    "\n",
    "### 1. Input data\n",
    "\n",
    "#### 1.1. Input data structure\n",
    "\n",
    "Two types of data structure are supported:\n",
    "\n",
    "* **Gridded data**: The data are gridded over the (x, y) space. This type of data\n",
    "usually includes integraged parameters but it is also possible to have gridded wave\n",
    "spectra (e.g., ERA5 output).\n",
    "\n",
    "* **Station data**: The data are defined with a single \"station-type\" dimension which\n",
    "has associated variables to define the (x, y) coordinates of each station point.\n",
    "Wavespectra are typically specified with this structure but wave parameters can also be\n",
    "provided that way (e.g., SMC output).\n",
    "\n",
    "#### 1.2. Input data type\n",
    "\n",
    "Two types of data type are supported. These types may be specified from gridded and\n",
    "station data structures.\n",
    "\n",
    "* **Frequency-direction wave spectra**: Prescribe wave boundary conditions from the\n",
    "full spectra\n",
    "\n",
    "* **Integrated wave parameters**: Prescribe wave boundary conditions from integrated\n",
    "wave parameters\n",
    "\n",
    "\n",
    "### 2. XBeach `bctype`\n",
    "\n",
    "XBeach can be run off wave spectra or wave parameters. The model uses the `bctype`\n",
    "parameter to receive different types of wave boundary data.\n",
    "\n",
    "\n",
    "### 3. Rompy-XBeach interface\n",
    "\n",
    "The interface in rompy-xbeach allow constructing different `bctype` options from the\n",
    "supported range of input data structures and data types. Each object is defined as\n",
    "follows:\n",
    "\n",
    "`Boundary{Data-structure}{Data-type}{Bctype}`\n",
    "\n",
    "For example, the `BoundaryStationSpectraJons` interface deals with `station`, 2D\n",
    "`spectra` data and produces `jons` bctype."
   ]
  },
  {
   "cell_type": "markdown",
   "metadata": {},
   "source": [
    "## Interfaces\n",
    "\n",
    "XBeach boundary interfaces are intantiated with a `Source` instance plus some parameters\n",
    "that are specific to each input data and bctype. They all have a `get()` method which\n",
    "takes as inputs the workspace `destdir` directory, the model `grid`, and the model `time`.\n",
    "The source data are sliced at the location of the offshore boundary, defined from the grid,\n",
    "and over the model times. The sliced data is used to create XBeach `bcfile` data. The\n",
    "method returns a dictionary with the key-value pair to write in the XBeach params file."
   ]
  },
  {
   "cell_type": "markdown",
   "metadata": {},
   "source": [
    "Let's start off by defining some input source, time and grid objects to use with\n",
    "the different boundary objects. The `spectra` and `param` prefixes indicate objects to\n",
    "use with boundary objects based on spectra and integrated parameters data, respectively"
   ]
  },
  {
   "cell_type": "code",
   "execution_count": 4,
   "metadata": {},
   "outputs": [],
   "source": [
    "from rompy.core.time import TimeRange\n",
    "from rompy_xbeach.grid import RegularGrid\n",
    "from rompy_xbeach.source import SourceCRSWavespectra\n",
    "from rompy_xbeach.source import SourceCRSFile"
   ]
  },
  {
   "cell_type": "code",
   "execution_count": 5,
   "metadata": {},
   "outputs": [],
   "source": [
    "# Data source\n",
    "source_spectra = SourceCRSWavespectra(\n",
    "    uri=datadir / \"aus-20230101.nc\",\n",
    "    reader=\"read_ww3\",\n",
    ")\n",
    "source_param = source = SourceCRSFile(\n",
    "    uri=datadir / \"smc-params-20230101.nc\",\n",
    "    crs=4326,\n",
    "    x_dim=\"lon\",\n",
    "    y_dim=\"lat\",\n",
    ")\n",
    "\n",
    "# Model times\n",
    "times_spectra = TimeRange(start=\"2023-01-01T00\", end=\"2023-01-01T12\", interval=\"1h\")\n",
    "times_param = TimeRange(start=\"2023-01-01T00\", end=\"2023-01-01T03\", interval=\"1h\")\n",
    "\n",
    "# Model grid\n",
    "grid = RegularGrid(\n",
    "    ori=dict(x=115.594239, y=-32.641104, crs=\"epsg:4326\"),\n",
    "    alfa=347.0,\n",
    "    dx=10,\n",
    "    dy=15,\n",
    "    nx=230,\n",
    "    ny=220,\n",
    "    crs=\"28350\",\n",
    ")"
   ]
  },
  {
   "cell_type": "markdown",
   "metadata": {},
   "source": [
    "## jons bctype"
   ]
  },
  {
   "cell_type": "markdown",
   "metadata": {},
   "source": [
    "### BoundaryStationSpectraJons\n",
    "\n",
    "XBeach jonswap type wave boundary from station spectra input data"
   ]
  },
  {
   "cell_type": "code",
   "execution_count": 6,
   "metadata": {},
   "outputs": [],
   "source": [
    "from rompy_xbeach.boundary import BoundaryStationSpectraJons"
   ]
  },
  {
   "cell_type": "markdown",
   "metadata": {},
   "source": [
    "#### Multiple bcfiles\n",
    "\n",
    "\n",
    "By default, multiple bcfiles with the associated filelist file are generated if the\n",
    "multiple time steps are available in the source data within the time range provided.\n",
    "This behaviour is controlled by the `filelist` parameter which defaults to True`."
   ]
  },
  {
   "cell_type": "code",
   "execution_count": 7,
   "metadata": {},
   "outputs": [
    {
     "data": {
      "text/plain": [
       "{'wbctype': 'jons', 'bcfile': 'jons-filelist.txt'}"
      ]
     },
     "execution_count": 7,
     "metadata": {},
     "output_type": "execute_result"
    }
   ],
   "source": [
    "destdir = outdir / \"jons_multi\"\n",
    "destdir.mkdir(exist_ok=True)\n",
    "\n",
    "# The filelist parameter indicates one bcfile will be generated for each time step and\n",
    "# a filelist file will be generated with the list of bcfiles. The coords parameter is\n",
    "# usually not needed for wavespectra type sources since wavespectra datasets have\n",
    "# established conventions for the coordinates. The dbtc parameter is specific to the\n",
    "# Jons bctype and defines the internal XBeach timestep of the generated wave timeseries. \n",
    "\n",
    "wb = BoundaryStationSpectraJons(\n",
    "    source=source_spectra,\n",
    "    filelist=True, # this is the default value\n",
    "    coords=dict(x=\"lon\", y=\"lat\", s=\"site\"), # this is the default value\n",
    "    dbtc=2.0, # timestep of the generated wave timeseries, ignore it to let xbeach decide\n",
    "    fnyq=0.3, # Nyquist frequency, ignore it to let xbeach decide\n",
    "    dfj=None, # step size frequency for the Jonswap spectrum, ignore it to let xbeach decide\n",
    ")\n",
    "\n",
    "# Generate the XBeach boundary files and return the list of bcfiles\n",
    "\n",
    "namelist = wb.get(destdir=destdir, grid=grid, time=times_spectra)\n",
    "namelist"
   ]
  },
  {
   "cell_type": "code",
   "execution_count": 8,
   "metadata": {},
   "outputs": [
    {
     "data": {
      "text/plain": [
       "[PosixPath('wave-boundary-demo/jons_multi/jons-filelist.txt'),\n",
       " PosixPath('wave-boundary-demo/jons_multi/jons-20230101T060000.txt'),\n",
       " PosixPath('wave-boundary-demo/jons_multi/jons-20230101T000000.txt')]"
      ]
     },
     "execution_count": 8,
     "metadata": {},
     "output_type": "execute_result"
    }
   ],
   "source": [
    "# The jons-filelist.txt is created in the destdir directory and contains the list of\n",
    "# bcfiles which are also created in the same workspace. One file is created for each\n",
    "# time step in the input source data within the time period specified in the time\n",
    "# parameter (the initial and end times are interpolated at time.start and time.end if\n",
    "# these exact times are not present in the source dataset).\n",
    "\n",
    "list(destdir.glob(\"*.txt\"))"
   ]
  },
  {
   "cell_type": "code",
   "execution_count": 9,
   "metadata": {},
   "outputs": [
    {
     "name": "stdout",
     "output_type": "stream",
     "text": [
      "FILELIST\n",
      "21600 2 jons-20230101T000000.txt\n",
      "21600 2 jons-20230101T060000.txt\n",
      "\n"
     ]
    }
   ],
   "source": [
    "# Let's inspect the content of bcfile. Note the duration is defined by the\n",
    "# time steps in the source dataset which in this test data file is 6h.\n",
    "\n",
    "filelist = destdir / namelist[\"bcfile\"]\n",
    "print(filelist.read_text())"
   ]
  },
  {
   "cell_type": "code",
   "execution_count": 10,
   "metadata": {},
   "outputs": [
    {
     "name": "stdout",
     "output_type": "stream",
     "text": [
      "fnyq = 0.3\n",
      "Hm0 = 0.451453\n",
      "s = 66.9335\n",
      "mainang = 44.6871\n",
      "gammajsp = 2.37594\n",
      "Tp = 14.3738\n",
      "\n"
     ]
    }
   ],
   "source": [
    "# And the content of one of the bcfiles\n",
    "\n",
    "bcfile = destdir / filelist.read_text().split(\"\\n\")[1].split()[-1]\n",
    "print(bcfile.read_text())"
   ]
  },
  {
   "cell_type": "markdown",
   "metadata": {},
   "source": [
    "#### Single bcfile\n",
    "\n",
    "If the `filelist` parameter is set to `False`, a single `bcfile` is created at `time.start`\n",
    "and used to run the entire simulation period."
   ]
  },
  {
   "cell_type": "code",
   "execution_count": 11,
   "metadata": {},
   "outputs": [
    {
     "data": {
      "text/plain": [
       "{'wbctype': 'jons', 'bcfile': 'jons-20230101T000000.txt'}"
      ]
     },
     "execution_count": 11,
     "metadata": {},
     "output_type": "execute_result"
    }
   ],
   "source": [
    "destdir = outdir / \"jons_single\"\n",
    "destdir.mkdir(exist_ok=True)\n",
    "\n",
    "# Single bcfile at time.start\n",
    "wb = BoundaryStationSpectraJons(\n",
    "    source=source_spectra,\n",
    "    filelist=False\n",
    ")\n",
    "\n",
    "# Generate the XBeach boundary file\n",
    "namelist = wb.get(destdir=destdir, grid=grid, time=times_spectra)\n",
    "namelist"
   ]
  },
  {
   "cell_type": "code",
   "execution_count": 12,
   "metadata": {},
   "outputs": [
    {
     "data": {
      "text/plain": [
       "[PosixPath('wave-boundary-demo/jons_single/jons-20230101T000000.txt')]"
      ]
     },
     "execution_count": 12,
     "metadata": {},
     "output_type": "execute_result"
    }
   ],
   "source": [
    "# The filelist file is not created in the workspace, only one single bcfile\n",
    "\n",
    "workspace_files = list(destdir.glob(\"*.txt\"))\n",
    "workspace_files"
   ]
  },
  {
   "cell_type": "code",
   "execution_count": 13,
   "metadata": {},
   "outputs": [
    {
     "name": "stdout",
     "output_type": "stream",
     "text": [
      "Hm0 = 0.451453\n",
      "s = 66.9335\n",
      "mainang = 44.6871\n",
      "gammajsp = 2.37594\n",
      "Tp = 14.3738\n",
      "\n"
     ]
    }
   ],
   "source": [
    "print(workspace_files[0].read_text())"
   ]
  },
  {
   "cell_type": "markdown",
   "metadata": {},
   "source": [
    "### BoundaryStationParamJons\n",
    "\n",
    "XBeach jonswap type wave boundary from station parameters input data"
   ]
  },
  {
   "cell_type": "code",
   "execution_count": 14,
   "metadata": {},
   "outputs": [],
   "source": [
    "from rompy_xbeach.boundary import BoundaryStationParamJons"
   ]
  },
  {
   "cell_type": "markdown",
   "metadata": {},
   "source": [
    "#### Multiple bcfiles"
   ]
  },
  {
   "cell_type": "code",
   "execution_count": 15,
   "metadata": {},
   "outputs": [
    {
     "data": {
      "text/plain": [
       "{'wbctype': 'jons', 'bcfile': 'jons-filelist.txt'}"
      ]
     },
     "execution_count": 15,
     "metadata": {},
     "output_type": "execute_result"
    }
   ],
   "source": [
    "# Destination directory\n",
    "destdir = outdir / \"param_jons_multi\"\n",
    "destdir.mkdir(exist_ok=True)\n",
    "\n",
    "# Instantiate the boundary object\n",
    "wb = BoundaryStationParamJons(\n",
    "    source=source_param,\n",
    "    coords=dict(s=\"seapoint\", x=\"longitude\", y=\"latitude\", t=\"time\"),\n",
    "    hm0=\"phs1\",\n",
    "    tp=\"ptp1\",\n",
    "    mainang=\"pdp1\",\n",
    "    gammajsp=\"ppe1\",\n",
    "    dspr=\"pspr1\",\n",
    ")\n",
    "\n",
    "# Generate the XBeach boundary files and return the list of bcfiles\n",
    "namelist = wb.get(destdir=destdir, grid=grid, time=times_param)\n",
    "namelist"
   ]
  },
  {
   "cell_type": "code",
   "execution_count": 16,
   "metadata": {},
   "outputs": [
    {
     "data": {
      "text/plain": [
       "[PosixPath('wave-boundary-demo/param_jons_multi/jons-20230101T000000.txt'),\n",
       " PosixPath('wave-boundary-demo/param_jons_multi/jons-20230101T010000.txt'),\n",
       " PosixPath('wave-boundary-demo/param_jons_multi/jons-20230101T020000.txt'),\n",
       " PosixPath('wave-boundary-demo/param_jons_multi/jons-filelist.txt')]"
      ]
     },
     "execution_count": 16,
     "metadata": {},
     "output_type": "execute_result"
    }
   ],
   "source": [
    "sorted(destdir.glob(\"*.txt\"))"
   ]
  },
  {
   "cell_type": "code",
   "execution_count": 17,
   "metadata": {},
   "outputs": [
    {
     "name": "stdout",
     "output_type": "stream",
     "text": [
      "FILELIST\n",
      "3600 1 jons-20230101T000000.txt\n",
      "3600 1 jons-20230101T010000.txt\n",
      "3600 1 jons-20230101T020000.txt\n",
      "\n"
     ]
    }
   ],
   "source": [
    "filelist = destdir / namelist[\"bcfile\"]\n",
    "print(filelist.read_text())"
   ]
  },
  {
   "cell_type": "markdown",
   "metadata": {},
   "source": [
    "#### Single bcfile"
   ]
  },
  {
   "cell_type": "code",
   "execution_count": 18,
   "metadata": {},
   "outputs": [
    {
     "data": {
      "text/plain": [
       "{'wbctype': 'jons', 'bcfile': 'jons-20230101T000000.txt'}"
      ]
     },
     "execution_count": 18,
     "metadata": {},
     "output_type": "execute_result"
    }
   ],
   "source": [
    "# Destination directory\n",
    "destdir = outdir / \"param_jons_single\"\n",
    "destdir.mkdir(exist_ok=True)\n",
    "\n",
    "wb = BoundaryStationParamJons(\n",
    "    filelist=False,\n",
    "    source=source_param,\n",
    "    coords=dict(s=\"seapoint\"), # all other coordinates are equal to the default values\n",
    "    hm0=\"phs1\",\n",
    "    tp=\"ptp1\",\n",
    "    mainang=\"pdp1\",\n",
    "    gammajsp=\"ppe1\",\n",
    "    dspr=\"pspr1\",\n",
    ")\n",
    "\n",
    "# Generate the XBeach boundary files and return the list of bcfiles\n",
    "namelist = wb.get(destdir=destdir, grid=grid, time=times_param)\n",
    "namelist"
   ]
  },
  {
   "cell_type": "code",
   "execution_count": 19,
   "metadata": {},
   "outputs": [
    {
     "data": {
      "text/plain": [
       "[PosixPath('wave-boundary-demo/param_jons_single/jons-20230101T000000.txt')]"
      ]
     },
     "execution_count": 19,
     "metadata": {},
     "output_type": "execute_result"
    }
   ],
   "source": [
    "workspace_files = list(destdir.glob(\"*.txt\"))\n",
    "workspace_files"
   ]
  },
  {
   "cell_type": "code",
   "execution_count": 20,
   "metadata": {},
   "outputs": [
    {
     "name": "stdout",
     "output_type": "stream",
     "text": [
      "Hm0 = 0.875435\n",
      "s = 21.9514\n",
      "mainang = 254.158\n",
      "gammajsp = 2.68225\n",
      "Tp = 13.1659\n",
      "\n"
     ]
    }
   ],
   "source": [
    "print(workspace_files[0].read_text())"
   ]
  },
  {
   "cell_type": "markdown",
   "metadata": {},
   "source": [
    "#### Default parameters\n",
    "\n",
    "Fields `hm0`, `tp` and `mainang` are required in `BoundaryStationParamJons`. The other\n",
    "parameters `gammajsp` and `dspr` are optional and defined internally by XBeach if not provided"
   ]
  },
  {
   "cell_type": "code",
   "execution_count": 21,
   "metadata": {},
   "outputs": [
    {
     "name": "stdout",
     "output_type": "stream",
     "text": [
      "Hm0 = 0.875435\n",
      "mainang = 254.158\n",
      "Tp = 13.1659\n",
      "\n"
     ]
    }
   ],
   "source": [
    "wb = BoundaryStationParamJons(\n",
    "    filelist=False,\n",
    "    source=source_param,\n",
    "    coords=dict(s=\"seapoint\"),\n",
    "    hm0=\"phs1\",\n",
    "    tp=\"ptp1\",\n",
    "    mainang=\"pdp1\",\n",
    ")\n",
    "\n",
    "bcfile = wb.get(destdir=destdir, grid=grid, time=times_param)\n",
    "\n",
    "print(workspace_files[0].read_text())"
   ]
  },
  {
   "cell_type": "markdown",
   "metadata": {},
   "source": [
    "Alternatively, it is possible to define any of the jonswap parameters as a float value,\n",
    "in which case that float is used to define the jonswap parameter in the bcfiles"
   ]
  },
  {
   "cell_type": "code",
   "execution_count": 22,
   "metadata": {},
   "outputs": [
    {
     "name": "stdout",
     "output_type": "stream",
     "text": [
      "Hm0 = 0.875435\n",
      "s = 15.414\n",
      "mainang = 254.158\n",
      "gammajsp = 3\n",
      "Tp = 13.1659\n",
      "\n"
     ]
    }
   ],
   "source": [
    "wb = BoundaryStationParamJons(\n",
    "    filelist=False,\n",
    "    source=source_param,\n",
    "    coords=dict(s=\"seapoint\"),\n",
    "    hm0=\"phs1\",\n",
    "    tp=\"ptp1\",\n",
    "    mainang=\"pdp1\",\n",
    "    dspr=20.0,\n",
    "    gammajsp=3.0,\n",
    ")\n",
    "\n",
    "bcfile = wb.get(destdir=destdir, grid=grid, time=times_param)\n",
    "\n",
    "print(workspace_files[0].read_text())"
   ]
  },
  {
   "cell_type": "markdown",
   "metadata": {},
   "source": [
    "Notice `BoundaryStationParamJons` takes the directional wave spreading `dspr` as input,\n",
    "in degrees, which is the parameter usually available from spectral wave models - the\n",
    "Jonswap spreading coefficient `s` is calculated from that parameter"
   ]
  },
  {
   "cell_type": "markdown",
   "metadata": {},
   "source": [
    "## jonstable bctype"
   ]
  },
  {
   "cell_type": "markdown",
   "metadata": {},
   "source": [
    "### BoundaryStationSpectraJonstable\n",
    "\n",
    "XBeach jonswap table type wave boundary from station spectra input data"
   ]
  },
  {
   "cell_type": "code",
   "execution_count": 23,
   "metadata": {},
   "outputs": [],
   "source": [
    "from rompy_xbeach.boundary import BoundaryStationSpectraJonstable"
   ]
  },
  {
   "cell_type": "code",
   "execution_count": 24,
   "metadata": {},
   "outputs": [
    {
     "data": {
      "text/plain": [
       "{'wbctype': 'jonstable',\n",
       " 'bcfile': 'jonstable-20230101T000000-20230101T120000.txt'}"
      ]
     },
     "execution_count": 24,
     "metadata": {},
     "output_type": "execute_result"
    }
   ],
   "source": [
    "destdir = outdir / \"jonstable_spectra\"\n",
    "destdir.mkdir(exist_ok=True)\n",
    "\n",
    "# Instantiate the boundary object\n",
    "wb = BoundaryStationSpectraJonstable(\n",
    "    source=source_spectra,\n",
    ")\n",
    "\n",
    "# Generate the XBeach boundary file\n",
    "namelist = wb.get(destdir=destdir, grid=grid, time=times_spectra)\n",
    "namelist"
   ]
  },
  {
   "cell_type": "code",
   "execution_count": 25,
   "metadata": {},
   "outputs": [
    {
     "name": "stdout",
     "output_type": "stream",
     "text": [
      "0.451453 14.3738 44.6871 2.37594 66.9335 21600 1\n",
      "0.472394 14.4435 44.6857 2.45055 90.0861 21600 1\n",
      "0.490301 14.2813 44.7835 2.38401 48.2725 21600 1\n",
      "\n"
     ]
    }
   ],
   "source": [
    "filename = destdir / namelist[\"bcfile\"]\n",
    "print(filename.read_text())"
   ]
  },
  {
   "cell_type": "markdown",
   "metadata": {},
   "source": [
    "### BoundaryStationParamJonstable\n",
    "\n",
    "XBeach jonswap table type wave boundary from station parameters input data"
   ]
  },
  {
   "cell_type": "code",
   "execution_count": 26,
   "metadata": {},
   "outputs": [],
   "source": [
    "from rompy_xbeach.boundary import BoundaryStationParamJonstable"
   ]
  },
  {
   "cell_type": "code",
   "execution_count": 27,
   "metadata": {},
   "outputs": [
    {
     "data": {
      "text/plain": [
       "{'wbctype': 'jonstable',\n",
       " 'bcfile': 'jonstable-20230101T000000-20230101T030000.txt'}"
      ]
     },
     "execution_count": 27,
     "metadata": {},
     "output_type": "execute_result"
    }
   ],
   "source": [
    "destdir = outdir / \"jonstable_param\"\n",
    "destdir.mkdir(exist_ok=True)\n",
    "\n",
    "# Instantiate the boundary object\n",
    "wb = BoundaryStationParamJonstable(\n",
    "    source=source_param,\n",
    "    coords=dict(s=\"seapoint\"),\n",
    "    hm0=\"phs1\",\n",
    "    tp=\"ptp1\",\n",
    "    mainang=\"pdp1\",\n",
    "    gammajsp=\"ppe1\",\n",
    "    dspr=\"pspr1\",\n",
    ")\n",
    "\n",
    "# Generate the XBeach boundary files and return the list of bcfiles\n",
    "namelist = wb.get(destdir=destdir, grid=grid, time=times_param)\n",
    "namelist"
   ]
  },
  {
   "cell_type": "code",
   "execution_count": 28,
   "metadata": {},
   "outputs": [
    {
     "name": "stdout",
     "output_type": "stream",
     "text": [
      "0.875435 13.1659 254.158 2.68225 21.9514 3600 1\n",
      "0.909496 13.1292 254.18 2.71106 22.1417 3600 1\n",
      "0.802303 14.8497 258.658 3.33514 37.515 3600 1\n",
      "0.869525 14.4893 258.572 3.04059 32.5684 3600 1\n",
      "\n"
     ]
    }
   ],
   "source": [
    "filename = destdir / namelist[\"bcfile\"]\n",
    "print(filename.read_text())"
   ]
  },
  {
   "cell_type": "markdown",
   "metadata": {},
   "source": [
    "## SWAN bctype"
   ]
  },
  {
   "cell_type": "markdown",
   "metadata": {},
   "source": [
    "### BoundaryStationSpectraSwan\n",
    "\n",
    "XBeach SWAN 2D spectra type wave boundary from station spectra input data"
   ]
  },
  {
   "cell_type": "code",
   "execution_count": 29,
   "metadata": {},
   "outputs": [],
   "source": [
    "from wavespectra import read_swan\n",
    "\n",
    "from rompy_xbeach.boundary import BoundaryStationSpectraSwan"
   ]
  },
  {
   "cell_type": "markdown",
   "metadata": {},
   "source": [
    "#### Single bcfile"
   ]
  },
  {
   "cell_type": "code",
   "execution_count": 30,
   "metadata": {},
   "outputs": [
    {
     "data": {
      "text/plain": [
       "{'wbctype': 'swan', 'bcfile': 'swan-20230101T000000.txt'}"
      ]
     },
     "execution_count": 30,
     "metadata": {},
     "output_type": "execute_result"
    }
   ],
   "source": [
    "destdir = outdir / \"swan_spectra_single\"\n",
    "destdir.mkdir(exist_ok=True)\n",
    "\n",
    "# Instantiate the boundary object\n",
    "wb = BoundaryStationSpectraSwan(\n",
    "    source=source_spectra,\n",
    "    filelist=False\n",
    ")\n",
    "\n",
    "# Generate the XBeach boundary file\n",
    "namelist = wb.get(destdir=destdir, grid=grid, time=times_spectra)\n",
    "namelist"
   ]
  },
  {
   "cell_type": "code",
   "execution_count": 31,
   "metadata": {},
   "outputs": [
    {
     "data": {
      "text/html": [
       "<div><svg style=\"position: absolute; width: 0; height: 0; overflow: hidden\">\n",
       "<defs>\n",
       "<symbol id=\"icon-database\" viewBox=\"0 0 32 32\">\n",
       "<path d=\"M16 0c-8.837 0-16 2.239-16 5v4c0 2.761 7.163 5 16 5s16-2.239 16-5v-4c0-2.761-7.163-5-16-5z\"></path>\n",
       "<path d=\"M16 17c-8.837 0-16-2.239-16-5v6c0 2.761 7.163 5 16 5s16-2.239 16-5v-6c0 2.761-7.163 5-16 5z\"></path>\n",
       "<path d=\"M16 26c-8.837 0-16-2.239-16-5v6c0 2.761 7.163 5 16 5s16-2.239 16-5v-6c0 2.761-7.163 5-16 5z\"></path>\n",
       "</symbol>\n",
       "<symbol id=\"icon-file-text2\" viewBox=\"0 0 32 32\">\n",
       "<path d=\"M28.681 7.159c-0.694-0.947-1.662-2.053-2.724-3.116s-2.169-2.030-3.116-2.724c-1.612-1.182-2.393-1.319-2.841-1.319h-15.5c-1.378 0-2.5 1.121-2.5 2.5v27c0 1.378 1.122 2.5 2.5 2.5h23c1.378 0 2.5-1.122 2.5-2.5v-19.5c0-0.448-0.137-1.23-1.319-2.841zM24.543 5.457c0.959 0.959 1.712 1.825 2.268 2.543h-4.811v-4.811c0.718 0.556 1.584 1.309 2.543 2.268zM28 29.5c0 0.271-0.229 0.5-0.5 0.5h-23c-0.271 0-0.5-0.229-0.5-0.5v-27c0-0.271 0.229-0.5 0.5-0.5 0 0 15.499-0 15.5 0v7c0 0.552 0.448 1 1 1h7v19.5z\"></path>\n",
       "<path d=\"M23 26h-14c-0.552 0-1-0.448-1-1s0.448-1 1-1h14c0.552 0 1 0.448 1 1s-0.448 1-1 1z\"></path>\n",
       "<path d=\"M23 22h-14c-0.552 0-1-0.448-1-1s0.448-1 1-1h14c0.552 0 1 0.448 1 1s-0.448 1-1 1z\"></path>\n",
       "<path d=\"M23 18h-14c-0.552 0-1-0.448-1-1s0.448-1 1-1h14c0.552 0 1 0.448 1 1s-0.448 1-1 1z\"></path>\n",
       "</symbol>\n",
       "</defs>\n",
       "</svg>\n",
       "<style>/* CSS stylesheet for displaying xarray objects in jupyterlab.\n",
       " *\n",
       " */\n",
       "\n",
       ":root {\n",
       "  --xr-font-color0: var(--jp-content-font-color0, rgba(0, 0, 0, 1));\n",
       "  --xr-font-color2: var(--jp-content-font-color2, rgba(0, 0, 0, 0.54));\n",
       "  --xr-font-color3: var(--jp-content-font-color3, rgba(0, 0, 0, 0.38));\n",
       "  --xr-border-color: var(--jp-border-color2, #e0e0e0);\n",
       "  --xr-disabled-color: var(--jp-layout-color3, #bdbdbd);\n",
       "  --xr-background-color: var(--jp-layout-color0, white);\n",
       "  --xr-background-color-row-even: var(--jp-layout-color1, white);\n",
       "  --xr-background-color-row-odd: var(--jp-layout-color2, #eeeeee);\n",
       "}\n",
       "\n",
       "html[theme=dark],\n",
       "html[data-theme=dark],\n",
       "body[data-theme=dark],\n",
       "body.vscode-dark {\n",
       "  --xr-font-color0: rgba(255, 255, 255, 1);\n",
       "  --xr-font-color2: rgba(255, 255, 255, 0.54);\n",
       "  --xr-font-color3: rgba(255, 255, 255, 0.38);\n",
       "  --xr-border-color: #1F1F1F;\n",
       "  --xr-disabled-color: #515151;\n",
       "  --xr-background-color: #111111;\n",
       "  --xr-background-color-row-even: #111111;\n",
       "  --xr-background-color-row-odd: #313131;\n",
       "}\n",
       "\n",
       ".xr-wrap {\n",
       "  display: block !important;\n",
       "  min-width: 300px;\n",
       "  max-width: 700px;\n",
       "}\n",
       "\n",
       ".xr-text-repr-fallback {\n",
       "  /* fallback to plain text repr when CSS is not injected (untrusted notebook) */\n",
       "  display: none;\n",
       "}\n",
       "\n",
       ".xr-header {\n",
       "  padding-top: 6px;\n",
       "  padding-bottom: 6px;\n",
       "  margin-bottom: 4px;\n",
       "  border-bottom: solid 1px var(--xr-border-color);\n",
       "}\n",
       "\n",
       ".xr-header > div,\n",
       ".xr-header > ul {\n",
       "  display: inline;\n",
       "  margin-top: 0;\n",
       "  margin-bottom: 0;\n",
       "}\n",
       "\n",
       ".xr-obj-type,\n",
       ".xr-array-name {\n",
       "  margin-left: 2px;\n",
       "  margin-right: 10px;\n",
       "}\n",
       "\n",
       ".xr-obj-type {\n",
       "  color: var(--xr-font-color2);\n",
       "}\n",
       "\n",
       ".xr-sections {\n",
       "  padding-left: 0 !important;\n",
       "  display: grid;\n",
       "  grid-template-columns: 150px auto auto 1fr 20px 20px;\n",
       "}\n",
       "\n",
       ".xr-section-item {\n",
       "  display: contents;\n",
       "}\n",
       "\n",
       ".xr-section-item input {\n",
       "  display: none;\n",
       "}\n",
       "\n",
       ".xr-section-item input + label {\n",
       "  color: var(--xr-disabled-color);\n",
       "}\n",
       "\n",
       ".xr-section-item input:enabled + label {\n",
       "  cursor: pointer;\n",
       "  color: var(--xr-font-color2);\n",
       "}\n",
       "\n",
       ".xr-section-item input:enabled + label:hover {\n",
       "  color: var(--xr-font-color0);\n",
       "}\n",
       "\n",
       ".xr-section-summary {\n",
       "  grid-column: 1;\n",
       "  color: var(--xr-font-color2);\n",
       "  font-weight: 500;\n",
       "}\n",
       "\n",
       ".xr-section-summary > span {\n",
       "  display: inline-block;\n",
       "  padding-left: 0.5em;\n",
       "}\n",
       "\n",
       ".xr-section-summary-in:disabled + label {\n",
       "  color: var(--xr-font-color2);\n",
       "}\n",
       "\n",
       ".xr-section-summary-in + label:before {\n",
       "  display: inline-block;\n",
       "  content: '►';\n",
       "  font-size: 11px;\n",
       "  width: 15px;\n",
       "  text-align: center;\n",
       "}\n",
       "\n",
       ".xr-section-summary-in:disabled + label:before {\n",
       "  color: var(--xr-disabled-color);\n",
       "}\n",
       "\n",
       ".xr-section-summary-in:checked + label:before {\n",
       "  content: '▼';\n",
       "}\n",
       "\n",
       ".xr-section-summary-in:checked + label > span {\n",
       "  display: none;\n",
       "}\n",
       "\n",
       ".xr-section-summary,\n",
       ".xr-section-inline-details {\n",
       "  padding-top: 4px;\n",
       "  padding-bottom: 4px;\n",
       "}\n",
       "\n",
       ".xr-section-inline-details {\n",
       "  grid-column: 2 / -1;\n",
       "}\n",
       "\n",
       ".xr-section-details {\n",
       "  display: none;\n",
       "  grid-column: 1 / -1;\n",
       "  margin-bottom: 5px;\n",
       "}\n",
       "\n",
       ".xr-section-summary-in:checked ~ .xr-section-details {\n",
       "  display: contents;\n",
       "}\n",
       "\n",
       ".xr-array-wrap {\n",
       "  grid-column: 1 / -1;\n",
       "  display: grid;\n",
       "  grid-template-columns: 20px auto;\n",
       "}\n",
       "\n",
       ".xr-array-wrap > label {\n",
       "  grid-column: 1;\n",
       "  vertical-align: top;\n",
       "}\n",
       "\n",
       ".xr-preview {\n",
       "  color: var(--xr-font-color3);\n",
       "}\n",
       "\n",
       ".xr-array-preview,\n",
       ".xr-array-data {\n",
       "  padding: 0 5px !important;\n",
       "  grid-column: 2;\n",
       "}\n",
       "\n",
       ".xr-array-data,\n",
       ".xr-array-in:checked ~ .xr-array-preview {\n",
       "  display: none;\n",
       "}\n",
       "\n",
       ".xr-array-in:checked ~ .xr-array-data,\n",
       ".xr-array-preview {\n",
       "  display: inline-block;\n",
       "}\n",
       "\n",
       ".xr-dim-list {\n",
       "  display: inline-block !important;\n",
       "  list-style: none;\n",
       "  padding: 0 !important;\n",
       "  margin: 0;\n",
       "}\n",
       "\n",
       ".xr-dim-list li {\n",
       "  display: inline-block;\n",
       "  padding: 0;\n",
       "  margin: 0;\n",
       "}\n",
       "\n",
       ".xr-dim-list:before {\n",
       "  content: '(';\n",
       "}\n",
       "\n",
       ".xr-dim-list:after {\n",
       "  content: ')';\n",
       "}\n",
       "\n",
       ".xr-dim-list li:not(:last-child):after {\n",
       "  content: ',';\n",
       "  padding-right: 5px;\n",
       "}\n",
       "\n",
       ".xr-has-index {\n",
       "  font-weight: bold;\n",
       "}\n",
       "\n",
       ".xr-var-list,\n",
       ".xr-var-item {\n",
       "  display: contents;\n",
       "}\n",
       "\n",
       ".xr-var-item > div,\n",
       ".xr-var-item label,\n",
       ".xr-var-item > .xr-var-name span {\n",
       "  background-color: var(--xr-background-color-row-even);\n",
       "  margin-bottom: 0;\n",
       "}\n",
       "\n",
       ".xr-var-item > .xr-var-name:hover span {\n",
       "  padding-right: 5px;\n",
       "}\n",
       "\n",
       ".xr-var-list > li:nth-child(odd) > div,\n",
       ".xr-var-list > li:nth-child(odd) > label,\n",
       ".xr-var-list > li:nth-child(odd) > .xr-var-name span {\n",
       "  background-color: var(--xr-background-color-row-odd);\n",
       "}\n",
       "\n",
       ".xr-var-name {\n",
       "  grid-column: 1;\n",
       "}\n",
       "\n",
       ".xr-var-dims {\n",
       "  grid-column: 2;\n",
       "}\n",
       "\n",
       ".xr-var-dtype {\n",
       "  grid-column: 3;\n",
       "  text-align: right;\n",
       "  color: var(--xr-font-color2);\n",
       "}\n",
       "\n",
       ".xr-var-preview {\n",
       "  grid-column: 4;\n",
       "}\n",
       "\n",
       ".xr-index-preview {\n",
       "  grid-column: 2 / 5;\n",
       "  color: var(--xr-font-color2);\n",
       "}\n",
       "\n",
       ".xr-var-name,\n",
       ".xr-var-dims,\n",
       ".xr-var-dtype,\n",
       ".xr-preview,\n",
       ".xr-attrs dt {\n",
       "  white-space: nowrap;\n",
       "  overflow: hidden;\n",
       "  text-overflow: ellipsis;\n",
       "  padding-right: 10px;\n",
       "}\n",
       "\n",
       ".xr-var-name:hover,\n",
       ".xr-var-dims:hover,\n",
       ".xr-var-dtype:hover,\n",
       ".xr-attrs dt:hover {\n",
       "  overflow: visible;\n",
       "  width: auto;\n",
       "  z-index: 1;\n",
       "}\n",
       "\n",
       ".xr-var-attrs,\n",
       ".xr-var-data,\n",
       ".xr-index-data {\n",
       "  display: none;\n",
       "  background-color: var(--xr-background-color) !important;\n",
       "  padding-bottom: 5px !important;\n",
       "}\n",
       "\n",
       ".xr-var-attrs-in:checked ~ .xr-var-attrs,\n",
       ".xr-var-data-in:checked ~ .xr-var-data,\n",
       ".xr-index-data-in:checked ~ .xr-index-data {\n",
       "  display: block;\n",
       "}\n",
       "\n",
       ".xr-var-data > table {\n",
       "  float: right;\n",
       "}\n",
       "\n",
       ".xr-var-name span,\n",
       ".xr-var-data,\n",
       ".xr-index-name div,\n",
       ".xr-index-data,\n",
       ".xr-attrs {\n",
       "  padding-left: 25px !important;\n",
       "}\n",
       "\n",
       ".xr-attrs,\n",
       ".xr-var-attrs,\n",
       ".xr-var-data,\n",
       ".xr-index-data {\n",
       "  grid-column: 1 / -1;\n",
       "}\n",
       "\n",
       "dl.xr-attrs {\n",
       "  padding: 0;\n",
       "  margin: 0;\n",
       "  display: grid;\n",
       "  grid-template-columns: 125px auto;\n",
       "}\n",
       "\n",
       ".xr-attrs dt,\n",
       ".xr-attrs dd {\n",
       "  padding: 0;\n",
       "  margin: 0;\n",
       "  float: left;\n",
       "  padding-right: 10px;\n",
       "  width: auto;\n",
       "}\n",
       "\n",
       ".xr-attrs dt {\n",
       "  font-weight: normal;\n",
       "  grid-column: 1;\n",
       "}\n",
       "\n",
       ".xr-attrs dt:hover span {\n",
       "  display: inline-block;\n",
       "  background: var(--xr-background-color);\n",
       "  padding-right: 10px;\n",
       "}\n",
       "\n",
       ".xr-attrs dd {\n",
       "  grid-column: 2;\n",
       "  white-space: pre-wrap;\n",
       "  word-break: break-all;\n",
       "}\n",
       "\n",
       ".xr-icon-database,\n",
       ".xr-icon-file-text2,\n",
       ".xr-no-icon {\n",
       "  display: inline-block;\n",
       "  vertical-align: middle;\n",
       "  width: 1em;\n",
       "  height: 1.5em !important;\n",
       "  stroke-width: 0;\n",
       "  stroke: currentColor;\n",
       "  fill: currentColor;\n",
       "}\n",
       "</style><pre class='xr-text-repr-fallback'>&lt;xarray.Dataset&gt; Size: 880B\n",
       "Dimensions:  (time: 1, lat: 1, lon: 1, freq: 11, dir: 8)\n",
       "Coordinates:\n",
       "  * time     (time) datetime64[ns] 8B 2024-11-27T13:23:00\n",
       "  * lat      (lat) float64 8B -32.63\n",
       "  * lon      (lon) float64 8B 115.6\n",
       "  * freq     (freq) float64 88B 0.05417 0.05959 0.06555 ... 0.1161 0.1277 0.1405\n",
       "  * dir      (dir) float64 64B 0.0 45.0 90.0 135.0 180.0 225.0 270.0 315.0\n",
       "Data variables:\n",
       "    efth     (time, lat, lon, freq, dir) float64 704B 0.0001201 ... 1.863e-05</pre><div class='xr-wrap' style='display:none'><div class='xr-header'><div class='xr-obj-type'>xarray.Dataset</div></div><ul class='xr-sections'><li class='xr-section-item'><input id='section-30d7539c-5064-4ae7-a296-6e1d0858ba5b' class='xr-section-summary-in' type='checkbox' disabled ><label for='section-30d7539c-5064-4ae7-a296-6e1d0858ba5b' class='xr-section-summary'  title='Expand/collapse section'>Dimensions:</label><div class='xr-section-inline-details'><ul class='xr-dim-list'><li><span class='xr-has-index'>time</span>: 1</li><li><span class='xr-has-index'>lat</span>: 1</li><li><span class='xr-has-index'>lon</span>: 1</li><li><span class='xr-has-index'>freq</span>: 11</li><li><span class='xr-has-index'>dir</span>: 8</li></ul></div><div class='xr-section-details'></div></li><li class='xr-section-item'><input id='section-775a42e8-2ca5-49fa-aa9a-e39e2b55d28d' class='xr-section-summary-in' type='checkbox'  checked><label for='section-775a42e8-2ca5-49fa-aa9a-e39e2b55d28d' class='xr-section-summary' >Coordinates: <span>(5)</span></label><div class='xr-section-inline-details'></div><div class='xr-section-details'><ul class='xr-var-list'><li class='xr-var-item'><div class='xr-var-name'><span class='xr-has-index'>time</span></div><div class='xr-var-dims'>(time)</div><div class='xr-var-dtype'>datetime64[ns]</div><div class='xr-var-preview xr-preview'>2024-11-27T13:23:00</div><input id='attrs-8d2d5272-af57-4f30-90bf-dc3684bbeae6' class='xr-var-attrs-in' type='checkbox' disabled><label for='attrs-8d2d5272-af57-4f30-90bf-dc3684bbeae6' title='Show/Hide attributes'><svg class='icon xr-icon-file-text2'><use xlink:href='#icon-file-text2'></use></svg></label><input id='data-a21e56b6-2240-4cac-8b94-21c8489e7462' class='xr-var-data-in' type='checkbox'><label for='data-a21e56b6-2240-4cac-8b94-21c8489e7462' title='Show/Hide data repr'><svg class='icon xr-icon-database'><use xlink:href='#icon-database'></use></svg></label><div class='xr-var-attrs'><dl class='xr-attrs'></dl></div><div class='xr-var-data'><pre>array([&#x27;2024-11-27T13:23:00.000000000&#x27;], dtype=&#x27;datetime64[ns]&#x27;)</pre></div></li><li class='xr-var-item'><div class='xr-var-name'><span class='xr-has-index'>lat</span></div><div class='xr-var-dims'>(lat)</div><div class='xr-var-dtype'>float64</div><div class='xr-var-preview xr-preview'>-32.63</div><input id='attrs-5a48a215-c1cb-4529-8abf-928848a2f540' class='xr-var-attrs-in' type='checkbox' disabled><label for='attrs-5a48a215-c1cb-4529-8abf-928848a2f540' title='Show/Hide attributes'><svg class='icon xr-icon-file-text2'><use xlink:href='#icon-file-text2'></use></svg></label><input id='data-6c57752e-9cde-464d-9c92-fcb786268623' class='xr-var-data-in' type='checkbox'><label for='data-6c57752e-9cde-464d-9c92-fcb786268623' title='Show/Hide data repr'><svg class='icon xr-icon-database'><use xlink:href='#icon-database'></use></svg></label><div class='xr-var-attrs'><dl class='xr-attrs'></dl></div><div class='xr-var-data'><pre>array([-32.626715])</pre></div></li><li class='xr-var-item'><div class='xr-var-name'><span class='xr-has-index'>lon</span></div><div class='xr-var-dims'>(lon)</div><div class='xr-var-dtype'>float64</div><div class='xr-var-preview xr-preview'>115.6</div><input id='attrs-91a43019-eac6-4fa4-8da7-e4a37129684c' class='xr-var-attrs-in' type='checkbox' disabled><label for='attrs-91a43019-eac6-4fa4-8da7-e4a37129684c' title='Show/Hide attributes'><svg class='icon xr-icon-file-text2'><use xlink:href='#icon-file-text2'></use></svg></label><input id='data-696155a3-a5f8-49eb-8704-4837e1e7b745' class='xr-var-data-in' type='checkbox'><label for='data-696155a3-a5f8-49eb-8704-4837e1e7b745' title='Show/Hide data repr'><svg class='icon xr-icon-database'><use xlink:href='#icon-database'></use></svg></label><div class='xr-var-attrs'><dl class='xr-attrs'></dl></div><div class='xr-var-data'><pre>array([115.598402])</pre></div></li><li class='xr-var-item'><div class='xr-var-name'><span class='xr-has-index'>freq</span></div><div class='xr-var-dims'>(freq)</div><div class='xr-var-dtype'>float64</div><div class='xr-var-preview xr-preview'>0.05417 0.05959 ... 0.1277 0.1405</div><input id='attrs-38014316-b053-4009-ab50-42c58f3e61df' class='xr-var-attrs-in' type='checkbox' disabled><label for='attrs-38014316-b053-4009-ab50-42c58f3e61df' title='Show/Hide attributes'><svg class='icon xr-icon-file-text2'><use xlink:href='#icon-file-text2'></use></svg></label><input id='data-54d3e663-ba32-431e-ae48-01ff0de50622' class='xr-var-data-in' type='checkbox'><label for='data-54d3e663-ba32-431e-ae48-01ff0de50622' title='Show/Hide data repr'><svg class='icon xr-icon-database'><use xlink:href='#icon-database'></use></svg></label><div class='xr-var-attrs'><dl class='xr-attrs'></dl></div><div class='xr-var-data'><pre>array([0.05417, 0.05959, 0.06555, 0.0721 , 0.07931, 0.08724, 0.09597, 0.10557,\n",
       "       0.11612, 0.12773, 0.14051])</pre></div></li><li class='xr-var-item'><div class='xr-var-name'><span class='xr-has-index'>dir</span></div><div class='xr-var-dims'>(dir)</div><div class='xr-var-dtype'>float64</div><div class='xr-var-preview xr-preview'>0.0 45.0 90.0 ... 225.0 270.0 315.0</div><input id='attrs-c501534c-7373-43c9-916e-1c28fe0ffda3' class='xr-var-attrs-in' type='checkbox' disabled><label for='attrs-c501534c-7373-43c9-916e-1c28fe0ffda3' title='Show/Hide attributes'><svg class='icon xr-icon-file-text2'><use xlink:href='#icon-file-text2'></use></svg></label><input id='data-4e63f16a-011a-450c-809f-29728cb849b4' class='xr-var-data-in' type='checkbox'><label for='data-4e63f16a-011a-450c-809f-29728cb849b4' title='Show/Hide data repr'><svg class='icon xr-icon-database'><use xlink:href='#icon-database'></use></svg></label><div class='xr-var-attrs'><dl class='xr-attrs'></dl></div><div class='xr-var-data'><pre>array([  0.,  45.,  90., 135., 180., 225., 270., 315.])</pre></div></li></ul></div></li><li class='xr-section-item'><input id='section-7b0817aa-be71-481a-af10-763dddff67c5' class='xr-section-summary-in' type='checkbox'  checked><label for='section-7b0817aa-be71-481a-af10-763dddff67c5' class='xr-section-summary' >Data variables: <span>(1)</span></label><div class='xr-section-inline-details'></div><div class='xr-section-details'><ul class='xr-var-list'><li class='xr-var-item'><div class='xr-var-name'><span>efth</span></div><div class='xr-var-dims'>(time, lat, lon, freq, dir)</div><div class='xr-var-dtype'>float64</div><div class='xr-var-preview xr-preview'>0.0001201 0.0008694 ... 1.863e-05</div><input id='attrs-d9bd0940-68a5-4ca2-961b-0e193a5065c3' class='xr-var-attrs-in' type='checkbox' ><label for='attrs-d9bd0940-68a5-4ca2-961b-0e193a5065c3' title='Show/Hide attributes'><svg class='icon xr-icon-file-text2'><use xlink:href='#icon-file-text2'></use></svg></label><input id='data-0556edd2-2c1a-4bca-888f-ef74cde980dc' class='xr-var-data-in' type='checkbox'><label for='data-0556edd2-2c1a-4bca-888f-ef74cde980dc' title='Show/Hide data repr'><svg class='icon xr-icon-database'><use xlink:href='#icon-database'></use></svg></label><div class='xr-var-attrs'><dl class='xr-attrs'><dt><span>standard_name :</span></dt><dd>sea_surface_wave_directional_variance_spectral_density</dd><dt><span>units :</span></dt><dd>m2 s degree-1</dd><dt><span>_units :</span></dt><dd>m^{2}.s.degree^{-1}</dd><dt><span>_variable_name :</span></dt><dd>VaDens</dd></dl></div><div class='xr-var-data'><pre>array([[[[[1.20055640e-04, 8.69368424e-04, 3.10488723e-06,\n",
       "           0.00000000e+00, 0.00000000e+00, 0.00000000e+00,\n",
       "           0.00000000e+00, 0.00000000e+00],\n",
       "          [1.15915790e-04, 4.39445039e-03, 4.13984964e-06,\n",
       "           0.00000000e+00, 0.00000000e+00, 0.00000000e+00,\n",
       "           0.00000000e+00, 0.00000000e+00],\n",
       "          [1.12810903e-04, 9.79695417e-03, 2.06992482e-06,\n",
       "           0.00000000e+00, 0.00000000e+00, 0.00000000e+00,\n",
       "           0.00000000e+00, 0.00000000e+00],\n",
       "          [8.17620304e-05, 1.03475542e-02, 1.03496241e-06,\n",
       "           0.00000000e+00, 0.00000000e+00, 0.00000000e+00,\n",
       "           0.00000000e+00, 0.00000000e+00],\n",
       "          [5.69229326e-05, 5.67780378e-03, 3.10488723e-06,\n",
       "           0.00000000e+00, 0.00000000e+00, 0.00000000e+00,\n",
       "           0.00000000e+00, 0.00000000e+00],\n",
       "          [4.55383460e-05, 3.09453761e-03, 4.13984964e-06,\n",
       "           2.06992482e-06, 0.00000000e+00, 0.00000000e+00,\n",
       "           0.00000000e+00, 0.00000000e+00],\n",
       "          [5.69229326e-05, 1.57107294e-03, 6.20977446e-06,\n",
       "           2.06992482e-06, 0.00000000e+00, 0.00000000e+00,\n",
       "           0.00000000e+00, 0.00000000e+00],\n",
       "          [7.76221808e-05, 8.61088725e-04, 4.13984964e-06,\n",
       "           6.20977446e-06, 0.00000000e+00, 0.00000000e+00,\n",
       "           0.00000000e+00, 1.03496241e-06],\n",
       "          [1.19020677e-04, 5.91998499e-04, 2.06992482e-06,\n",
       "           3.10488723e-06, 0.00000000e+00, 0.00000000e+00,\n",
       "           0.00000000e+00, 5.17481205e-06],\n",
       "          [2.09062407e-04, 4.28474438e-04, 2.06992482e-06,\n",
       "           0.00000000e+00, 0.00000000e+00, 0.00000000e+00,\n",
       "           1.03496241e-06, 8.27969928e-06],\n",
       "          [2.90824437e-04, 3.17733460e-04, 5.17481205e-06,\n",
       "           0.00000000e+00, 0.00000000e+00, 0.00000000e+00,\n",
       "           1.03496241e-06, 1.86293234e-05]]]]])</pre></div></li></ul></div></li><li class='xr-section-item'><input id='section-e86c8b82-450b-4c04-b976-5a91838942db' class='xr-section-summary-in' type='checkbox'  ><label for='section-e86c8b82-450b-4c04-b976-5a91838942db' class='xr-section-summary' >Indexes: <span>(5)</span></label><div class='xr-section-inline-details'></div><div class='xr-section-details'><ul class='xr-var-list'><li class='xr-var-item'><div class='xr-index-name'><div>time</div></div><div class='xr-index-preview'>PandasIndex</div><div></div><input id='index-ed01d5ae-98f8-4270-a92a-5dd825439302' class='xr-index-data-in' type='checkbox'/><label for='index-ed01d5ae-98f8-4270-a92a-5dd825439302' title='Show/Hide index repr'><svg class='icon xr-icon-database'><use xlink:href='#icon-database'></use></svg></label><div class='xr-index-data'><pre>PandasIndex(DatetimeIndex([&#x27;2024-11-27 13:23:00&#x27;], dtype=&#x27;datetime64[ns]&#x27;, name=&#x27;time&#x27;, freq=None))</pre></div></li><li class='xr-var-item'><div class='xr-index-name'><div>lat</div></div><div class='xr-index-preview'>PandasIndex</div><div></div><input id='index-527e2885-1286-43d4-9d0c-2631b07e4500' class='xr-index-data-in' type='checkbox'/><label for='index-527e2885-1286-43d4-9d0c-2631b07e4500' title='Show/Hide index repr'><svg class='icon xr-icon-database'><use xlink:href='#icon-database'></use></svg></label><div class='xr-index-data'><pre>PandasIndex(Index([-32.626715], dtype=&#x27;float64&#x27;, name=&#x27;lat&#x27;))</pre></div></li><li class='xr-var-item'><div class='xr-index-name'><div>lon</div></div><div class='xr-index-preview'>PandasIndex</div><div></div><input id='index-67fab65c-10b4-457c-8ad0-519eec2b7405' class='xr-index-data-in' type='checkbox'/><label for='index-67fab65c-10b4-457c-8ad0-519eec2b7405' title='Show/Hide index repr'><svg class='icon xr-icon-database'><use xlink:href='#icon-database'></use></svg></label><div class='xr-index-data'><pre>PandasIndex(Index([115.598402], dtype=&#x27;float64&#x27;, name=&#x27;lon&#x27;))</pre></div></li><li class='xr-var-item'><div class='xr-index-name'><div>freq</div></div><div class='xr-index-preview'>PandasIndex</div><div></div><input id='index-5342981b-5da6-44fb-b14c-41063b171c3e' class='xr-index-data-in' type='checkbox'/><label for='index-5342981b-5da6-44fb-b14c-41063b171c3e' title='Show/Hide index repr'><svg class='icon xr-icon-database'><use xlink:href='#icon-database'></use></svg></label><div class='xr-index-data'><pre>PandasIndex(Index([0.05417, 0.05959, 0.06555,  0.0721, 0.07931, 0.08724, 0.09597, 0.10557,\n",
       "       0.11612, 0.12773, 0.14051],\n",
       "      dtype=&#x27;float64&#x27;, name=&#x27;freq&#x27;))</pre></div></li><li class='xr-var-item'><div class='xr-index-name'><div>dir</div></div><div class='xr-index-preview'>PandasIndex</div><div></div><input id='index-7b9867db-0ce1-4f0a-8292-9e09c626e4eb' class='xr-index-data-in' type='checkbox'/><label for='index-7b9867db-0ce1-4f0a-8292-9e09c626e4eb' title='Show/Hide index repr'><svg class='icon xr-icon-database'><use xlink:href='#icon-database'></use></svg></label><div class='xr-index-data'><pre>PandasIndex(Index([0.0, 45.0, 90.0, 135.0, 180.0, 225.0, 270.0, 315.0], dtype=&#x27;float64&#x27;, name=&#x27;dir&#x27;))</pre></div></li></ul></div></li><li class='xr-section-item'><input id='section-b2cba6e7-6c2e-4a3d-9318-a07d0c493d3b' class='xr-section-summary-in' type='checkbox' disabled ><label for='section-b2cba6e7-6c2e-4a3d-9318-a07d0c493d3b' class='xr-section-summary'  title='Expand/collapse section'>Attributes: <span>(0)</span></label><div class='xr-section-inline-details'></div><div class='xr-section-details'><dl class='xr-attrs'></dl></div></li></ul></div></div>"
      ],
      "text/plain": [
       "<xarray.Dataset> Size: 880B\n",
       "Dimensions:  (time: 1, lat: 1, lon: 1, freq: 11, dir: 8)\n",
       "Coordinates:\n",
       "  * time     (time) datetime64[ns] 8B 2024-11-27T13:23:00\n",
       "  * lat      (lat) float64 8B -32.63\n",
       "  * lon      (lon) float64 8B 115.6\n",
       "  * freq     (freq) float64 88B 0.05417 0.05959 0.06555 ... 0.1161 0.1277 0.1405\n",
       "  * dir      (dir) float64 64B 0.0 45.0 90.0 135.0 180.0 225.0 270.0 315.0\n",
       "Data variables:\n",
       "    efth     (time, lat, lon, freq, dir) float64 704B 0.0001201 ... 1.863e-05"
      ]
     },
     "execution_count": 31,
     "metadata": {},
     "output_type": "execute_result"
    }
   ],
   "source": [
    "filename = destdir / namelist[\"bcfile\"]\n",
    "dset = read_swan(filename)\n",
    "dset"
   ]
  },
  {
   "cell_type": "code",
   "execution_count": 32,
   "metadata": {},
   "outputs": [
    {
     "data": {
      "text/plain": [
       "<matplotlib.contour.QuadContourSet at 0x7173eb64c3d0>"
      ]
     },
     "execution_count": 32,
     "metadata": {},
     "output_type": "execute_result"
    },
    {
     "data": {
      "image/png": "[encoded data removed]",
      "text/plain": [
       "<Figure size 640x480 with 2 Axes>"
      ]
     },
     "metadata": {},
     "output_type": "display_data"
    }
   ],
   "source": [
    "dset.squeeze().spec.plot()"
   ]
  },
  {
   "cell_type": "markdown",
   "metadata": {},
   "source": [
    "#### Multiple bcfiles"
   ]
  },
  {
   "cell_type": "code",
   "execution_count": 33,
   "metadata": {},
   "outputs": [
    {
     "data": {
      "text/plain": [
       "{'wbctype': 'swan', 'bcfile': 'swan-filelist.txt'}"
      ]
     },
     "execution_count": 33,
     "metadata": {},
     "output_type": "execute_result"
    }
   ],
   "source": [
    "destdir = outdir / \"swan_spectra_multi\"\n",
    "destdir.mkdir(exist_ok=True)\n",
    "\n",
    "# Instantiate the boundary object\n",
    "wb = BoundaryStationSpectraSwan(\n",
    "    source=source_spectra,\n",
    ")\n",
    "\n",
    "# Generate the XBeach boundary file\n",
    "namelist = wb.get(destdir=destdir, grid=grid, time=times_spectra)\n",
    "namelist"
   ]
  },
  {
   "cell_type": "code",
   "execution_count": 34,
   "metadata": {},
   "outputs": [
    {
     "data": {
      "text/plain": [
       "[PosixPath('wave-boundary-demo/swan_spectra_multi/swan-20230101T000000.txt'),\n",
       " PosixPath('wave-boundary-demo/swan_spectra_multi/swan-20230101T060000.txt'),\n",
       " PosixPath('wave-boundary-demo/swan_spectra_multi/swan-filelist.txt')]"
      ]
     },
     "execution_count": 34,
     "metadata": {},
     "output_type": "execute_result"
    }
   ],
   "source": [
    "sorted(destdir.glob(\"*.txt\"))"
   ]
  },
  {
   "cell_type": "code",
   "execution_count": 35,
   "metadata": {},
   "outputs": [
    {
     "name": "stdout",
     "output_type": "stream",
     "text": [
      "FILELIST\n",
      "21600 1 swan-20230101T000000.txt\n",
      "21600 1 swan-20230101T060000.txt\n",
      "\n"
     ]
    }
   ],
   "source": [
    "filelist = destdir / namelist[\"bcfile\"]\n",
    "print(filelist.read_text())"
   ]
  },
  {
   "cell_type": "code",
   "execution_count": 36,
   "metadata": {},
   "outputs": [
    {
     "data": {
      "text/plain": [
       "<xarray.plot.facetgrid.FacetGrid at 0x7173edcd90f0>"
      ]
     },
     "execution_count": 36,
     "metadata": {},
     "output_type": "execute_result"
    },
    {
     "data": {
      "image/png": "[encoded data removed]",
      "text/plain": [
       "<Figure size 700x300 with 3 Axes>"
      ]
     },
     "metadata": {},
     "output_type": "display_data"
    }
   ],
   "source": [
    "bcfiles = [row.split()[-1] for row in filelist.read_text().split(\"\\n\")[1:-1]]\n",
    "dset = xr.concat([read_swan(destdir / f).squeeze() for f in bcfiles], dim=\"bcfile\")\n",
    "dset[\"bcfile\"] = bcfiles\n",
    "dset.spec.plot(col=\"bcfile\")"
   ]
  }
 ],
 "metadata": {
  "kernelspec": {
   "display_name": "xbeach",
   "language": "python",
   "name": "python3"
  },
  "language_info": {
   "codemirror_mode": {
    "name": "ipython",
    "version": 3
   },
   "file_extension": ".py",
   "mimetype": "text/x-python",
   "name": "python",
   "nbconvert_exporter": "python",
   "pygments_lexer": "ipython3",
   "version": "3.10.12"
  }
 },
 "nbformat": 4,
 "nbformat_minor": 2
}
