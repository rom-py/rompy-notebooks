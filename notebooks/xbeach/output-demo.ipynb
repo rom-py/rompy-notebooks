{
 "cells": [
  {
   "cell_type": "markdown",
   "id": "075d00ff",
   "metadata": {},
   "source": [
    "# XBeach Output Configuration Tutorial\n",
    "\n",
    "This notebook demonstrates how to configure output for XBeach models using the \n",
    "`Output` class. XBeach supports four types of output:\n",
    "\n",
    "1. **Time-averaged spatial output** (`meanvars`) - Statistics over time intervals\n",
    "2. **Instantaneous spatial output** (`globalvars`) - Snapshots at specific times\n",
    "3. **Fixed point output** (`pointvars` + `points`) - Time series at specific locations\n",
    "4. **Run-up gauge output** (`pointvars` + `rugauges`) - Time series at moving waterline\n",
    "\n",
    "Let's start by importing the necessary modules."
   ]
  },
  {
   "cell_type": "code",
   "execution_count": 1,
   "id": "2bbdea62",
   "metadata": {
    "lines_to_next_cell": 1
   },
   "outputs": [],
   "source": [
    "from rompy_xbeach.components.output import Output\n",
    "from rompy_xbeach.types import OutputVarsEnum\n",
    "from pathlib import Path\n",
    "import tempfile\n",
    "import os\n",
    "\n",
    "def show_params(params):\n",
    "    \"\"\"Helper function to display params in XBeach params.txt format.\"\"\"\n",
    "    for key, value in params.items():\n",
    "        if isinstance(value, list):\n",
    "            # For lists, print each item on its own line\n",
    "            for item in value:\n",
    "                print(item)\n",
    "        else:\n",
    "            # For regular values, print key = value\n",
    "            print(f\"{key} = {value}\")"
   ]
  },
  {
   "cell_type": "markdown",
   "id": "f85d23b6",
   "metadata": {},
   "source": [
    "## 1. Basic Output Format Configuration\n",
    "\n",
    "Let's start by configuring the output file format and name. The default output \n",
    "format is NetCDF, which is recommended for most applications."
   ]
  },
  {
   "cell_type": "code",
   "execution_count": 2,
   "id": "25caafc6",
   "metadata": {},
   "outputs": [
    {
     "name": "stdout",
     "output_type": "stream",
     "text": [
      "outputformat = netcdf\n",
      "outputprecision = double\n",
      "ncfilename = my_simulation.nc\n"
     ]
    }
   ],
   "source": [
    "output_format = Output(\n",
    "    outputformat=\"netcdf\",  # Default, can also be \"fortran\" or \"debug\"\n",
    "    ncfilename=\"my_simulation.nc\",\n",
    "    outputprecision=\"double\",\n",
    ")\n",
    "\n",
    "show_params(output_format.params)"
   ]
  },
  {
   "cell_type": "markdown",
   "id": "de99d93f",
   "metadata": {},
   "source": [
    "**Available options:**\n",
    "- `outputformat`: `\"netcdf\"` (default), `\"fortran\"`, or `\"debug\"`\n",
    "- `outputprecision`: `\"single\"` or `\"double\"` (for NetCDF only)\n",
    "- `ncfilename`: Name of the NetCDF output file (default: `xboutput.nc`)"
   ]
  },
  {
   "cell_type": "markdown",
   "id": "528c6a4e",
   "metadata": {},
   "source": [
    "## 2. Time-Averaged Spatial Output (Mean Variables)\n",
    "\n",
    "Mean variables provide time-averaged statistics (mean, variance, min, max) over \n",
    "specified intervals. This is useful for understanding average conditions."
   ]
  },
  {
   "cell_type": "code",
   "execution_count": 3,
   "id": "0ecaf948",
   "metadata": {},
   "outputs": [
    {
     "name": "stdout",
     "output_type": "stream",
     "text": [
      "outputformat = netcdf\n",
      "ncfilename = output.nc\n",
      "tstart = 0.0\n",
      "tintm = 3600.0\n",
      "nmeanvar = 6\n",
      "H\n",
      "thetamean\n",
      "u\n",
      "v\n",
      "zs\n",
      "zb\n"
     ]
    }
   ],
   "source": [
    "output_mean = Output(\n",
    "    ncfilename=\"output.nc\",\n",
    "    meanvars=[\n",
    "        \"H\",          # Wave height\n",
    "        \"thetamean\",  # Mean wave direction\n",
    "        \"u\",          # Velocity in x-direction\n",
    "        \"v\",          # Velocity in y-direction\n",
    "        \"zs\",         # Water level\n",
    "        \"zb\",         # Bed level\n",
    "    ],\n",
    "    tstart=0.0,      # Start output at t=0\n",
    "    tintm=3600.0,    # Output interval: 1 hour\n",
    ")\n",
    "\n",
    "show_params(output_mean.params)"
   ]
  },
  {
   "cell_type": "markdown",
   "id": "2b831451",
   "metadata": {},
   "source": [
    "**Key points:**\n",
    "- `nmeanvar` is automatically calculated from the list length\n",
    "- `tintm` defines the averaging interval (seconds)\n",
    "- First output is at `tstart + tintm`\n",
    "- The output represents the average over `[tstart, tstart+tintm]`"
   ]
  },
  {
   "cell_type": "markdown",
   "id": "f6133067",
   "metadata": {},
   "source": [
    "### Variable Name Validation\n",
    "\n",
    "Variable names are validated against the\n",
    "[OutputVarsEnum](https://github.com/rom-py/rompy-xbeach/blob/output/src/rompy_xbeach/types.py#L54).\n",
    "Only variables supported by XBeach and defined in the enum are accepted.\n",
    "This prevents typos and ensures compatibility."
   ]
  },
  {
   "cell_type": "code",
   "execution_count": 4,
   "id": "0def122c",
   "metadata": {},
   "outputs": [
    {
     "name": "stdout",
     "output_type": "stream",
     "text": [
      "Valid variables accepted:\n",
      "outputformat = netcdf\n",
      "nmeanvar = 4\n",
      "H\n",
      "u\n",
      "v\n",
      "zs\n"
     ]
    }
   ],
   "source": [
    "# This works - valid variable names\n",
    "output_valid = Output(\n",
    "    meanvars=[\"H\", \"u\", \"v\", \"zs\"]\n",
    ")\n",
    "print(\"Valid variables accepted:\")\n",
    "show_params(output_valid.params)"
   ]
  },
  {
   "cell_type": "code",
   "execution_count": 5,
   "id": "aea9f7ed",
   "metadata": {},
   "outputs": [
    {
     "name": "stdout",
     "output_type": "stream",
     "text": [
      "Validation error: ValidationError\n",
      "Message: 1 validation error for Output\n",
      "meanvars.1\n",
      "  Input should be 'As', 'BR', 'Cdrag', 'D', 'D15', 'D50', 'D50top', 'D90', 'D90top', 'DR', 'Dc', 'Df', 'Dp', 'Dveg', 'E', 'Fvegu', 'Fvegv', 'Fx', 'Fy', 'H', 'Hrunup', 'L1', 'Qb', 'R', 'Sk', 'Subg', 'Susg', 'Sutot', 'Svbg', 'Svsg', 'Svtot', 'Sxx', 'Sxy', 'Syy', 'Tbore', 'Tsg', 'alfau', 'alfav', 'alfaz', 'bedfriccoef', 'bi', 'breaking', 'bwalpha', 'c', 'ca', 'ccg', 'cctot', 'ccz', 'ceqbg', 'ceqsg', 'cf', 'cfu', 'cfv', 'cg', 'cgx', 'cgx_s', 'cgy', 'cgy_s', 'cobs', 'costh', 'costh_s', 'ctheta', 'ctheta_s', 'cx', 'cy', 'dU', 'dUi', 'dV', 'dassim', 'dcbdx', 'dcbdy', 'dcmdo', 'dcsdx', 'dcsdy', 'depo_ex', 'depo_im', 'dinfil', 'dnc', 'dnu', 'dnv', 'dnz', 'dobs', 'dsc', 'dsdnui', 'dsdnvi', 'dsdnzi', 'dsu', 'dsv', 'dsz', 'dzav', 'dzbdt', 'dzbdx', 'dzbdy', 'dzbed', 'dzbnow', 'dzs0dn', 'dzsdt', 'dzsdx', 'dzsdy', 'ee', 'ee_s', 'ero', 'fw', 'gw0back', 'gwbottom', 'gwcurv', 'gwhead', 'gwheadb', 'gwheight', 'gwlevel', 'gwqx', 'gwqy', 'gwu', 'gwv', 'gww', 'hh', 'hhw', 'hhwcins', 'hhws', 'hold', 'hu', 'hum', 'hv', 'hvm', 'idrift', 'infil', 'istruct', 'iwl', 'jdrift', 'k', 'kb', 'kturb', 'maxzs', 'minzs', 'n', 'nd', 'ndist', 'nuh', 'nutz', 'pbbed', 'pdisch', 'ph', 'pntdisch', 'pres', 'qdisch', 'qx', 'qy', 'refA', 'rolthick', 'rr', 'runup', 'sdist', 'sedcal', 'sedero', 'setbathy', 'shipFx', 'shipFy', 'shipFz', 'shipMx', 'shipMy', 'shipMz', 'shipchi', 'shipphi', 'shippsi', 'shipxCG', 'shipyCG', 'shipzCG', 'shobs', 'sig2prior', 'sigm', 'sigt', 'sigz', 'sinth', 'sinth_s', 'strucslope', 'structdepth', 'taubx', 'taubx_add', 'tauby', 'tauby_add', 'tdisch', 'tdriftb', 'tdrifte', 'thet', 'thet_s', 'theta', 'theta_s', 'thetamean', 'tideinpt', 'tideinpz', 'tsetbathy', 'u', 'ua', 'ucrcal', 'ududx', 'udvdx', 'ue', 'ue_sed', 'ueu', 'ui', 'umean', 'umwci', 'ur', 'urepb', 'ureps', 'urms', 'usd', 'ust', 'ustr', 'ustz', 'uu', 'uv', 'uwcins', 'uwf', 'uws', 'uz', 'v', 'vdudy', 'vdvdy', 've', 've_sed', 'vegtype', 'vev', 'vi', 'viscu', 'viscv', 'vmag', 'vmageu', 'vmagev', 'vmagu', 'vmagv', 'vmean', 'vmwci', 'vrepb', 'vreps', 'vu', 'vv', 'vwcins', 'vwf', 'vws', 'vz', 'wb', 'wete', 'wetu', 'wetv', 'wetz', 'wi', 'winddirts', 'windinpt', 'windnv', 'windsu', 'windvelts', 'windxts', 'windyts', 'wm', 'ws', 'wscrit', 'x', 'xhrunup', 'xu', 'xv', 'xyzs01', 'xyzs02', 'xyzs03', 'xyzs04', 'xz', 'y', 'yu', 'yv', 'yz', 'z0bed', 'zb', 'zb0', 'zbobs', 'zi', 'zs', 'zs0', 'zs0fac', 'zs1' or 'zswci' [type=enum, input_value='dummy', input_type=str]\n",
      "    For further information visit https://errors.pydantic.dev/2.11/v/enum\n"
     ]
    }
   ],
   "source": [
    "# This will raise a validation error - invalid variable name\n",
    "try:\n",
    "    output_invalid = Output(\n",
    "        meanvars=[\"H\", \"dummy\", \"u\"]  # \"dummy\" is not valid\n",
    "    )\n",
    "except Exception as e:\n",
    "    print(f\"Validation error: {type(e).__name__}\")\n",
    "    print(f\"Message: {e}\")"
   ]
  },
  {
   "cell_type": "markdown",
   "id": "f025dd0c",
   "metadata": {},
   "source": [
    "**Note:** Variable names are case-sensitive and must match exactly as documented \n",
    "by XBeach. For example, use `\"H\"` (not `\"h\"`), `\"zs\"` (not `\"ZS\"`), and \n",
    "`\"thetamean\"` (not `\"ThetaMean\"`)."
   ]
  },
  {
   "cell_type": "markdown",
   "id": "38efa00c",
   "metadata": {},
   "source": [
    "## 3. Instantaneous Spatial Output (Global Variables)\n",
    "\n",
    "Global variables provide instantaneous snapshots of the entire model domain at \n",
    "specified time intervals."
   ]
  },
  {
   "cell_type": "code",
   "execution_count": 6,
   "id": "1dc66a8f",
   "metadata": {},
   "outputs": [
    {
     "name": "stdout",
     "output_type": "stream",
     "text": [
      "outputformat = netcdf\n",
      "ncfilename = output.nc\n",
      "tstart = 0.0\n",
      "tintg = 10.0\n",
      "nglobalvar = 4\n",
      "H\n",
      "zs\n",
      "u\n",
      "v\n"
     ]
    }
   ],
   "source": [
    "output_global = Output(\n",
    "    ncfilename=\"output.nc\",\n",
    "    globalvars=[\n",
    "        \"H\",   # Wave height\n",
    "        \"zs\",  # Water level\n",
    "        \"u\",   # Velocity x\n",
    "        \"v\",   # Velocity y\n",
    "    ],\n",
    "    tstart=0.0,\n",
    "    tintg=10.0,  # Output every 10 seconds\n",
    ")\n",
    "\n",
    "show_params(output_global.params)"
   ]
  },
  {
   "cell_type": "markdown",
   "id": "bf97293c",
   "metadata": {},
   "source": [
    "**Key points:**\n",
    "- `nglobalvar` is automatically calculated\n",
    "- `tintg` defines the output interval (seconds)\n",
    "- First output is at `tstart`\n",
    "- Provides instantaneous values (not averaged)"
   ]
  },
  {
   "cell_type": "markdown",
   "id": "af4d8501",
   "metadata": {},
   "source": [
    "## 4. Fixed Point Output\n",
    "\n",
    "Point output provides time series at specific fixed locations in the model domain.\n",
    "This is useful for detailed analysis at locations of interest."
   ]
  },
  {
   "cell_type": "code",
   "execution_count": 7,
   "id": "318e9308",
   "metadata": {},
   "outputs": [
    {
     "name": "stdout",
     "output_type": "stream",
     "text": [
      "outputformat = netcdf\n",
      "ncfilename = output.nc\n",
      "tstart = 0.0\n",
      "tintp = 5.0\n",
      "npoints = 3\n",
      "0.0 500.0\n",
      "1000.0 500.0\n",
      "2000.0 500.0\n",
      "npointvar = 4\n",
      "H\n",
      "u\n",
      "v\n",
      "zs\n"
     ]
    }
   ],
   "source": [
    "output_points = Output(\n",
    "    ncfilename=\"output.nc\",\n",
    "    points=[\n",
    "        (0.0, 500.0),      # Point 1: x=0m, y=500m\n",
    "        (1000.0, 500.0),   # Point 2: x=1000m, y=500m\n",
    "        (2000.0, 500.0),   # Point 3: x=2000m, y=500m\n",
    "    ],\n",
    "    pointvars=[\n",
    "        \"H\",   # Wave height\n",
    "        \"u\",   # Velocity x\n",
    "        \"v\",   # Velocity y\n",
    "        \"zs\",  # Water level\n",
    "    ],\n",
    "    tstart=0.0,\n",
    "    tintp=5.0,  # Output every 5 seconds\n",
    ")\n",
    "\n",
    "show_params(output_points.params)"
   ]
  },
  {
   "cell_type": "markdown",
   "id": "6dc6e92e",
   "metadata": {},
   "source": [
    "**Key points:**\n",
    "- Points are specified as `(x, y)` coordinate pairs\n",
    "- XBeach links each point to the nearest computational grid point\n",
    "- `npoints` and `npointvar` are automatically calculated\n",
    "- `tintp` defines the output interval (defaults to `tintg` if not specified)\n",
    "- Coordinates are formatted as space-separated strings in params"
   ]
  },
  {
   "cell_type": "markdown",
   "id": "0a2cc777",
   "metadata": {},
   "source": [
    "## 5. Run-up Gauge Output\n",
    "\n",
    "Run-up gauges track the moving waterline along cross-shore transects. This is \n",
    "particularly useful for studying run-up and swash processes."
   ]
  },
  {
   "cell_type": "code",
   "execution_count": 8,
   "id": "673b528d",
   "metadata": {},
   "outputs": [
    {
     "name": "stdout",
     "output_type": "stream",
     "text": [
      "outputformat = netcdf\n",
      "ncfilename = output.nc\n",
      "nrugdepth = 5\n",
      "tstart = 0.0\n",
      "tintp = 1.0\n",
      "nrugauge = 2\n",
      "0.0 500.0\n",
      "0.0 1000.0\n",
      "npointvar = 2\n",
      "H\n",
      "zs\n"
     ]
    }
   ],
   "source": [
    "output_rugauges = Output(\n",
    "    ncfilename=\"output.nc\",\n",
    "    rugauges=[\n",
    "        (0.0, 500.0),    # Gauge 1: transect at y=500m\n",
    "        (0.0, 1000.0),   # Gauge 2: transect at y=1000m\n",
    "    ],\n",
    "    pointvars=[\n",
    "        \"H\",   # Wave height\n",
    "        \"zs\",  # Water level\n",
    "    ],\n",
    "    nrugdepth=5,  # Number of depths to compute runup\n",
    "    tstart=0.0,\n",
    "    tintp=1.0,  # Output every second\n",
    ")\n",
    "\n",
    "show_params(output_rugauges.params)"
   ]
  },
  {
   "cell_type": "markdown",
   "id": "4eeadeb3",
   "metadata": {},
   "source": [
    "**Key points:**\n",
    "- Run-up gauges share point output variables (`pointvars`)\n",
    "- XBeach automatically adds `xw`, `yw`, and `zs` to the output\n",
    "- Gauges are linked to the nearest cross-shore transect (not just a point)\n",
    "- `nrugdepth` specifies how many water depths to track\n",
    "- Useful for studying swash zone dynamics"
   ]
  },
  {
   "cell_type": "markdown",
   "id": "a299fa78",
   "metadata": {},
   "source": [
    "## 6. Output Timing Control\n",
    "\n",
    "XBeach provides two ways to control when output is written: fixed intervals or \n",
    "file-based times."
   ]
  },
  {
   "cell_type": "markdown",
   "id": "e8bd1534",
   "metadata": {},
   "source": [
    "### 6.1 Fixed Interval Timing\n",
    "\n",
    "The most common approach is to use fixed time intervals for output. Each output \n",
    "type has its own timing parameter:"
   ]
  },
  {
   "cell_type": "code",
   "execution_count": 9,
   "id": "47368a78",
   "metadata": {},
   "outputs": [
    {
     "name": "stdout",
     "output_type": "stream",
     "text": [
      "outputformat = netcdf\n",
      "ncfilename = output.nc\n",
      "tstart = 0.0\n",
      "tintg = 10.0\n",
      "tintm = 3600.0\n",
      "tintp = 5.0\n",
      "npoints = 1\n",
      "0.0 500.0\n",
      "nmeanvar = 2\n",
      "H\n",
      "u\n",
      "nglobalvar = 2\n",
      "H\n",
      "zs\n",
      "npointvar = 1\n",
      "H\n"
     ]
    }
   ],
   "source": [
    "output_timing = Output(\n",
    "    ncfilename=\"output.nc\",\n",
    "    globalvars=[\"H\", \"zs\"],\n",
    "    meanvars=[\"H\", \"u\"],\n",
    "    pointvars=[\"H\"],\n",
    "    points=[(0.0, 500.0)],\n",
    "    tstart=0.0,      # Start time for output (seconds)\n",
    "    tintg=10.0,      # Global output interval (seconds)\n",
    "    tintm=3600.0,    # Mean output interval (seconds)\n",
    "    tintp=5.0,       # Point output interval (seconds)\n",
    ")\n",
    "\n",
    "show_params(output_timing.params)"
   ]
  },
  {
   "cell_type": "markdown",
   "id": "475e4ec0",
   "metadata": {},
   "source": [
    "**Timing parameters:**\n",
    "- `tstart`: Start time for output (default: 0.0)\n",
    "- `tintg`: Interval for global (instantaneous) output (default: 1.0 s)\n",
    "  - First output at `tstart`\n",
    "- `tintm`: Interval for mean output (default: `tstop - tstart`)\n",
    "  - First output at `tstart + tintm`\n",
    "  - Represents average over `[tstart, tstart + tintm]`\n",
    "- `tintp`: Interval for point/runup output (default: same as `tintg`)\n",
    "  - First output at `tstart`"
   ]
  },
  {
   "cell_type": "markdown",
   "id": "b0075df8",
   "metadata": {},
   "source": [
    "### 6.2 File-Based Timing\n",
    "\n",
    "For irregular output schedules or specific snapshots, you can specify output times \n",
    "from files using the [DataBlob](https://github.com/rom-py/rompy/blob/main/src/rompy/core/data.py#L25)\n",
    "type. This is useful for event-based output or when you need precise control over output times.\n",
    "\n",
    "The timing files must follow XBeach's format:\n",
    "- First line: number of output times\n",
    "- Following lines: one time value per line (in seconds)"
   ]
  },
  {
   "cell_type": "markdown",
   "id": "c7e08940",
   "metadata": {},
   "source": [
    "First, let's create example timing files in a temporary directory:"
   ]
  },
  {
   "cell_type": "code",
   "execution_count": 10,
   "id": "d20b5d6e",
   "metadata": {},
   "outputs": [
    {
     "name": "stdout",
     "output_type": "stream",
     "text": [
      "Creating timing files in: /tmp/tmp6vn6gb0w\n",
      "\n",
      "Created /tmp/tmp6vn6gb0w/global_times.txt with 11 times: [0, 30, 60, 90, 120, 150, 180, 210, 240, 270, 300]\n",
      "Created /tmp/tmp6vn6gb0w/mean_times.txt with 6 times: [3600, 7200, 10800, 14400, 18000, 21600]\n",
      "Created /tmp/tmp6vn6gb0w/point_times.txt with 6 times: [0, 100, 500, 1000, 2000, 3000]\n"
     ]
    }
   ],
   "source": [
    "def create_timing_file(filepath: Path, times: list[float]) -> Path:\n",
    "    \"\"\"Create an XBeach timing file with the specified times.\"\"\"\n",
    "    content = f\"{len(times)}\\n\" + \"\\n\".join(str(t) for t in times) + \"\\n\"\n",
    "    filepath.write_text(content)\n",
    "    return filepath\n",
    "\n",
    "# Create a temporary directory for our timing files\n",
    "tmpdir = Path(tempfile.mkdtemp())\n",
    "print(f\"Creating timing files in: {tmpdir}\\n\")\n",
    "\n",
    "# Create global output times file (every 30 seconds for 5 minutes)\n",
    "global_times = [0, 30, 60, 90, 120, 150, 180, 210, 240, 270, 300]\n",
    "global_times_file = create_timing_file(tmpdir / \"global_times.txt\", global_times)\n",
    "print(f\"Created {global_times_file} with {len(global_times)} times: {global_times}\")\n",
    "\n",
    "# Create mean output times file (every hour for 6 hours)\n",
    "mean_times = [3600, 7200, 10800, 14400, 18000, 21600]\n",
    "mean_times_file = create_timing_file(tmpdir / \"mean_times.txt\", mean_times)\n",
    "print(f\"Created {mean_times_file} with {len(mean_times)} times: {mean_times}\")\n",
    "\n",
    "# Create point output times file (specific event times)\n",
    "point_times = [0, 100, 500, 1000, 2000, 3000]\n",
    "point_times_file = create_timing_file(tmpdir / \"point_times.txt\", point_times)\n",
    "print(f\"Created {point_times_file} with {len(point_times)} times: {point_times}\")"
   ]
  },
  {
   "cell_type": "markdown",
   "id": "a9b60865",
   "metadata": {},
   "source": [
    "Now we can create an Output configuration using these timing files with `DataBlob`:"
   ]
  },
  {
   "cell_type": "code",
   "execution_count": 11,
   "id": "b9d91831",
   "metadata": {},
   "outputs": [
    {
     "name": "stdout",
     "output_type": "stream",
     "text": [
      "outputformat = netcdf\n",
      "ncfilename = output.nc\n",
      "tsglobal = {'model_type': 'data_blob', 'id': 'data', 'source': PosixPath('/tmp/tmp6vn6gb0w/global_times.txt'), 'link': False}\n",
      "tsmean = {'model_type': 'data_blob', 'id': 'data', 'source': PosixPath('/tmp/tmp6vn6gb0w/mean_times.txt'), 'link': False}\n",
      "tspoint = {'model_type': 'data_blob', 'id': 'data', 'source': PosixPath('/tmp/tmp6vn6gb0w/point_times.txt'), 'link': False}\n",
      "npoints = 1\n",
      "0.0 500.0\n",
      "nmeanvar = 2\n",
      "H\n",
      "u\n",
      "nglobalvar = 2\n",
      "H\n",
      "zs\n",
      "npointvar = 1\n",
      "H\n"
     ]
    }
   ],
   "source": [
    "output_file_times = Output(\n",
    "    ncfilename=\"output.nc\",\n",
    "    globalvars=[\"H\", \"zs\"],\n",
    "    tsglobal=dict(source=global_times_file),  # DataBlob with file source\n",
    "    meanvars=[\"H\", \"u\"],\n",
    "    tsmean=dict(source=mean_times_file),      # DataBlob with file source\n",
    "    pointvars=[\"H\"],\n",
    "    points=[(0.0, 500.0)],\n",
    "    tspoint=dict(source=point_times_file),    # DataBlob with file source\n",
    ")\n",
    "\n",
    "show_params(output_file_times.params)"
   ]
  },
  {
   "cell_type": "markdown",
   "id": "86abe6ff",
   "metadata": {},
   "source": [
    "**File-based timing parameters:**\n",
    "- `tsglobal`: DataBlob containing global output times\n",
    "- `tsmean`: DataBlob containing mean output times\n",
    "- `tspoint`: DataBlob containing point output times\n",
    "\n",
    "**Important notes:**\n",
    "- Each file must contain the number of times on the first line, followed by one time value per line (in seconds)\n",
    "- File-based times **supersede** fixed interval times if both are specified\n",
    "- Times are relative to the simulation start\n",
    "- Useful for irregular sampling or event-based output"
   ]
  },
  {
   "cell_type": "markdown",
   "id": "b062e7fd",
   "metadata": {},
   "source": [
    "### 6.3 Using the `get()` Method\n",
    "\n",
    "The `Output.get()` method fetches external timing files from local and remote sources\n",
    "and copies them to the  destination directory. This method is automatically called by\n",
    "the `Config` class when generating the params file, with `destdir` set to the workspace\n",
    "folder.\n",
    "\n",
    "Let's demonstrate how this works:"
   ]
  },
  {
   "cell_type": "code",
   "execution_count": 12,
   "id": "e20f2231",
   "metadata": {},
   "outputs": [
    {
     "name": "stdout",
     "output_type": "stream",
     "text": [
      "Destination directory: /tmp/tmpol1n6ij2\n",
      "\n",
      "outputformat = netcdf\n",
      "ncfilename = output.nc\n",
      "tsglobal = /tmp/tmpol1n6ij2/global_times.txt\n",
      "tsmean = /tmp/tmpol1n6ij2/mean_times.txt\n",
      "tspoint = /tmp/tmpol1n6ij2/point_times.txt\n",
      "npoints = 1\n",
      "0.0 500.0\n",
      "nmeanvar = 2\n",
      "H\n",
      "u\n",
      "nglobalvar = 2\n",
      "H\n",
      "zs\n",
      "npointvar = 1\n",
      "H\n"
     ]
    }
   ],
   "source": [
    "# Create a destination directory (simulating the workspace folder)\n",
    "destdir = Path(tempfile.mkdtemp())\n",
    "print(f\"Destination directory: {destdir}\\n\")\n",
    "\n",
    "# Call get() to fetch the timing files\n",
    "params_with_files = output_file_times.get(destdir)\n",
    "\n",
    "show_params(params_with_files)"
   ]
  },
  {
   "cell_type": "markdown",
   "id": "90fec843",
   "metadata": {},
   "source": [
    "Let's verify that the files were copied to the destination directory:"
   ]
  },
  {
   "cell_type": "code",
   "execution_count": 13,
   "id": "1f648055",
   "metadata": {},
   "outputs": [
    {
     "name": "stdout",
     "output_type": "stream",
     "text": [
      "\n",
      "Files in destination directory:\n",
      "  global_times.txt\n",
      "    11\n",
      "    0\n",
      "    30\n",
      "    60\n",
      "    90\n",
      "    ... (7 more lines)\n",
      "  mean_times.txt\n",
      "    6\n",
      "    3600\n",
      "    7200\n",
      "    10800\n",
      "    14400\n",
      "    ... (2 more lines)\n",
      "  point_times.txt\n",
      "    6\n",
      "    0\n",
      "    100\n",
      "    500\n",
      "    1000\n",
      "    ... (2 more lines)\n"
     ]
    }
   ],
   "source": [
    "print(\"\\nFiles in destination directory:\")\n",
    "for file in sorted(destdir.iterdir()):\n",
    "    print(f\"  {file.name}\")\n",
    "    lines = file.read_text().splitlines()\n",
    "    for line in lines[:5]:\n",
    "        print(f\"    {line}\")\n",
    "    if len(lines) > 5:\n",
    "        print(f\"    ... ({len(lines) - 5} more lines)\")"
   ]
  },
  {
   "cell_type": "markdown",
   "id": "b4c52565",
   "metadata": {},
   "source": [
    "**Key points about the `get()` method:**\n",
    "- Automatically called during model generation by the `Config` class\n",
    "- Copies timing files from their source location to the workspace directory\n",
    "- Returns a params dictionary with updated file paths\n",
    "- Ensures all external files are available in the model run directory\n",
    "- The `destdir` parameter is typically set to the model's staging directory"
   ]
  },
  {
   "cell_type": "markdown",
   "id": "746b1f67",
   "metadata": {},
   "source": [
    "Clean up temporary directories:"
   ]
  },
  {
   "cell_type": "code",
   "execution_count": 14,
   "id": "5644aa4d",
   "metadata": {},
   "outputs": [
    {
     "name": "stdout",
     "output_type": "stream",
     "text": [
      "Temporary directories cleaned up\n"
     ]
    }
   ],
   "source": [
    "import shutil\n",
    "shutil.rmtree(tmpdir, ignore_errors=True)\n",
    "shutil.rmtree(destdir, ignore_errors=True)\n",
    "print(\"Temporary directories cleaned up\")"
   ]
  },
  {
   "cell_type": "markdown",
   "id": "ed8bd233",
   "metadata": {},
   "source": [
    "## 7. Progress Output Control\n",
    "\n",
    "Control whether XBeach displays progress information during the simulation."
   ]
  },
  {
   "cell_type": "code",
   "execution_count": 15,
   "id": "46a4e6ab",
   "metadata": {},
   "outputs": [
    {
     "name": "stdout",
     "output_type": "stream",
     "text": [
      "outputformat = netcdf\n",
      "ncfilename = output.nc\n",
      "timings = 1\n",
      "tintg = 10.0\n",
      "nglobalvar = 1\n",
      "H\n"
     ]
    }
   ],
   "source": [
    "output_progress = Output(\n",
    "    ncfilename=\"output.nc\",\n",
    "    timings=True,  # Enable progress output to screen\n",
    "    globalvars=[\"H\"],\n",
    "    tintg=10.0,\n",
    ")\n",
    "\n",
    "show_params(output_progress.params)"
   ]
  },
  {
   "cell_type": "markdown",
   "id": "87376e41",
   "metadata": {},
   "source": [
    "**Note:** The `timings` boolean is automatically converted to an integer (0 or 1) \n",
    "for XBeach compatibility."
   ]
  },
  {
   "cell_type": "markdown",
   "id": "f1d3bf87",
   "metadata": {},
   "source": [
    "## 8. Comprehensive Configuration\n",
    "\n",
    "Let's put it all together with a comprehensive output configuration that uses \n",
    "multiple output types simultaneously."
   ]
  },
  {
   "cell_type": "code",
   "execution_count": 16,
   "id": "76511aea",
   "metadata": {},
   "outputs": [
    {
     "name": "stdout",
     "output_type": "stream",
     "text": [
      "outputformat = netcdf\n",
      "outputprecision = double\n",
      "ncfilename = comprehensive_output.nc\n",
      "nrugdepth = 5\n",
      "timings = 1\n",
      "tstart = 0.0\n",
      "tintg = 10.0\n",
      "tintm = 3600.0\n",
      "tintp = 5.0\n",
      "npoints = 3\n",
      "0.0 500.0\n",
      "1000.0 500.0\n",
      "2000.0 500.0\n",
      "nrugauge = 2\n",
      "0.0 750.0\n",
      "0.0 1250.0\n",
      "nmeanvar = 3\n",
      "H\n",
      "u\n",
      "v\n",
      "nglobalvar = 1\n",
      "zs\n",
      "npointvar = 4\n",
      "H\n",
      "u\n",
      "v\n",
      "zs\n"
     ]
    }
   ],
   "source": [
    "output_comprehensive = Output(\n",
    "    # Output file configuration\n",
    "    outputformat=\"netcdf\",\n",
    "    ncfilename=\"comprehensive_output.nc\",\n",
    "    outputprecision=\"double\",\n",
    "    \n",
    "    # Time-averaged spatial output\n",
    "    meanvars=[\n",
    "        \"H\",\n",
    "        \"u\",\n",
    "        \"v\",\n",
    "    ],\n",
    "    \n",
    "    # Instantaneous spatial output\n",
    "    globalvars=[\n",
    "        \"zs\",\n",
    "    ],\n",
    "    \n",
    "    # Fixed point output\n",
    "    points=[\n",
    "        (0.0, 500.0),\n",
    "        (1000.0, 500.0),\n",
    "        (2000.0, 500.0),\n",
    "    ],\n",
    "    \n",
    "    # Run-up gauges\n",
    "    rugauges=[\n",
    "        (0.0, 750.0),\n",
    "        (0.0, 1250.0),\n",
    "    ],\n",
    "    \n",
    "    # Point/runup variables (shared)\n",
    "    pointvars=[\n",
    "        \"H\",\n",
    "        \"u\",\n",
    "        \"v\",\n",
    "        \"zs\",\n",
    "    ],\n",
    "    \n",
    "    # Timing configuration\n",
    "    tstart=0.0,\n",
    "    tintg=10.0,    # Global output every 10 seconds\n",
    "    tintm=3600.0,  # Mean output every hour\n",
    "    tintp=5.0,     # Point output every 5 seconds\n",
    "    \n",
    "    # Run-up configuration\n",
    "    nrugdepth=5,\n",
    "    \n",
    "    # Progress output\n",
    "    timings=True,\n",
    ")\n",
    "\n",
    "show_params(output_comprehensive.params)"
   ]
  },
  {
   "cell_type": "markdown",
   "id": "3527c6bf",
   "metadata": {},
   "source": [
    "## 9. Validation and Warnings\n",
    "\n",
    "The Output class includes validators that warn about potential issues. Let's see \n",
    "some examples."
   ]
  },
  {
   "cell_type": "markdown",
   "id": "251e42bd",
   "metadata": {},
   "source": [
    "### Example 1: Exceeding Variable Limits\n",
    "\n",
    "XBeach has limits on the number of variables for each output type. The Output class \n",
    "will warn you if you exceed these limits."
   ]
  },
  {
   "cell_type": "code",
   "execution_count": 17,
   "id": "90517f62",
   "metadata": {},
   "outputs": [
    {
     "name": "stderr",
     "output_type": "stream",
     "text": [
      "2025-10-09 18:23:34 [WARNING] rompy_xbeach.components.output: ! More than 15 meanvars requested. XBeach only supports up to 15. Beware of possible unexpected results in the model.\n"
     ]
    },
    {
     "name": "stdout",
     "output_type": "stream",
     "text": [
      "outputformat = netcdf\n",
      "nmeanvar = 20\n",
      "As\n",
      "BR\n",
      "Cdrag\n",
      "D\n",
      "D15\n",
      "D50\n",
      "D50top\n",
      "D90\n",
      "D90top\n",
      "DR\n",
      "Dc\n",
      "Df\n",
      "Dp\n",
      "Dveg\n",
      "E\n",
      "Fvegu\n",
      "Fvegv\n",
      "Fx\n",
      "Fy\n",
      "H\n"
     ]
    }
   ],
   "source": [
    "# Build a list with all supported variables\n",
    "all_variables = [v.value for v in OutputVarsEnum]\n",
    "\n",
    "# This will generate a warning (limit is 15 mean variables)\n",
    "output_too_many = Output(\n",
    "    meanvars=all_variables[:20]  # 20 variables exceeds the limit\n",
    ")\n",
    "\n",
    "show_params(output_too_many.params)"
   ]
  },
  {
   "cell_type": "markdown",
   "id": "08df1c77",
   "metadata": {},
   "source": [
    "**Limits:**\n",
    "- Mean variables: 15\n",
    "- Global variables: 20\n",
    "- Point variables: 50\n",
    "- Points/run-up gauges: 50 each"
   ]
  },
  {
   "cell_type": "markdown",
   "id": "54779b90",
   "metadata": {},
   "source": [
    "### Example 2: Inconsistent Point Configuration\n",
    "\n",
    "If you define point variables without locations (or vice versa), you'll get a warning."
   ]
  },
  {
   "cell_type": "code",
   "execution_count": 18,
   "id": "8d105bf5",
   "metadata": {},
   "outputs": [
    {
     "name": "stderr",
     "output_type": "stream",
     "text": [
      "2025-10-09 18:23:34 [WARNING] rompy_xbeach.components.output: ! Point output variables (pointvars) are defined, but no point locations (points) or runup gauge locations (rugauges) have been prescribed. Output will not be generated.\n"
     ]
    },
    {
     "name": "stdout",
     "output_type": "stream",
     "text": [
      "outputformat = netcdf\n",
      "npointvar = 2\n",
      "H\n",
      "u\n"
     ]
    }
   ],
   "source": [
    "# Warning: pointvars without locations\n",
    "output_no_locations = Output(\n",
    "    pointvars=[\"H\", \"u\"]\n",
    "    # No points or rugauges defined!\n",
    ")\n",
    "\n",
    "show_params(output_no_locations.params)"
   ]
  },
  {
   "cell_type": "code",
   "execution_count": 19,
   "id": "437723a1",
   "metadata": {},
   "outputs": [
    {
     "name": "stderr",
     "output_type": "stream",
     "text": [
      "2025-10-09 18:23:34 [WARNING] rompy_xbeach.components.output: ! Point locations (points) or runup gauge locations (rugauges) are defined, but no point output variables (pointvars) have been prescribed. No point/runup output will be generated.\n"
     ]
    },
    {
     "name": "stdout",
     "output_type": "stream",
     "text": [
      "outputformat = netcdf\n",
      "npoints = 1\n",
      "0.0 500.0\n"
     ]
    }
   ],
   "source": [
    "# Warning: locations without variables\n",
    "output_no_vars = Output(\n",
    "    points=[(0.0, 500.0)]\n",
    "    # No pointvars defined!\n",
    ")\n",
    "\n",
    "show_params(output_no_vars.params)"
   ]
  },
  {
   "cell_type": "markdown",
   "id": "07adea16",
   "metadata": {},
   "source": [
    "### Example 3: Conflicting Time Specifications\n",
    "\n",
    "If you specify both fixed intervals and file-based times, the file-based times \n",
    "will supersede the fixed intervals, and you'll get a warning."
   ]
  },
  {
   "cell_type": "code",
   "execution_count": 20,
   "id": "efe36648",
   "metadata": {},
   "outputs": [
    {
     "name": "stderr",
     "output_type": "stream",
     "text": [
      "2025-10-09 18:23:34 [WARNING] rompy_xbeach.components.output: ! Global times defined by both fixed (tintg) and file (tsglobal) times. The file-based times (tsglobal) will supersede the fixed interval.\n"
     ]
    },
    {
     "name": "stdout",
     "output_type": "stream",
     "text": [
      "outputformat = netcdf\n",
      "tintg = 10.0\n",
      "tsglobal = {'model_type': 'data_blob', 'id': 'data', 'source': PosixPath('/tmp/tmp0qlzyopo/times.txt'), 'link': False}\n",
      "nglobalvar = 1\n",
      "H\n"
     ]
    }
   ],
   "source": [
    "# Create a simple timing file for demonstration\n",
    "conflict_tmpdir = Path(tempfile.mkdtemp())\n",
    "conflict_times_file = create_timing_file(conflict_tmpdir / \"times.txt\", [0, 100, 200])\n",
    "\n",
    "# Warning: both fixed and file times specified\n",
    "output_conflict = Output(\n",
    "    globalvars=[\"H\"],\n",
    "    tintg=10.0,                                      # Fixed interval\n",
    "    tsglobal=dict(source=str(conflict_times_file)),  # File-based times (this takes precedence)\n",
    ")\n",
    "\n",
    "show_params(output_conflict.params)\n",
    "\n",
    "# Clean up\n",
    "shutil.rmtree(conflict_tmpdir, ignore_errors=True)"
   ]
  },
  {
   "cell_type": "markdown",
   "id": "2cb5ea02",
   "metadata": {},
   "source": [
    "## 10. Integration with XBeach Config\n",
    "\n",
    "The Output object is typically used as part of a larger XBeach configuration:"
   ]
  },
  {
   "cell_type": "code",
   "execution_count": 21,
   "id": "0e73fd50",
   "metadata": {},
   "outputs": [
    {
     "name": "stdout",
     "output_type": "stream",
     "text": [
      "Integration Example:\n",
      "\n",
      "from rompy_xbeach.config import Config\n",
      "from rompy_xbeach.components.output import Output\n",
      "\n",
      "config = Config(\n",
      "    # ... other configuration parameters ...\n",
      "\n",
      "    output=Output(\n",
      "        ncfilename=\"simulation_output.nc\",\n",
      "        meanvars=[\"H\", \"zs\"],\n",
      "        globalvars=[\"H\"],\n",
      "        points=[(0.0, 500.0)],\n",
      "        pointvars=[\"H\", \"u\"],\n",
      "        tstart=0.0,\n",
      "        tintg=10.0,\n",
      "        tintm=3600.0,\n",
      "    ),\n",
      "\n",
      "    # ... other configuration parameters ...\n",
      ")\n",
      "\n",
      "# The output.params will be merged into the params.txt file\n",
      "params = config.output.params\n",
      "\n"
     ]
    }
   ],
   "source": [
    "# Example of how Output fits into a Config object\n",
    "example_usage = \"\"\"\n",
    "from rompy_xbeach.config import Config\n",
    "from rompy_xbeach.components.output import Output\n",
    "\n",
    "config = Config(\n",
    "    # ... other configuration parameters ...\n",
    "    \n",
    "    output=Output(\n",
    "        ncfilename=\"simulation_output.nc\",\n",
    "        meanvars=[\"H\", \"zs\"],\n",
    "        globalvars=[\"H\"],\n",
    "        points=[(0.0, 500.0)],\n",
    "        pointvars=[\"H\", \"u\"],\n",
    "        tstart=0.0,\n",
    "        tintg=10.0,\n",
    "        tintm=3600.0,\n",
    "    ),\n",
    "    \n",
    "    # ... other configuration parameters ...\n",
    ")\n",
    "\n",
    "# The output.params will be merged into the params.txt file\n",
    "params = config.output.params\n",
    "\"\"\"\n",
    "\n",
    "print(\"Integration Example:\")\n",
    "print(example_usage)"
   ]
  },
  {
   "cell_type": "markdown",
   "id": "3d955f07",
   "metadata": {},
   "source": [
    "## Summary\n",
    "\n",
    "Key takeaways:\n",
    "\n",
    "1. **Four output types**: mean, global, point, and run-up gauge\n",
    "2. **Automatic counting**: `nmeanvar`, `nglobalvar`, etc. are calculated automatically\n",
    "3. **Flexible timing**: Use fixed intervals or file-based times\n",
    "4. **Validation**: Built-in warnings for common configuration issues\n",
    "5. **Simple to complex**: Start simple and add complexity as needed\n",
    "6. **Type-safe**: Uses enums for variable names to prevent typos\n",
    "\n",
    "For more information, see the XBeach manual and the Output class documentation."
   ]
  },
  {
   "cell_type": "markdown",
   "id": "302080fc",
   "metadata": {},
   "source": [
    "## Next Steps\n",
    "\n",
    "- Explore other XBeach configuration components (grid, boundary conditions, etc.)\n",
    "- Run a complete simulation with your output configuration\n",
    "- Analyse the output NetCDF file using xarray or other tools\n",
    "- Experiment with different output variables and timing configurations"
   ]
  }
 ],
 "metadata": {
  "jupytext": {
   "cell_metadata_filter": "-all",
   "main_language": "python",
   "notebook_metadata_filter": "-all"
  },
  "language_info": {
   "name": "python"
  }
 },
 "nbformat": 4,
 "nbformat_minor": 5
}
