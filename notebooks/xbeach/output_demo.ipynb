{
 "cells": [
  {
   "cell_type": "markdown",
   "id": "462796bf",
   "metadata": {},
   "source": [
    "# XBeach Output Configuration Tutorial\n",
    "\n",
    "This notebook demonstrates how to configure output for XBeach models using the \n",
    "`Output` class. XBeach supports four types of output:\n",
    "\n",
    "1. **Time-averaged spatial output** (`meanvars`) - Statistics over time intervals\n",
    "2. **Instantaneous spatial output** (`globalvars`) - Snapshots at specific times\n",
    "3. **Fixed point output** (`pointvars` + `points`) - Time series at specific locations\n",
    "4. **Run-up gauge output** (`pointvars` + `rugauges`) - Time series at moving waterline\n",
    "\n",
    "Let's start by importing the necessary modules."
   ]
  },
  {
   "cell_type": "code",
   "execution_count": 27,
   "id": "591bcac7",
   "metadata": {
    "lines_to_next_cell": 1
   },
   "outputs": [],
   "source": [
    "from rompy_xbeach.components.output import Output\n",
    "from rompy_xbeach.types import OutputVarsEnum\n",
    "\n",
    "def show_params(output):\n",
    "    \"\"\"Helper function to display params in XBeach params.txt format.\"\"\"\n",
    "    params = output.params\n",
    "    for key, value in params.items():\n",
    "        if isinstance(value, list):\n",
    "            # For lists, print each item on its own line\n",
    "            for item in value:\n",
    "                print(item)\n",
    "        else:\n",
    "            # For regular values, print key = value\n",
    "            print(f\"{key} = {value}\")"
   ]
  },
  {
   "cell_type": "markdown",
   "id": "db5ba0f0",
   "metadata": {},
   "source": [
    "## 1. Basic Output Format Configuration\n",
    "\n",
    "Let's start by configuring the output file format and name. The default output \n",
    "format is NetCDF, which is recommended for most applications."
   ]
  },
  {
   "cell_type": "code",
   "execution_count": 28,
   "id": "cce56dff",
   "metadata": {},
   "outputs": [
    {
     "name": "stdout",
     "output_type": "stream",
     "text": [
      "outputformat = netcdf\n",
      "outputprecision = double\n",
      "ncfilename = my_simulation.nc\n"
     ]
    }
   ],
   "source": [
    "output_format = Output(\n",
    "    outputformat=\"netcdf\",  # Default, can also be \"fortran\" or \"debug\"\n",
    "    ncfilename=\"my_simulation.nc\",\n",
    "    outputprecision=\"double\",\n",
    ")\n",
    "\n",
    "show_params(output_format)"
   ]
  },
  {
   "cell_type": "markdown",
   "id": "2fe14c75",
   "metadata": {},
   "source": [
    "**Available options:**\n",
    "- `outputformat`: `\"netcdf\"` (default), `\"fortran\"`, or `\"debug\"`\n",
    "- `outputprecision`: `\"single\"` or `\"double\"` (for NetCDF only)\n",
    "- `ncfilename`: Name of the NetCDF output file (default: `xboutput.nc`)"
   ]
  },
  {
   "cell_type": "markdown",
   "id": "91745a54",
   "metadata": {},
   "source": [
    "## 2. Time-Averaged Spatial Output (Mean Variables)\n",
    "\n",
    "Mean variables provide time-averaged statistics (mean, variance, min, max) over \n",
    "specified intervals. This is useful for understanding average conditions."
   ]
  },
  {
   "cell_type": "code",
   "execution_count": 29,
   "id": "735cba6d",
   "metadata": {},
   "outputs": [
    {
     "name": "stdout",
     "output_type": "stream",
     "text": [
      "outputformat = netcdf\n",
      "ncfilename = output.nc\n",
      "tstart = 0.0\n",
      "tintm = 3600.0\n",
      "nmeanvar = 6\n",
      "H\n",
      "thetamean\n",
      "u\n",
      "v\n",
      "zs\n",
      "zb\n"
     ]
    }
   ],
   "source": [
    "output_mean = Output(\n",
    "    ncfilename=\"output.nc\",\n",
    "    meanvars=[\n",
    "        \"H\",          # Wave height\n",
    "        \"thetamean\",  # Mean wave direction\n",
    "        \"u\",          # Velocity in x-direction\n",
    "        \"v\",          # Velocity in y-direction\n",
    "        \"zs\",         # Water level\n",
    "        \"zb\",         # Bed level\n",
    "    ],\n",
    "    tstart=0.0,      # Start output at t=0\n",
    "    tintm=3600.0,    # Output interval: 1 hour\n",
    ")\n",
    "\n",
    "show_params(output_mean)"
   ]
  },
  {
   "cell_type": "markdown",
   "id": "ca12462e",
   "metadata": {},
   "source": [
    "**Key points:**\n",
    "- `nmeanvar` is automatically calculated from the list length\n",
    "- `tintm` defines the averaging interval (seconds)\n",
    "- First output is at `tstart + tintm`\n",
    "- The output represents the average over `[tstart, tstart+tintm]`"
   ]
  },
  {
   "cell_type": "markdown",
   "id": "06f4f18a",
   "metadata": {},
   "source": [
    "## 3. Instantaneous Spatial Output (Global Variables)\n",
    "\n",
    "Global variables provide instantaneous snapshots of the entire model domain at \n",
    "specified time intervals."
   ]
  },
  {
   "cell_type": "code",
   "execution_count": 30,
   "id": "e8723ffe",
   "metadata": {},
   "outputs": [
    {
     "name": "stdout",
     "output_type": "stream",
     "text": [
      "outputformat = netcdf\n",
      "ncfilename = output.nc\n",
      "tstart = 0.0\n",
      "tintg = 10.0\n",
      "nglobalvar = 4\n",
      "H\n",
      "zs\n",
      "u\n",
      "v\n"
     ]
    }
   ],
   "source": [
    "output_global = Output(\n",
    "    ncfilename=\"output.nc\",\n",
    "    globalvars=[\n",
    "        \"H\",   # Wave height\n",
    "        \"zs\",  # Water level\n",
    "        \"u\",   # Velocity x\n",
    "        \"v\",   # Velocity y\n",
    "    ],\n",
    "    tstart=0.0,\n",
    "    tintg=10.0,  # Output every 10 seconds\n",
    ")\n",
    "\n",
    "show_params(output_global)"
   ]
  },
  {
   "cell_type": "markdown",
   "id": "321c12a7",
   "metadata": {},
   "source": [
    "**Key points:**\n",
    "- `nglobalvar` is automatically calculated\n",
    "- `tintg` defines the output interval (seconds)\n",
    "- First output is at `tstart`\n",
    "- Provides instantaneous values (not averaged)"
   ]
  },
  {
   "cell_type": "markdown",
   "id": "b313058f",
   "metadata": {},
   "source": [
    "## 4. Fixed Point Output\n",
    "\n",
    "Point output provides time series at specific fixed locations in the model domain.\n",
    "This is useful for detailed analysis at locations of interest."
   ]
  },
  {
   "cell_type": "code",
   "execution_count": 31,
   "id": "6eef0a97",
   "metadata": {},
   "outputs": [
    {
     "name": "stdout",
     "output_type": "stream",
     "text": [
      "outputformat = netcdf\n",
      "ncfilename = output.nc\n",
      "tstart = 0.0\n",
      "tintp = 5.0\n",
      "npoints = 3\n",
      "0.0 500.0\n",
      "1000.0 500.0\n",
      "2000.0 500.0\n",
      "npointvar = 4\n",
      "H\n",
      "u\n",
      "v\n",
      "zs\n"
     ]
    }
   ],
   "source": [
    "output_points = Output(\n",
    "    ncfilename=\"output.nc\",\n",
    "    points=[\n",
    "        (0.0, 500.0),      # Point 1: x=0m, y=500m\n",
    "        (1000.0, 500.0),   # Point 2: x=1000m, y=500m\n",
    "        (2000.0, 500.0),   # Point 3: x=2000m, y=500m\n",
    "    ],\n",
    "    pointvars=[\n",
    "        \"H\",   # Wave height\n",
    "        \"u\",   # Velocity x\n",
    "        \"v\",   # Velocity y\n",
    "        \"zs\",  # Water level\n",
    "    ],\n",
    "    tstart=0.0,\n",
    "    tintp=5.0,  # Output every 5 seconds\n",
    ")\n",
    "\n",
    "show_params(output_points)"
   ]
  },
  {
   "cell_type": "markdown",
   "id": "3f2f5486",
   "metadata": {},
   "source": [
    "**Key points:**\n",
    "- Points are specified as `(x, y)` coordinate pairs\n",
    "- XBeach links each point to the nearest computational grid point\n",
    "- `npoints` and `npointvar` are automatically calculated\n",
    "- `tintp` defines the output interval (defaults to `tintg` if not specified)\n",
    "- Coordinates are formatted as space-separated strings in params"
   ]
  },
  {
   "cell_type": "markdown",
   "id": "4aaeb515",
   "metadata": {},
   "source": [
    "## 5. Run-up Gauge Output\n",
    "\n",
    "Run-up gauges track the moving waterline along cross-shore transects. This is \n",
    "particularly useful for studying run-up and swash processes."
   ]
  },
  {
   "cell_type": "code",
   "execution_count": 32,
   "id": "bd5cae76",
   "metadata": {},
   "outputs": [
    {
     "name": "stdout",
     "output_type": "stream",
     "text": [
      "outputformat = netcdf\n",
      "ncfilename = output.nc\n",
      "nrugdepth = 5\n",
      "tstart = 0.0\n",
      "tintp = 1.0\n",
      "nrugauge = 2\n",
      "0.0 500.0\n",
      "0.0 1000.0\n",
      "npointvar = 2\n",
      "H\n",
      "zs\n"
     ]
    }
   ],
   "source": [
    "output_rugauges = Output(\n",
    "    ncfilename=\"output.nc\",\n",
    "    rugauges=[\n",
    "        (0.0, 500.0),    # Gauge 1: transect at y=500m\n",
    "        (0.0, 1000.0),   # Gauge 2: transect at y=1000m\n",
    "    ],\n",
    "    pointvars=[\n",
    "        \"H\",   # Wave height\n",
    "        \"zs\",  # Water level\n",
    "    ],\n",
    "    nrugdepth=5,  # Number of depths to compute runup\n",
    "    tstart=0.0,\n",
    "    tintp=1.0,  # Output every second\n",
    ")\n",
    "\n",
    "show_params(output_rugauges)"
   ]
  },
  {
   "cell_type": "markdown",
   "id": "1d4d65c2",
   "metadata": {},
   "source": [
    "**Key points:**\n",
    "- Run-up gauges share point output variables (`pointvars`)\n",
    "- XBeach automatically adds `xw`, `yw`, and `zs` to the output\n",
    "- Gauges are linked to the nearest cross-shore transect (not just a point)\n",
    "- `nrugdepth` specifies how many water depths to track\n",
    "- Useful for studying swash zone dynamics"
   ]
  },
  {
   "cell_type": "markdown",
   "id": "a707bad8",
   "metadata": {},
   "source": [
    "## 6. Output Timing Control\n",
    "\n",
    "XBeach provides two ways to control when output is written: fixed intervals or \n",
    "file-based times."
   ]
  },
  {
   "cell_type": "markdown",
   "id": "4beff8e2",
   "metadata": {},
   "source": [
    "### 6.1 Fixed Interval Timing\n",
    "\n",
    "The most common approach is to use fixed time intervals for output. Each output \n",
    "type has its own timing parameter:"
   ]
  },
  {
   "cell_type": "code",
   "execution_count": 33,
   "id": "eade31a0",
   "metadata": {},
   "outputs": [
    {
     "name": "stdout",
     "output_type": "stream",
     "text": [
      "outputformat = netcdf\n",
      "ncfilename = output.nc\n",
      "tstart = 0.0\n",
      "tintg = 10.0\n",
      "tintm = 3600.0\n",
      "tintp = 5.0\n",
      "npoints = 1\n",
      "0.0 500.0\n",
      "nmeanvar = 2\n",
      "H\n",
      "u\n",
      "nglobalvar = 2\n",
      "H\n",
      "zs\n",
      "npointvar = 1\n",
      "H\n"
     ]
    }
   ],
   "source": [
    "output_timing = Output(\n",
    "    ncfilename=\"output.nc\",\n",
    "    globalvars=[\"H\", \"zs\"],\n",
    "    meanvars=[\"H\", \"u\"],\n",
    "    pointvars=[\"H\"],\n",
    "    points=[(0.0, 500.0)],\n",
    "    tstart=0.0,      # Start time for output (seconds)\n",
    "    tintg=10.0,      # Global output interval (seconds)\n",
    "    tintm=3600.0,    # Mean output interval (seconds)\n",
    "    tintp=5.0,       # Point output interval (seconds)\n",
    ")\n",
    "\n",
    "show_params(output_timing)"
   ]
  },
  {
   "cell_type": "markdown",
   "id": "aa200f9e",
   "metadata": {},
   "source": [
    "**Timing parameters:**\n",
    "- `tstart`: Start time for output (default: 0.0)\n",
    "- `tintg`: Interval for global (instantaneous) output (default: 1.0 s)\n",
    "  - First output at `tstart`\n",
    "- `tintm`: Interval for mean output (default: `tstop - tstart`)\n",
    "  - First output at `tstart + tintm`\n",
    "  - Represents average over `[tstart, tstart + tintm]`\n",
    "- `tintp`: Interval for point/runup output (default: same as `tintg`)\n",
    "  - First output at `tstart`"
   ]
  },
  {
   "cell_type": "markdown",
   "id": "de75e9ed",
   "metadata": {},
   "source": [
    "### 6.2 File-Based Timing\n",
    "\n",
    "For irregular output schedules or specific snapshots, you can specify output times \n",
    "from files. This is useful for event-based output or when you need precise control."
   ]
  },
  {
   "cell_type": "code",
   "execution_count": null,
   "id": "52128486",
   "metadata": {},
   "outputs": [],
   "source": [
    "output_file_times = Output(\n",
    "    ncfilename=\"output.nc\",\n",
    "    globalvars=[\"H\", \"zs\"],\n",
    "    tsglobal=\"global_times.txt\",  # File with global output times\n",
    "    meanvars=[\"H\", \"u\"],\n",
    "    tsmean=\"mean_times.txt\",      # File with mean output times\n",
    ")\n",
    "\n",
    "show_params(output_file_times)"
   ]
  },
  {
   "cell_type": "markdown",
   "id": "9475fc17",
   "metadata": {},
   "source": [
    "**File-based timing parameters:**\n",
    "- `tsglobal`: File containing global output times\n",
    "- `tsmean`: File containing mean output times\n",
    "- `tspoint`: File containing point output times\n",
    "\n",
    "**Important notes:**\n",
    "- Each file should contain the number of times followed by one time value per line (in seconds)\n",
    "- File-based times **supersede** fixed interval times if both are specified\n",
    "- Times are relative to the simulation start\n",
    "- Useful for irregular sampling or event-based output"
   ]
  },
  {
   "cell_type": "markdown",
   "id": "1183992e",
   "metadata": {},
   "source": [
    "## 7. Progress Output Control\n",
    "\n",
    "Control whether XBeach displays progress information during the simulation."
   ]
  },
  {
   "cell_type": "code",
   "execution_count": 34,
   "id": "2973afff",
   "metadata": {},
   "outputs": [
    {
     "name": "stdout",
     "output_type": "stream",
     "text": [
      "outputformat = netcdf\n",
      "ncfilename = output.nc\n",
      "timings = 1\n",
      "tintg = 10.0\n",
      "nglobalvar = 1\n",
      "H\n"
     ]
    }
   ],
   "source": [
    "output_progress = Output(\n",
    "    ncfilename=\"output.nc\",\n",
    "    timings=True,  # Enable progress output to screen\n",
    "    globalvars=[\"H\"],\n",
    "    tintg=10.0,\n",
    ")\n",
    "\n",
    "show_params(output_progress)"
   ]
  },
  {
   "cell_type": "markdown",
   "id": "1c23c33b",
   "metadata": {},
   "source": [
    "**Note:** The `timings` boolean is automatically converted to an integer (0 or 1) \n",
    "for XBeach compatibility."
   ]
  },
  {
   "cell_type": "markdown",
   "id": "7f103e50",
   "metadata": {},
   "source": [
    "## 8. Comprehensive Configuration\n",
    "\n",
    "Let's put it all together with a comprehensive output configuration that uses \n",
    "multiple output types simultaneously."
   ]
  },
  {
   "cell_type": "code",
   "execution_count": 38,
   "id": "4b896196",
   "metadata": {},
   "outputs": [
    {
     "name": "stdout",
     "output_type": "stream",
     "text": [
      "outputformat = netcdf\n",
      "outputprecision = double\n",
      "ncfilename = comprehensive_output.nc\n",
      "nrugdepth = 5\n",
      "timings = 1\n",
      "tstart = 0.0\n",
      "tintg = 10.0\n",
      "tintm = 3600.0\n",
      "tintp = 5.0\n",
      "npoints = 3\n",
      "0.0 500.0\n",
      "1000.0 500.0\n",
      "2000.0 500.0\n",
      "nrugauge = 2\n",
      "0.0 750.0\n",
      "0.0 1250.0\n",
      "nmeanvar = 3\n",
      "H\n",
      "u\n",
      "v\n",
      "nglobalvar = 1\n",
      "zs\n",
      "npointvar = 4\n",
      "H\n",
      "u\n",
      "v\n",
      "zs\n"
     ]
    }
   ],
   "source": [
    "output_comprehensive = Output(\n",
    "    # Output file configuration\n",
    "    outputformat=\"netcdf\",\n",
    "    ncfilename=\"comprehensive_output.nc\",\n",
    "    outputprecision=\"double\",\n",
    "    \n",
    "    # Time-averaged spatial output\n",
    "    meanvars=[\n",
    "        \"H\",\n",
    "        \"u\",\n",
    "        \"v\",\n",
    "    ],\n",
    "    \n",
    "    # Instantaneous spatial output\n",
    "    globalvars=[\n",
    "        \"zs\",\n",
    "    ],\n",
    "    \n",
    "    # Fixed point output\n",
    "    points=[\n",
    "        (0.0, 500.0),\n",
    "        (1000.0, 500.0),\n",
    "        (2000.0, 500.0),\n",
    "    ],\n",
    "    \n",
    "    # Run-up gauges\n",
    "    rugauges=[\n",
    "        (0.0, 750.0),\n",
    "        (0.0, 1250.0),\n",
    "    ],\n",
    "    \n",
    "    # Point/runup variables (shared)\n",
    "    pointvars=[\n",
    "        \"H\",\n",
    "        \"u\",\n",
    "        \"v\",\n",
    "        \"zs\",\n",
    "    ],\n",
    "    \n",
    "    # Timing configuration\n",
    "    tstart=0.0,\n",
    "    tintg=10.0,    # Global output every 10 seconds\n",
    "    tintm=3600.0,  # Mean output every hour\n",
    "    tintp=5.0,     # Point output every 5 seconds\n",
    "    \n",
    "    # Run-up configuration\n",
    "    nrugdepth=5,\n",
    "    \n",
    "    # Progress output\n",
    "    timings=True,\n",
    ")\n",
    "\n",
    "show_params(output_comprehensive)"
   ]
  },
  {
   "cell_type": "markdown",
   "id": "6ef89372",
   "metadata": {},
   "source": [
    "## 9. Validation and Warnings\n",
    "\n",
    "The Output class includes validators that warn about potential issues. Let's see \n",
    "some examples."
   ]
  },
  {
   "cell_type": "markdown",
   "id": "e4b4bbdb",
   "metadata": {},
   "source": [
    "### Example 1: Exceeding Variable Limits\n",
    "\n",
    "XBeach has limits on the number of variables for each output type. The Output class \n",
    "will warn you if you exceed these limits."
   ]
  },
  {
   "cell_type": "code",
   "execution_count": 54,
   "id": "2401255d",
   "metadata": {},
   "outputs": [
    {
     "name": "stderr",
     "output_type": "stream",
     "text": [
      "2025-10-08 22:57:36 [WARNING] rompy_xbeach.components.output: ! More than 15 meanvars requested. XBeach only supports up to 15. Beware of possible unexpected results in the model.\n"
     ]
    },
    {
     "name": "stdout",
     "output_type": "stream",
     "text": [
      "outputformat = netcdf\n",
      "nmeanvar = 20\n",
      "As\n",
      "BR\n",
      "Cdrag\n",
      "D\n",
      "D15\n",
      "D50\n",
      "D50top\n",
      "D90\n",
      "D90top\n",
      "DR\n",
      "Dc\n",
      "Df\n",
      "Dp\n",
      "Dveg\n",
      "E\n",
      "Fvegu\n",
      "Fvegv\n",
      "Fx\n",
      "Fy\n",
      "H\n"
     ]
    }
   ],
   "source": [
    "# Build a list with all supported variables\n",
    "all_variables = [v.value for v in OutputVarsEnum]\n",
    "\n",
    "# This will generate a warning (limit is 15 mean variables)\n",
    "output_too_many = Output(\n",
    "    meanvars=all_variables[:20]  # 20 variables exceeds the limit\n",
    ")\n",
    "\n",
    "show_params(output_too_many)"
   ]
  },
  {
   "cell_type": "markdown",
   "id": "99aaa48e",
   "metadata": {},
   "source": [
    "**Limits:**\n",
    "- Mean variables: 15\n",
    "- Global variables: 20\n",
    "- Point variables: 50\n",
    "- Points/run-up gauges: 50 each"
   ]
  },
  {
   "cell_type": "markdown",
   "id": "f5581fa8",
   "metadata": {},
   "source": [
    "### Example 2: Inconsistent Point Configuration\n",
    "\n",
    "If you define point variables without locations (or vice versa), you'll get a warning."
   ]
  },
  {
   "cell_type": "code",
   "execution_count": 48,
   "id": "7128ac76",
   "metadata": {},
   "outputs": [
    {
     "name": "stderr",
     "output_type": "stream",
     "text": [
      "2025-10-08 22:51:33 [WARNING] rompy_xbeach.components.output: ! Point output variables (pointvars) are defined, but no point locations (points) or runup gauge locations (rugauges) have been prescribed. Output will not be generated.\n"
     ]
    },
    {
     "name": "stdout",
     "output_type": "stream",
     "text": [
      "outputformat = netcdf\n",
      "npointvar = 2\n",
      "H\n",
      "u\n"
     ]
    }
   ],
   "source": [
    "# Warning: pointvars without locations\n",
    "output_no_locations = Output(\n",
    "    pointvars=[\"H\", \"u\"]\n",
    "    # No points or rugauges defined!\n",
    ")\n",
    "\n",
    "show_params(output_no_locations)"
   ]
  },
  {
   "cell_type": "code",
   "execution_count": 49,
   "id": "73aa2b5e",
   "metadata": {},
   "outputs": [
    {
     "name": "stderr",
     "output_type": "stream",
     "text": [
      "2025-10-08 22:51:48 [WARNING] rompy_xbeach.components.output: ! Point locations (points) or runup gauge locations (rugauges) are defined, but no point output variables (pointvars) have been prescribed. No point/runup output will be generated.\n"
     ]
    },
    {
     "name": "stdout",
     "output_type": "stream",
     "text": [
      "outputformat = netcdf\n",
      "npoints = 1\n",
      "0.0 500.0\n"
     ]
    }
   ],
   "source": [
    "# Warning: locations without variables\n",
    "output_no_vars = Output(\n",
    "    points=[(0.0, 500.0)]\n",
    "    # No pointvars defined!\n",
    ")\n",
    "\n",
    "show_params(output_no_vars)"
   ]
  },
  {
   "cell_type": "markdown",
   "id": "ad10e91f",
   "metadata": {},
   "source": [
    "### Example 3: Conflicting Time Specifications\n",
    "\n",
    "If you specify both fixed intervals and file-based times, the file-based times \n",
    "will supersede the fixed intervals, and you'll get a warning."
   ]
  },
  {
   "cell_type": "code",
   "execution_count": 50,
   "id": "80c866bd",
   "metadata": {},
   "outputs": [
    {
     "name": "stderr",
     "output_type": "stream",
     "text": [
      "2025-10-08 22:52:05 [WARNING] rompy_xbeach.components.output: ! Global times defined by both fixed (tintg) and file (tsglobal) times. The file-based times (tsglobal) will supersede the fixed interval.\n"
     ]
    },
    {
     "name": "stdout",
     "output_type": "stream",
     "text": [
      "outputformat = netcdf\n",
      "tintg = 10.0\n",
      "tsglobal = times.txt\n",
      "nglobalvar = 1\n",
      "H\n"
     ]
    }
   ],
   "source": [
    "# Warning: both fixed and file times specified\n",
    "output_conflict = Output(\n",
    "    globalvars=[\"H\"],\n",
    "    tintg=10.0,              # Fixed interval\n",
    "    tsglobal=\"times.txt\",    # File-based times (this takes precedence)\n",
    ")\n",
    "\n",
    "show_params(output_conflict)"
   ]
  },
  {
   "cell_type": "markdown",
   "id": "feed41b2",
   "metadata": {},
   "source": [
    "## 10. Available Output Variables\n",
    "\n",
    "Here's a complete list of all output variables supported in rompy-xbeach:"
   ]
  },
  {
   "cell_type": "code",
   "execution_count": 51,
   "id": "5112e7ca",
   "metadata": {},
   "outputs": [
    {
     "name": "stdout",
     "output_type": "stream",
     "text": [
      "XBeach Output Variables (OutputVarsEnum):\n",
      "============================================================\n",
      "  As\n",
      "  BR\n",
      "  Cdrag\n",
      "  D\n",
      "  D15\n",
      "  D50\n",
      "  D50top\n",
      "  D90\n",
      "  D90top\n",
      "  DR\n",
      "  Dc\n",
      "  Df\n",
      "  Dp\n",
      "  Dveg\n",
      "  E\n",
      "  Fvegu\n",
      "  Fvegv\n",
      "  Fx\n",
      "  Fy\n",
      "  H\n",
      "  Hrunup\n",
      "  L1\n",
      "  Qb\n",
      "  R\n",
      "  Sk\n",
      "  Subg\n",
      "  Susg\n",
      "  Sutot\n",
      "  Svbg\n",
      "  Svsg\n",
      "  Svtot\n",
      "  Sxx\n",
      "  Sxy\n",
      "  Syy\n",
      "  Tbore\n",
      "  Tsg\n",
      "  alfau\n",
      "  alfav\n",
      "  alfaz\n",
      "  bedfriccoef\n",
      "  bi\n",
      "  breaking\n",
      "  bwalpha\n",
      "  c\n",
      "  ca\n",
      "  ccg\n",
      "  cctot\n",
      "  ccz\n",
      "  ceqbg\n",
      "  ceqsg\n",
      "  cf\n",
      "  cfu\n",
      "  cfv\n",
      "  cg\n",
      "  cgx\n",
      "  cgx_s\n",
      "  cgy\n",
      "  cgy_s\n",
      "  cobs\n",
      "  costh\n",
      "  costh_s\n",
      "  ctheta\n",
      "  ctheta_s\n",
      "  cx\n",
      "  cy\n",
      "  dU\n",
      "  dUi\n",
      "  dV\n",
      "  dassim\n",
      "  dcbdx\n",
      "  dcbdy\n",
      "  dcmdo\n",
      "  dcsdx\n",
      "  dcsdy\n",
      "  depo_ex\n",
      "  depo_im\n",
      "  dinfil\n",
      "  dnc\n",
      "  dnu\n",
      "  dnv\n",
      "  dnz\n",
      "  dobs\n",
      "  dsc\n",
      "  dsdnui\n",
      "  dsdnvi\n",
      "  dsdnzi\n",
      "  dsu\n",
      "  dsv\n",
      "  dsz\n",
      "  dzav\n",
      "  dzbdt\n",
      "  dzbdx\n",
      "  dzbdy\n",
      "  dzbed\n",
      "  dzbnow\n",
      "  dzs0dn\n",
      "  dzsdt\n",
      "  dzsdx\n",
      "  dzsdy\n",
      "  ee\n",
      "  ee_s\n",
      "  ero\n",
      "  fw\n",
      "  gw0back\n",
      "  gwbottom\n",
      "  gwcurv\n",
      "  gwhead\n",
      "  gwheadb\n",
      "  gwheight\n",
      "  gwlevel\n",
      "  gwqx\n",
      "  gwqy\n",
      "  gwu\n",
      "  gwv\n",
      "  gww\n",
      "  hh\n",
      "  hhw\n",
      "  hhwcins\n",
      "  hhws\n",
      "  hold\n",
      "  hu\n",
      "  hum\n",
      "  hv\n",
      "  hvm\n",
      "  idrift\n",
      "  infil\n",
      "  istruct\n",
      "  iwl\n",
      "  jdrift\n",
      "  k\n",
      "  kb\n",
      "  kturb\n",
      "  maxzs\n",
      "  minzs\n",
      "  n\n",
      "  nd\n",
      "  ndist\n",
      "  nuh\n",
      "  nutz\n",
      "  pbbed\n",
      "  pdisch\n",
      "  ph\n",
      "  pntdisch\n",
      "  pres\n",
      "  qdisch\n",
      "  qx\n",
      "  qy\n",
      "  refA\n",
      "  rolthick\n",
      "  rr\n",
      "  runup\n",
      "  sdist\n",
      "  sedcal\n",
      "  sedero\n",
      "  setbathy\n",
      "  shipFx\n",
      "  shipFy\n",
      "  shipFz\n",
      "  shipMx\n",
      "  shipMy\n",
      "  shipMz\n",
      "  shipchi\n",
      "  shipphi\n",
      "  shippsi\n",
      "  shipxCG\n",
      "  shipyCG\n",
      "  shipzCG\n",
      "  shobs\n",
      "  sig2prior\n",
      "  sigm\n",
      "  sigt\n",
      "  sigz\n",
      "  sinth\n",
      "  sinth_s\n",
      "  strucslope\n",
      "  structdepth\n",
      "  taubx\n",
      "  taubx_add\n",
      "  tauby\n",
      "  tauby_add\n",
      "  tdisch\n",
      "  tdriftb\n",
      "  tdrifte\n",
      "  thet\n",
      "  thet_s\n",
      "  theta\n",
      "  theta_s\n",
      "  thetamean\n",
      "  tideinpt\n",
      "  tideinpz\n",
      "  tsetbathy\n",
      "  u\n",
      "  ua\n",
      "  ucrcal\n",
      "  ududx\n",
      "  udvdx\n",
      "  ue\n",
      "  ue_sed\n",
      "  ueu\n",
      "  ui\n",
      "  umean\n",
      "  umwci\n",
      "  ur\n",
      "  urepb\n",
      "  ureps\n",
      "  urms\n",
      "  usd\n",
      "  ust\n",
      "  ustr\n",
      "  ustz\n",
      "  uu\n",
      "  uv\n",
      "  uwcins\n",
      "  uwf\n",
      "  uws\n",
      "  uz\n",
      "  v\n",
      "  vdudy\n",
      "  vdvdy\n",
      "  ve\n",
      "  ve_sed\n",
      "  vegtype\n",
      "  vev\n",
      "  vi\n",
      "  viscu\n",
      "  viscv\n",
      "  vmag\n",
      "  vmageu\n",
      "  vmagev\n",
      "  vmagu\n",
      "  vmagv\n",
      "  vmean\n",
      "  vmwci\n",
      "  vrepb\n",
      "  vreps\n",
      "  vu\n",
      "  vv\n",
      "  vwcins\n",
      "  vwf\n",
      "  vws\n",
      "  vz\n",
      "  wb\n",
      "  wete\n",
      "  wetu\n",
      "  wetv\n",
      "  wetz\n",
      "  wi\n",
      "  winddirts\n",
      "  windinpt\n",
      "  windnv\n",
      "  windsu\n",
      "  windvelts\n",
      "  windxts\n",
      "  windyts\n",
      "  wm\n",
      "  ws\n",
      "  wscrit\n",
      "  x\n",
      "  xhrunup\n",
      "  xu\n",
      "  xv\n",
      "  xyzs01\n",
      "  xyzs02\n",
      "  xyzs03\n",
      "  xyzs04\n",
      "  xz\n",
      "  y\n",
      "  yu\n",
      "  yv\n",
      "  yz\n",
      "  z0bed\n",
      "  zb\n",
      "  zb0\n",
      "  zbobs\n",
      "  zi\n",
      "  zs\n",
      "  zs0\n",
      "  zs0fac\n",
      "  zs1\n",
      "  zswci\n"
     ]
    }
   ],
   "source": [
    "print(\"XBeach Output Variables (OutputVarsEnum):\")\n",
    "print(\"=\" * 60)\n",
    "for var in OutputVarsEnum:\n",
    "    print(f\"  {var.value}\")"
   ]
  },
  {
   "cell_type": "markdown",
   "id": "25dd8232",
   "metadata": {},
   "source": [
    "## 11. Integration with XBeach Config\n",
    "\n",
    "The Output object is typically used as part of a larger XBeach configuration:"
   ]
  },
  {
   "cell_type": "code",
   "execution_count": 52,
   "id": "d41e89bc",
   "metadata": {},
   "outputs": [
    {
     "name": "stdout",
     "output_type": "stream",
     "text": [
      "Integration Example:\n",
      "\n",
      "from rompy_xbeach.config import Config\n",
      "from rompy_xbeach.components.output import Output\n",
      "\n",
      "config = Config(\n",
      "    # ... other configuration parameters ...\n",
      "\n",
      "    output=Output(\n",
      "        ncfilename=\"simulation_output.nc\",\n",
      "        meanvars=[\"H\", \"zs\"],\n",
      "        globalvars=[\"H\"],\n",
      "        points=[(0.0, 500.0)],\n",
      "        pointvars=[\"H\", \"u\"],\n",
      "        tstart=0.0,\n",
      "        tintg=10.0,\n",
      "        tintm=3600.0,\n",
      "    ),\n",
      "\n",
      "    # ... other configuration parameters ...\n",
      ")\n",
      "\n",
      "# The output.params will be merged into the params.txt file\n",
      "params = config.output.params\n",
      "\n"
     ]
    }
   ],
   "source": [
    "# Example of how Output fits into a Config object\n",
    "example_usage = \"\"\"\n",
    "from rompy_xbeach.config import Config\n",
    "from rompy_xbeach.components.output import Output\n",
    "\n",
    "config = Config(\n",
    "    # ... other configuration parameters ...\n",
    "    \n",
    "    output=Output(\n",
    "        ncfilename=\"simulation_output.nc\",\n",
    "        meanvars=[\"H\", \"zs\"],\n",
    "        globalvars=[\"H\"],\n",
    "        points=[(0.0, 500.0)],\n",
    "        pointvars=[\"H\", \"u\"],\n",
    "        tstart=0.0,\n",
    "        tintg=10.0,\n",
    "        tintm=3600.0,\n",
    "    ),\n",
    "    \n",
    "    # ... other configuration parameters ...\n",
    ")\n",
    "\n",
    "# The output.params will be merged into the params.txt file\n",
    "params = config.output.params\n",
    "\"\"\"\n",
    "\n",
    "print(\"Integration Example:\")\n",
    "print(example_usage)"
   ]
  },
  {
   "cell_type": "markdown",
   "id": "704f35ac",
   "metadata": {},
   "source": [
    "## Summary\n",
    "\n",
    "Key takeaways:\n",
    "\n",
    "1. **Four output types**: mean, global, point, and run-up gauge\n",
    "2. **Automatic counting**: `nmeanvar`, `nglobalvar`, etc. are calculated automatically\n",
    "3. **Flexible timing**: Use fixed intervals or file-based times\n",
    "4. **Validation**: Built-in warnings for common configuration issues\n",
    "5. **Simple to complex**: Start simple and add complexity as needed\n",
    "6. **Type-safe**: Uses enums for variable names to prevent typos\n",
    "\n",
    "For more information, see the XBeach manual and the Output class documentation."
   ]
  },
  {
   "cell_type": "markdown",
   "id": "b5361c5b",
   "metadata": {},
   "source": [
    "## Next Steps\n",
    "\n",
    "- Explore other XBeach configuration components (grid, boundary conditions, etc.)\n",
    "- Run a complete simulation with your output configuration\n",
    "- Analyse the output NetCDF file using xarray or other tools\n",
    "- Experiment with different output variables and timing configurations"
   ]
  }
 ],
 "metadata": {
  "jupytext": {
   "cell_metadata_filter": "-all",
   "main_language": "python",
   "notebook_metadata_filter": "-all"
  },
  "language_info": {
   "name": "python"
  }
 },
 "nbformat": 4,
 "nbformat_minor": 5
}
