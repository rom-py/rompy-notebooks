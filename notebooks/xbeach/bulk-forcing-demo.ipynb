{
 "cells": [
  {
   "cell_type": "markdown",
   "metadata": {},
   "source": [
    "# XBeach bulk data forcing\n",
    "\n",
    "Demo notebook with usage examples\n",
    "\n",
    "## Overview\n",
    "\n",
    "XBeach is normally run in the nearshore, over relative small spatial scales. On these\n",
    "scales, forcing input data to the model can often be assumed to be \"stationary\". For\n",
    "example, in a typical domain of *O(1) km*, input forcing such as wind, tide elevation\n",
    "and wave boundary could be considered to be relatively constant across the domain.\n",
    "\n",
    "Rompy-XBeach provides Data objects to support bulk forcing, i.e., forcing data defined\n",
    "for a single point location by tabular data. In contrast to other data objects such as\n",
    "the grid- or station-based ones, point-based objects deal with data sources that do\n",
    "not require spatial coordinates and can be represented for example by a CSV file or a\n",
    "Pandas DataFrame. Source objects are available to represent these data types."
   ]
  },
  {
   "cell_type": "code",
   "execution_count": 1,
   "metadata": {},
   "outputs": [],
   "source": [
    "%load_ext autoreload\n",
    "%autoreload 2"
   ]
  },
  {
   "cell_type": "code",
   "execution_count": 2,
   "metadata": {},
   "outputs": [],
   "source": [
    "from pathlib import Path\n",
    "from datetime import datetime, timedelta\n",
    "import pandas as pd\n",
    "import xarray as xr\n",
    "import shutil\n",
    "\n",
    "import warnings\n",
    "warnings.filterwarnings(\"ignore\")"
   ]
  },
  {
   "cell_type": "code",
   "execution_count": 3,
   "metadata": {},
   "outputs": [],
   "source": [
    "def generate_output_directory(path=\"bulk-forcing-demo\"):\n",
    "    \"\"\"Generate the output dir for the examples, removing it if it already exists.\"\"\"\n",
    "    outdir = Path(path)\n",
    "    if outdir.exists():\n",
    "        shutil.rmtree(outdir)\n",
    "    outdir.mkdir()\n",
    "    return outdir"
   ]
  },
  {
   "cell_type": "code",
   "execution_count": 4,
   "metadata": {},
   "outputs": [],
   "source": [
    "datadir = Path(\"../../../rompy-xbeach/tests/data\")"
   ]
  },
  {
   "cell_type": "markdown",
   "metadata": {},
   "source": [
    "Let's start by defining common grid and timerange objects to use with the different examples in this Notebook."
   ]
  },
  {
   "cell_type": "code",
   "execution_count": 5,
   "metadata": {},
   "outputs": [],
   "source": [
    "from rompy.core.time import TimeRange\n",
    "from rompy_xbeach.grid import RegularGrid"
   ]
  },
  {
   "cell_type": "code",
   "execution_count": 6,
   "metadata": {},
   "outputs": [],
   "source": [
    "# Model times\n",
    "times = TimeRange(start=\"2023-01-01T00\", end=\"2023-01-01T12\", interval=\"1h\")\n",
    "\n",
    "# Model grid\n",
    "grid = RegularGrid(\n",
    "    ori=dict(x=115.594239, y=-32.641104, crs=\"epsg:4326\"),\n",
    "    alfa=347.0,\n",
    "    dx=10,\n",
    "    dy=15,\n",
    "    nx=230,\n",
    "    ny=220,\n",
    "    crs=\"28350\",\n",
    ")"
   ]
  },
  {
   "cell_type": "markdown",
   "metadata": {},
   "source": [
    "## Wind forcing\n",
    "\n",
    "Bulk wind forcing can be prescribed by the **WindPoint** object which currently supports\n",
    "input timeseries data from CSV file or a Pandas DataFrame object."
   ]
  },
  {
   "cell_type": "code",
   "execution_count": 7,
   "metadata": {},
   "outputs": [],
   "source": [
    "from rompy.core.source import SourceTimeseriesCSV\n",
    "from rompy_xbeach.forcing import WindPoint, WindVector, WindScalar"
   ]
  },
  {
   "cell_type": "code",
   "execution_count": 8,
   "metadata": {},
   "outputs": [
    {
     "data": {
      "text/plain": [
       "{'windfile': 'wind-20230101T000000-20230101T120000.txt'}"
      ]
     },
     "execution_count": 8,
     "metadata": {},
     "output_type": "execute_result"
    }
   ],
   "source": [
    "# Generate the output directory\n",
    "destdir = generate_output_directory()\n",
    "\n",
    "# Input data source definition\n",
    "source = SourceTimeseriesCSV(\n",
    "    filename=datadir / \"wind.csv\",\n",
    "    tcol=\"time\",\n",
    ")\n",
    "\n",
    "# Wind object\n",
    "wind = WindPoint(\n",
    "    source=source,\n",
    "    wind_vars=WindScalar(spd=\"wspd\", dir=\"wdir\"),\n",
    ")\n",
    "\n",
    "# Generating the forcing data\n",
    "namelist = wind.get(destdir=destdir, grid=grid, time=times)\n",
    "namelist"
   ]
  },
  {
   "cell_type": "code",
   "execution_count": 9,
   "metadata": {},
   "outputs": [
    {
     "name": "stdout",
     "output_type": "stream",
     "text": [
      "      0.00       7.24     149.87\n",
      "   3600.00       7.15     150.90\n",
      "   7200.00       7.11     154.32\n",
      "  10800.00       7.27     159.03\n",
      "  14400.00       7.54     163.52\n",
      "  18000.00       7.97     167.57\n",
      "  21600.00       8.36     170.24\n",
      "  25200.00       8.77     172.81\n",
      "  28800.00       9.17     174.48\n",
      "  32400.00       9.54     174.92\n",
      "  36000.00       9.78     177.59\n",
      "  39600.00      10.09     175.46\n",
      "  43200.00      10.19     172.35\n",
      "\n"
     ]
    }
   ],
   "source": [
    "# Check the content of the generated wind file\n",
    "windfile = destdir / namelist[\"windfile\"]\n",
    "print(windfile.read_text())"
   ]
  },
  {
   "cell_type": "markdown",
   "metadata": {},
   "source": [
    "## Tide forcing\n",
    "\n",
    "### Constituents\n",
    "\n",
    "Tide timeseries can be generated with the **TideConsPoint** object from tabular constituents\n",
    "data such as harmonic constituents for a site. These data can currently be prescribed\n",
    "from CSV files with columns representing tide elevation amplitude and phase for the\n",
    "different constituents. Similar to the TideGrid object, oceantide is used to convert\n",
    "these into elevation timeseries."
   ]
  },
  {
   "cell_type": "code",
   "execution_count": 10,
   "metadata": {},
   "outputs": [],
   "source": [
    "from rompy_xbeach.source import SourceTideConsPointCSV\n",
    "from rompy_xbeach.forcing import TideConsPoint"
   ]
  },
  {
   "cell_type": "code",
   "execution_count": 11,
   "metadata": {},
   "outputs": [
    {
     "name": "stdout",
     "output_type": "stream",
     "text": [
      "{'zs0file': 'tide-20230101T000000-20230101T120000.txt', 'tideloc': 1, 'tidelen': 13}\n"
     ]
    }
   ],
   "source": [
    "# Generate the output directory\n",
    "destdir = generate_output_directory()\n",
    "\n",
    "# Input data source definition\n",
    "source = SourceTideConsPointCSV(\n",
    "    filename=datadir / \"tide_cons_station.csv\",\n",
    "    acol=\"amplitude\",\n",
    "    pcol=\"phase\",\n",
    "    ccol=\"constituent\",\n",
    ")\n",
    "\n",
    "# Tide object\n",
    "tide = TideConsPoint(source=source)\n",
    "\n",
    "# Generating the forcing data\n",
    "namelist = tide.get(destdir=destdir, grid=grid, time=times)\n",
    "print(namelist)"
   ]
  },
  {
   "cell_type": "code",
   "execution_count": 12,
   "metadata": {},
   "outputs": [
    {
     "name": "stdout",
     "output_type": "stream",
     "text": [
      "      0.00      -0.20\n",
      "   3600.00      -0.15\n",
      "   7200.00      -0.09\n",
      "  10800.00      -0.02\n",
      "  14400.00       0.06\n",
      "  18000.00       0.13\n",
      "  21600.00       0.19\n",
      "  25200.00       0.24\n",
      "  28800.00       0.26\n",
      "  32400.00       0.26\n",
      "  36000.00       0.23\n",
      "  39600.00       0.20\n",
      "  43200.00       0.15\n",
      "\n"
     ]
    }
   ],
   "source": [
    "# Check the content of the generated tide elevation file\n",
    "zs0file = destdir / namelist[\"zs0file\"]\n",
    "print(zs0file.read_text())"
   ]
  },
  {
   "cell_type": "markdown",
   "metadata": {},
   "source": [
    "### Water level\n",
    "\n",
    "Alternatively, tide input (or, more generically, water level boundary) can be prescribed\n",
    "from timeseris type data instead of tide constituents. Three objects are available to\n",
    "support gridded-, station- and point-based water level timeseries data. Here we are\n",
    "going to demonstrate **WaterLevelPoint** which supports point-based (\"bulk\") type data."
   ]
  },
  {
   "cell_type": "code",
   "execution_count": 13,
   "metadata": {},
   "outputs": [],
   "source": [
    "from rompy_xbeach.forcing import WaterLevelPoint"
   ]
  },
  {
   "cell_type": "code",
   "execution_count": 14,
   "metadata": {},
   "outputs": [
    {
     "name": "stdout",
     "output_type": "stream",
     "text": [
      "{'zs0file': 'tide-20230101T000000-20230101T120000.txt', 'tideloc': 1, 'tidelen': 25}\n"
     ]
    }
   ],
   "source": [
    "# Generate the output directory\n",
    "destdir = generate_output_directory()\n",
    "\n",
    "# Input data source definition\n",
    "source = SourceTimeseriesCSV(filename=datadir / \"ssh.csv\", tcol=\"time\")\n",
    "\n",
    "# Tide object\n",
    "tide = WaterLevelPoint(source=source, variables=[\"ssh\"])\n",
    "\n",
    "# Generating the forcing data\n",
    "namelist = tide.get(destdir=destdir, grid=grid, time=times)\n",
    "print(namelist)"
   ]
  },
  {
   "cell_type": "code",
   "execution_count": 15,
   "metadata": {},
   "outputs": [
    {
     "name": "stdout",
     "output_type": "stream",
     "text": [
      "      0.00      -0.61\n",
      "   3600.00      -0.48\n",
      "   7200.00      -0.33\n",
      "  10800.00      -0.16\n",
      "  14400.00       0.03\n",
      "  18000.00       0.25\n",
      "  21600.00       0.47\n",
      "  25200.00       0.68\n",
      "  28800.00       0.87\n",
      "  32400.00       1.01\n",
      "  36000.00       1.08\n",
      "  39600.00       1.06\n",
      "  43200.00       0.95\n",
      "  46800.00       0.75\n",
      "  50400.00       0.47\n",
      "  54000.00       0.14\n",
      "  57600.00      -0.20\n",
      "  61200.00      -0.52\n",
      "  64800.00      -0.79\n",
      "  68400.00      -0.99\n",
      "  72000.00      -1.11\n",
      "  75600.00      -1.14\n",
      "  79200.00      -1.10\n",
      "  82800.00      -1.00\n",
      "  86400.00      -0.85\n",
      "\n"
     ]
    }
   ],
   "source": [
    "# Check the content of the generated tide elevation file\n",
    "zs0file = destdir / namelist[\"zs0file\"]\n",
    "print(zs0file.read_text())"
   ]
  },
  {
   "cell_type": "markdown",
   "metadata": {},
   "source": [
    "## Wave boundary\n",
    "\n",
    "Wave boundary can be defined from timeseries of wave parameters defined form either CSV\n",
    "or pandas DataFrame input source data. Two types of XBeach boundary are currently supported\n",
    "with timeseries type source:\n",
    "\n",
    "- *JONS*: **BoundaryPointParamJons**\n",
    "- *JONSTABLE*: **BoundaryPointParamJonstable**"
   ]
  },
  {
   "cell_type": "markdown",
   "metadata": {},
   "source": [
    "### JONS"
   ]
  },
  {
   "cell_type": "code",
   "execution_count": 16,
   "metadata": {},
   "outputs": [],
   "source": [
    "from rompy_xbeach.boundary import BoundaryPointParamJons"
   ]
  },
  {
   "cell_type": "code",
   "execution_count": 17,
   "metadata": {},
   "outputs": [
    {
     "data": {
      "text/plain": [
       "{'wbctype': 'jons', 'bcfile': 'jons-filelist.txt'}"
      ]
     },
     "execution_count": 17,
     "metadata": {},
     "output_type": "execute_result"
    }
   ],
   "source": [
    "# Generate the output directory\n",
    "destdir = generate_output_directory()\n",
    "\n",
    "# Input data source definition\n",
    "source = SourceTimeseriesCSV(filename=datadir / \"wave-params-20230101.csv\")\n",
    "\n",
    "# Wind object\n",
    "wb = BoundaryPointParamJons(\n",
    "    source=source,\n",
    "    hm0=\"phs1\",\n",
    "    tp=\"ptp1\",\n",
    "    mainang=\"pdp1\",\n",
    "    gammajsp=\"ppe1\",\n",
    "    dspr=\"pspr1\",\n",
    ")\n",
    "\n",
    "# Generating the forcing data\n",
    "namelist = wb.get(destdir=destdir, grid=grid, time=times)\n",
    "namelist"
   ]
  },
  {
   "cell_type": "code",
   "execution_count": 18,
   "metadata": {},
   "outputs": [
    {
     "name": "stdout",
     "output_type": "stream",
     "text": [
      "FILELIST\n",
      "3600 1 jons-20230101T000000.txt\n",
      "3600 1 jons-20230101T010000.txt\n",
      "3600 1 jons-20230101T020000.txt\n",
      "3600 1 jons-20230101T030000.txt\n",
      "3600 1 jons-20230101T040000.txt\n",
      "3600 1 jons-20230101T050000.txt\n",
      "3600 1 jons-20230101T060000.txt\n",
      "3600 1 jons-20230101T070000.txt\n",
      "3600 1 jons-20230101T080000.txt\n",
      "3600 1 jons-20230101T090000.txt\n",
      "3600 1 jons-20230101T100000.txt\n",
      "3600 1 jons-20230101T110000.txt\n",
      "\n"
     ]
    }
   ],
   "source": [
    "# Check the content of the generated boundary file\n",
    "bcfile = destdir / namelist[\"bcfile\"]\n",
    "filelist = bcfile.read_text()\n",
    "print(filelist)"
   ]
  },
  {
   "cell_type": "code",
   "execution_count": 19,
   "metadata": {},
   "outputs": [
    {
     "name": "stdout",
     "output_type": "stream",
     "text": [
      "Hm0 = 1.01011\n",
      "mainang = 244.342\n",
      "gammajsp = 2.52055\n",
      "Tp = 12.2993\n",
      "s = 33.9251\n",
      "\n"
     ]
    }
   ],
   "source": [
    "# Check the content of one of the filelist files\n",
    "jonfile = destdir / filelist.split(\"\\n\")[1].split()[-1]\n",
    "print(jonfile.read_text())"
   ]
  },
  {
   "cell_type": "markdown",
   "metadata": {},
   "source": [
    "### JONSTABLE"
   ]
  },
  {
   "cell_type": "code",
   "execution_count": 20,
   "metadata": {},
   "outputs": [],
   "source": [
    "from rompy_xbeach.boundary import BoundaryPointParamJonstable"
   ]
  },
  {
   "cell_type": "code",
   "execution_count": 21,
   "metadata": {},
   "outputs": [
    {
     "data": {
      "text/plain": [
       "{'wbctype': 'jonstable',\n",
       " 'bcfile': 'jonstable-20230101T000000-20230101T120000.txt'}"
      ]
     },
     "execution_count": 21,
     "metadata": {},
     "output_type": "execute_result"
    }
   ],
   "source": [
    "# Generate the output directory\n",
    "destdir = generate_output_directory()\n",
    "\n",
    "# Input data source definition\n",
    "source = SourceTimeseriesCSV(filename=datadir / \"wave-params-20230101.csv\")\n",
    "\n",
    "# Wind object\n",
    "wb = BoundaryPointParamJonstable(\n",
    "    source=source,\n",
    "    hm0=\"phs1\",\n",
    "    tp=\"ptp1\",\n",
    "    mainang=\"pdp1\",\n",
    "    gammajsp=\"ppe1\",\n",
    "    dspr=\"pspr1\",\n",
    ")\n",
    "\n",
    "# Generating the forcing data\n",
    "namelist = wb.get(destdir=destdir, grid=grid, time=times)\n",
    "namelist"
   ]
  },
  {
   "cell_type": "code",
   "execution_count": 22,
   "metadata": {},
   "outputs": [
    {
     "name": "stdout",
     "output_type": "stream",
     "text": [
      "1.01011 12.2993 244.342 2.52055 33.9251 3600 1\n",
      "0.968176 13.7877 247.584 3.02407 41.2201 3600 1\n",
      "0.994085 14.1542 248.386 3.02558 48.7203 3600 1\n",
      "1.07939 13.5109 246.407 2.65635 46.7938 3600 1\n",
      "1.13343 15.3336 250.89 2.79238 54.9961 3600 1\n",
      "1.36986 15.4369 251.308 2.40611 50.0111 3600 1\n",
      "1.46595 15.2322 251.179 2.30742 48.5546 3600 1\n",
      "1.55301 15.0677 251.001 2.18789 47.001 3600 1\n",
      "1.60305 14.9164 250.805 2.12522 46.4984 3600 1\n",
      "1.63845 14.77 250.583 2.06828 46.1284 3600 1\n",
      "1.66568 14.625 250.334 2.00733 45.8816 3600 1\n",
      "1.68705 14.4773 250.034 1.94841 45.9753 3600 1\n",
      "1.70383 14.321 249.769 1.89275 45.5342 3600 1\n",
      "\n"
     ]
    }
   ],
   "source": [
    "# Check the content of the generated boundary file\n",
    "bcfile = destdir / namelist[\"bcfile\"]\n",
    "print(bcfile.read_text())"
   ]
  },
  {
   "cell_type": "markdown",
   "metadata": {},
   "source": [
    "## Define a model Config\n",
    "\n",
    "Use the bulk forcing instances created above to define a Rompy XBeach config object"
   ]
  },
  {
   "cell_type": "code",
   "execution_count": 23,
   "metadata": {},
   "outputs": [],
   "source": [
    "from rompy_xbeach.data import XBeachBathy\n",
    "from rompy_xbeach.interpolate import RegularGridInterpolator\n",
    "from rompy_xbeach.data import SeawardExtensionLinear\n",
    "from rompy_xbeach.source import SourceGeotiff"
   ]
  },
  {
   "cell_type": "markdown",
   "metadata": {},
   "source": [
    "### Define the bathy"
   ]
  },
  {
   "cell_type": "code",
   "execution_count": 24,
   "metadata": {},
   "outputs": [],
   "source": [
    "# Interpolator\n",
    "interpolator = RegularGridInterpolator(\n",
    "    kwargs=dict(\n",
    "        method=\"linear\",\n",
    "        fill_value=None,\n",
    "    ),\n",
    ")\n",
    "\n",
    "# Seaward extension\n",
    "extension = SeawardExtensionLinear(\n",
    "    depth=25,\n",
    "    slope=0.1,\n",
    ")\n",
    "\n",
    "# Bathy object\n",
    "bathy = XBeachBathy(\n",
    "    source=SourceGeotiff(filename=datadir / \"bathy.tif\"),\n",
    "    posdwn=False,\n",
    "    interpolator=interpolator,\n",
    "    extension=extension,\n",
    "    left=5,\n",
    "    right=5,\n",
    ")"
   ]
  },
  {
   "cell_type": "markdown",
   "metadata": {},
   "source": [
    "### Instantiate the Config"
   ]
  },
  {
   "cell_type": "code",
   "execution_count": 25,
   "metadata": {},
   "outputs": [],
   "source": [
    "from rompy_xbeach.config import Config"
   ]
  },
  {
   "cell_type": "code",
   "execution_count": 26,
   "metadata": {},
   "outputs": [],
   "source": [
    "config = Config(\n",
    "    grid=grid,\n",
    "    bathy=bathy,\n",
    "    input=dict(wave=wb, wind=wind, tide=tide),\n",
    "    front=\"abs_2d\",\n",
    "    back=\"abs_2d\",\n",
    "    left=\"neumann\",\n",
    "    right=\"neumann\",\n",
    "    rugdepth=0.011,\n",
    "    scheme=\"warmbeam\",\n",
    "    order=1,\n",
    "    lateralwave=\"wavecrest\",\n",
    "    random=True,\n",
    "    zs0=0.0,\n",
    "    hmin=0.01,\n",
    "    wci=False,\n",
    "    alpha=1,\n",
    "    delta=0.0,\n",
    "    n=10,\n",
    "    rho=1025,\n",
    "    g=9.81,\n",
    "    thetamin=-80,\n",
    "    thetamax=80,\n",
    "    dtheta=10.0,\n",
    "    beta=0.1,\n",
    "    roller=True,\n",
    "    gamma=0.55,\n",
    "    gammax=1.0,\n",
    "    sedtrans=False,\n",
    "    morfac=1.0,\n",
    "    morphology=False,\n",
    "    cf=0.01,\n",
    "    paulrevere=\"land\",\n",
    "    eps=0.01,\n",
    "    epsi=0.001,\n",
    "    cfl=0.8,\n",
    "    umin=0.1,\n",
    "    oldhu=True,\n",
    "    tstart=0,\n",
    "    tintm=3600.0,\n",
    "    outputformat=\"netcdf\",\n",
    "    ncfilename=\"xboutput_test.nc\",\n",
    ")"
   ]
  },
  {
   "cell_type": "markdown",
   "metadata": {},
   "source": [
    "### Generate the workspace"
   ]
  },
  {
   "cell_type": "code",
   "execution_count": 27,
   "metadata": {},
   "outputs": [],
   "source": [
    "from rompy.model import ModelRun"
   ]
  },
  {
   "cell_type": "code",
   "execution_count": 28,
   "metadata": {},
   "outputs": [
    {
     "name": "stderr",
     "output_type": "stream",
     "text": [
      "INFO:rompy.model:\n",
      "INFO:rompy.model:-----------------------------------------------------\n",
      "INFO:rompy.model:Model settings:\n",
      "INFO:rompy.model:\n",
      "run_id: test1\n",
      "period: \n",
      "\tStart: 2023-01-01 00:00:00\n",
      "\tEnd: 2023-01-01 12:00:00\n",
      "\tDuration: 12:00:00\n",
      "\tInterval: 1:00:00\n",
      "\tInclude End: True\n",
      "\n",
      "output_dir: bulk-forcing-demo\n",
      "config: <class 'rompy_xbeach.config.Config'>\n",
      "\n",
      "INFO:rompy.model:-----------------------------------------------------\n",
      "INFO:rompy.model:Generating model input files in bulk-forcing-demo\n",
      "INFO:rompy_xbeach.config:Generating wave boundary data\n",
      "INFO:rompy_xbeach.config:Generating wind forcing data\n",
      "INFO:rompy_xbeach.config:Generating tide forcing data\n",
      "INFO:rompy.model:\n",
      "INFO:rompy.model:Successfully generated project in /source/csiro/rompy-notebooks/notebooks/xbeach/bulk-forcing-demo/test1\n",
      "INFO:rompy.model:-----------------------------------------------------\n"
     ]
    }
   ],
   "source": [
    "# Generate the output directory\n",
    "destdir = generate_output_directory()\n",
    "\n",
    "modelrun = ModelRun(\n",
    "    run_id=\"test1\",\n",
    "    period=times,\n",
    "    output_dir=destdir,\n",
    "    config=config,\n",
    ")\n",
    "\n",
    "rundir = modelrun()"
   ]
  },
  {
   "cell_type": "markdown",
   "metadata": {},
   "source": [
    "### Check the workspace files"
   ]
  },
  {
   "cell_type": "code",
   "execution_count": 29,
   "metadata": {},
   "outputs": [
    {
     "data": {
      "text/plain": [
       "[PosixPath('bulk-forcing-demo/test1/bathy.txt'),\n",
       " PosixPath('bulk-forcing-demo/test1/jonstable-20230101T000000-20230101T120000.txt'),\n",
       " PosixPath('bulk-forcing-demo/test1/params.txt'),\n",
       " PosixPath('bulk-forcing-demo/test1/tide-20230101T000000-20230101T120000.txt'),\n",
       " PosixPath('bulk-forcing-demo/test1/wind-20230101T000000-20230101T120000.txt'),\n",
       " PosixPath('bulk-forcing-demo/test1/xdata.txt'),\n",
       " PosixPath('bulk-forcing-demo/test1/ydata.txt')]"
      ]
     },
     "execution_count": 29,
     "metadata": {},
     "output_type": "execute_result"
    }
   ],
   "source": [
    "modeldir = Path(modelrun.output_dir) / modelrun.run_id\n",
    "\n",
    "sorted(modeldir.glob(\"*\"))"
   ]
  },
  {
   "cell_type": "markdown",
   "metadata": {},
   "source": [
    "### Check the params file"
   ]
  },
  {
   "cell_type": "code",
   "execution_count": 30,
   "metadata": {},
   "outputs": [
    {
     "name": "stdout",
     "output_type": "stream",
     "text": [
      "%%%%%%%%%%%%%%%%%%%%%%%%%%%%%%%%%%%%%%%%%%%%%%%%%%%%%%%%%%%%%%%%%%%%%%%%%%%\n",
      "%%% XBeach parameter settings input file\n",
      "%%%\n",
      "%%% Date: 2025-03-12 04:50:40.577933\n",
      "%%% User: rafael-XPS\n",
      "%%% Template: /source/csiro/rompy-xbeach/src/rompy_xbeach/templates/base\n",
      "%%%%%%%%%%%%%%%%%%%%%%%%%%%%%%%%%%%%%%%%%%%%%%%%%%%%%%%%%%%%%%%%%%%%%%%%%%%\n",
      "\n",
      "zs0 = 0.0\n",
      "front = abs_2d\n",
      "back = abs_2d\n",
      "left = neumann\n",
      "right = neumann\n",
      "lateralwave = wavecrest\n",
      "rugdepth = 0.011\n",
      "scheme = warmbeam\n",
      "order = 1\n",
      "random = 1\n",
      "hmin = 0.01\n",
      "wci = 0\n",
      "alpha = 1.0\n",
      "delta = 0.0\n",
      "n = 10.0\n",
      "rho = 1025.0\n",
      "g = 9.81\n",
      "thetamin = -80.0\n",
      "thetamax = 80.0\n",
      "dtheta = 10.0\n",
      "beta = 0.1\n",
      "roller = 1\n",
      "gamma = 0.55\n",
      "gammax = 1.0\n",
      "sedtrans = 0\n",
      "morfac = 1.0\n",
      "morphology = 0\n",
      "cf = 0.01\n",
      "eps = 0.01\n",
      "epsi = 0.001\n",
      "cfl = 0.8\n",
      "umin = 0.1\n",
      "oldhu = 1\n",
      "outputformat = netcdf\n",
      "ncfilename = xboutput_test.nc\n",
      "tstart = 0.0\n",
      "tintm = 3600.0\n",
      "paulrevere = land\n",
      "tstop = 43200.0\n",
      "tunits = seconds since 2023-01-01 00:00:00\n",
      "wbctype = jonstable\n",
      "bcfile = jonstable-20230101T000000-20230101T120000.txt\n",
      "windfile = wind-20230101T000000-20230101T120000.txt\n",
      "zs0file = tide-20230101T000000-20230101T120000.txt\n",
      "tideloc = 1\n",
      "tidelen = 25\n",
      "posdwn = -1\n",
      "nx = 241\n",
      "ny = 229\n",
      "dx = 10.0\n",
      "dy = 15.0\n",
      "xori = 368011.2066131959\n",
      "yori = 6387580.505638544\n",
      "alfa = 347.0\n",
      "projection = +proj=utm +zone=50 +south +ellps=GRS80 +units=m +no_defs +type=crs\n",
      "depfile = bathy.txt\n",
      "\n",
      "nmeanvar = 14\n",
      "H\n",
      "thetamean\n",
      "hh\n",
      "u\n",
      "v\n",
      "D\n",
      "R\n",
      "k\n",
      "ue\n",
      "ve\n",
      "urms\n",
      "Qb\n",
      "zb\n",
      "zs\n"
     ]
    }
   ],
   "source": [
    "params = modeldir / \"params.txt\"\n",
    "\n",
    "print(params.read_text())"
   ]
  }
 ],
 "metadata": {
  "kernelspec": {
   "display_name": "xbeach",
   "language": "python",
   "name": "python3"
  },
  "language_info": {
   "codemirror_mode": {
    "name": "ipython",
    "version": 3
   },
   "file_extension": ".py",
   "mimetype": "text/x-python",
   "name": "python",
   "nbconvert_exporter": "python",
   "pygments_lexer": "ipython3",
   "version": "3.10.12"
  }
 },
 "nbformat": 4,
 "nbformat_minor": 4
}
