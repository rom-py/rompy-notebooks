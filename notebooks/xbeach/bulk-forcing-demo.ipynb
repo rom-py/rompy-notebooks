{
 "cells": [
  {
   "cell_type": "markdown",
   "metadata": {},
   "source": [
    "# XBeach bulk data forcing\n",
    "\n",
    "Demo notebook with usage examples\n",
    "\n",
    "## Overview\n",
    "\n",
    "XBeach is normally run in the nearshore, over relative small spatial scales. On these\n",
    "scales, forcing input data to the model can often be assumed to be \"stationary\". For\n",
    "example, in a typical domain of *O(1) km*, input forcing such as wind, tide elevation\n",
    "and wave boundary could be considered to be relatively constant across the domain.\n",
    "\n",
    "Rompy-XBeach provides Data objects to support bulk forcing, i.e., forcing data defined\n",
    "for a single point location by tabular data. In contrast to other data objects such as\n",
    "the grid- or station-based ones, point-based objects deals with data sources that do\n",
    "not require spatial coordinates and can be represented for example by a CSV file or a\n",
    "Pandas DataFrame. Source objects are available to represent these data types."
   ]
  },
  {
   "cell_type": "code",
   "execution_count": 1,
   "metadata": {},
   "outputs": [],
   "source": [
    "%load_ext autoreload\n",
    "%autoreload 2"
   ]
  },
  {
   "cell_type": "code",
   "execution_count": 2,
   "metadata": {},
   "outputs": [],
   "source": [
    "from pathlib import Path\n",
    "from datetime import datetime, timedelta\n",
    "import pandas as pd\n",
    "import xarray as xr\n",
    "import shutil\n",
    "\n",
    "import warnings\n",
    "warnings.filterwarnings(\"ignore\")"
   ]
  },
  {
   "cell_type": "code",
   "execution_count": 3,
   "metadata": {},
   "outputs": [],
   "source": [
    "def generate_output_directory(path=\"bulk-forcing-demo\"):\n",
    "    \"\"\"Generate the output dir for the examples, removing it if it already exists.\"\"\"\n",
    "    outdir = Path(path)\n",
    "    if outdir.exists():\n",
    "        shutil.rmtree(outdir)\n",
    "    outdir.mkdir()\n",
    "    return outdir"
   ]
  },
  {
   "cell_type": "code",
   "execution_count": 4,
   "metadata": {},
   "outputs": [],
   "source": [
    "datadir = Path(\"../../../rompy-xbeach/tests/data\")"
   ]
  },
  {
   "cell_type": "markdown",
   "metadata": {},
   "source": [
    "Let's start by defining common grid and timerange objects to use with the different examples in this Notebook."
   ]
  },
  {
   "cell_type": "code",
   "execution_count": 5,
   "metadata": {},
   "outputs": [],
   "source": [
    "from rompy.core.time import TimeRange\n",
    "from rompy_xbeach.grid import RegularGrid"
   ]
  },
  {
   "cell_type": "code",
   "execution_count": 6,
   "metadata": {},
   "outputs": [],
   "source": [
    "# Model times\n",
    "times = TimeRange(start=\"2023-01-01T00\", end=\"2023-01-01T12\", interval=\"1h\")\n",
    "\n",
    "# Model grid\n",
    "grid = RegularGrid(\n",
    "    ori=dict(x=115.594239, y=-32.641104, crs=\"epsg:4326\"),\n",
    "    alfa=347.0,\n",
    "    dx=10,\n",
    "    dy=15,\n",
    "    nx=230,\n",
    "    ny=220,\n",
    "    crs=\"28350\",\n",
    ")"
   ]
  },
  {
   "cell_type": "markdown",
   "metadata": {},
   "source": [
    "## Wind forcing\n",
    "\n",
    "Bulk wind forcing can be prescribed by the **WindPoint** object which currently supports\n",
    "input timeseries data from CSV file or a Pandas DataFrame object."
   ]
  },
  {
   "cell_type": "code",
   "execution_count": 7,
   "metadata": {},
   "outputs": [],
   "source": [
    "from rompy.core.source import SourceTimeseriesCSV\n",
    "from rompy_xbeach.forcing import WindPoint, WindVector, WindScalar"
   ]
  },
  {
   "cell_type": "code",
   "execution_count": 8,
   "metadata": {},
   "outputs": [
    {
     "data": {
      "text/plain": [
       "{'windfile': 'data-20230101T000000-20230101T120000.txt'}"
      ]
     },
     "execution_count": 8,
     "metadata": {},
     "output_type": "execute_result"
    }
   ],
   "source": [
    "# Generate the output directory\n",
    "destdir = generate_output_directory()\n",
    "\n",
    "# Input data source definition\n",
    "source = SourceTimeseriesCSV(\n",
    "    filename=datadir / \"wind.csv\",\n",
    "    tcol=\"time\",\n",
    ")\n",
    "\n",
    "# Wind object\n",
    "wind = WindPoint(\n",
    "    source=source,\n",
    "    wind_vars=WindScalar(spd=\"wspd\", dir=\"wdir\"),\n",
    ")\n",
    "\n",
    "# Generating the forcing data\n",
    "namelist = wind.get(destdir=destdir, grid=grid, time=times)\n",
    "namelist"
   ]
  },
  {
   "cell_type": "code",
   "execution_count": 9,
   "metadata": {},
   "outputs": [
    {
     "name": "stdout",
     "output_type": "stream",
     "text": [
      "      0.00       7.24     149.87\n",
      "   3600.00       7.15     150.90\n",
      "   7200.00       7.11     154.32\n",
      "  10800.00       7.27     159.03\n",
      "  14400.00       7.54     163.52\n",
      "  18000.00       7.97     167.57\n",
      "  21600.00       8.36     170.24\n",
      "  25200.00       8.77     172.81\n",
      "  28800.00       9.17     174.48\n",
      "  32400.00       9.54     174.92\n",
      "  36000.00       9.78     177.59\n",
      "  39600.00      10.09     175.46\n",
      "  43200.00      10.19     172.35\n",
      "\n"
     ]
    }
   ],
   "source": [
    "# Check the content of the generated wind file\n",
    "windfile = destdir / namelist[\"windfile\"]\n",
    "print(windfile.read_text())"
   ]
  },
  {
   "cell_type": "markdown",
   "metadata": {},
   "source": [
    "## Tide forcing\n",
    "\n",
    "Tide timeseries can be generated with the **TidePoint** object from tabular constituents\n",
    "data such as harmonic constituents for a site. These data can currently be prescribed\n",
    "from CSV files including tide elevation amplitude and phase for the different constituents.\n",
    "Similar to the TideGrid object, oceantide is used to convert these into elevation timeseries."
   ]
  },
  {
   "cell_type": "code",
   "execution_count": 10,
   "metadata": {},
   "outputs": [],
   "source": [
    "from rompy_xbeach.source import SourceTidePointCSV\n",
    "from rompy_xbeach.forcing import TidePoint"
   ]
  },
  {
   "cell_type": "code",
   "execution_count": 11,
   "metadata": {},
   "outputs": [
    {
     "name": "stderr",
     "output_type": "stream",
     "text": [
      "WARNING:rompy_xbeach.forcing:Overwriting tide variables from to oceantide convention\n"
     ]
    },
    {
     "name": "stdout",
     "output_type": "stream",
     "text": [
      "{'zs0file': 'tide-20230101T000000-20230101T120000.txt', 'tideloc': 1, 'tidelen': 13}\n"
     ]
    }
   ],
   "source": [
    "# Generate the output directory\n",
    "destdir = generate_output_directory()\n",
    "\n",
    "# Input data source definition\n",
    "source = SourceTidePointCSV(\n",
    "    filename=datadir / \"tide_cons_station.csv\",\n",
    "    acol=\"amplitude\",\n",
    "    pcol=\"phase\",\n",
    "    ccol=\"constituent\",\n",
    ")\n",
    "\n",
    "# Tide object\n",
    "tide = TidePoint(source=source)\n",
    "\n",
    "# Generating the forcing data\n",
    "namelist = tide.get(destdir=destdir, grid=grid, time=times)\n",
    "print(namelist)"
   ]
  },
  {
   "cell_type": "code",
   "execution_count": 12,
   "metadata": {},
   "outputs": [
    {
     "name": "stdout",
     "output_type": "stream",
     "text": [
      "      0.00      -0.20\n",
      "   3600.00      -0.15\n",
      "   7200.00      -0.09\n",
      "  10800.00      -0.02\n",
      "  14400.00       0.06\n",
      "  18000.00       0.13\n",
      "  21600.00       0.19\n",
      "  25200.00       0.24\n",
      "  28800.00       0.26\n",
      "  32400.00       0.26\n",
      "  36000.00       0.23\n",
      "  39600.00       0.20\n",
      "  43200.00       0.15\n",
      "\n"
     ]
    }
   ],
   "source": [
    "# Check the content of the generated tide elevation file\n",
    "zs0file = destdir / namelist[\"zs0file\"]\n",
    "print(zs0file.read_text())"
   ]
  },
  {
   "cell_type": "markdown",
   "metadata": {},
   "source": [
    "## Wave boundary\n",
    "\n",
    "Wave boundary can be defined from timeseries of wave parameters defined form either CSV\n",
    "or pandas DataFrame input source data. Two types of XBeach boundary are currently supported\n",
    "with timeseries type source:\n",
    "\n",
    "- *JONS*: **BoundaryPointParamJons**\n",
    "- *JONSTABLE*: **BoundaryPointParamJonstable**"
   ]
  },
  {
   "cell_type": "markdown",
   "metadata": {},
   "source": [
    "### JONS"
   ]
  },
  {
   "cell_type": "code",
   "execution_count": 13,
   "metadata": {},
   "outputs": [],
   "source": [
    "from rompy_xbeach.boundary import BoundaryPointParamJons"
   ]
  },
  {
   "cell_type": "code",
   "execution_count": 14,
   "metadata": {},
   "outputs": [
    {
     "data": {
      "text/plain": [
       "{'wbctype': 'jons', 'bcfile': 'jons-filelist.txt'}"
      ]
     },
     "execution_count": 14,
     "metadata": {},
     "output_type": "execute_result"
    }
   ],
   "source": [
    "# Generate the output directory\n",
    "destdir = generate_output_directory()\n",
    "\n",
    "# Input data source definition\n",
    "source = SourceTimeseriesCSV(filename=datadir / \"wave-params-20230101.csv\")\n",
    "\n",
    "# Wind object\n",
    "wb = BoundaryPointParamJons(\n",
    "    source=source,\n",
    "    hm0=\"phs1\",\n",
    "    tp=\"ptp1\",\n",
    "    mainang=\"pdp1\",\n",
    "    gammajsp=\"ppe1\",\n",
    "    dspr=\"pspr1\",\n",
    ")\n",
    "\n",
    "# Generating the forcing data\n",
    "namelist = wb.get(destdir=destdir, grid=grid, time=times)\n",
    "namelist"
   ]
  },
  {
   "cell_type": "code",
   "execution_count": 15,
   "metadata": {},
   "outputs": [
    {
     "name": "stdout",
     "output_type": "stream",
     "text": [
      "FILELIST\n",
      "3600 1 jons-20230101T000000.txt\n",
      "3600 1 jons-20230101T010000.txt\n",
      "3600 1 jons-20230101T020000.txt\n",
      "3600 1 jons-20230101T030000.txt\n",
      "3600 1 jons-20230101T040000.txt\n",
      "3600 1 jons-20230101T050000.txt\n",
      "3600 1 jons-20230101T060000.txt\n",
      "3600 1 jons-20230101T070000.txt\n",
      "3600 1 jons-20230101T080000.txt\n",
      "3600 1 jons-20230101T090000.txt\n",
      "3600 1 jons-20230101T100000.txt\n",
      "3600 1 jons-20230101T110000.txt\n",
      "\n"
     ]
    }
   ],
   "source": [
    "# Check the content of the generated boundary file\n",
    "bcfile = destdir / namelist[\"bcfile\"]\n",
    "filelist = bcfile.read_text()\n",
    "print(filelist)"
   ]
  },
  {
   "cell_type": "code",
   "execution_count": 16,
   "metadata": {},
   "outputs": [
    {
     "name": "stdout",
     "output_type": "stream",
     "text": [
      "gammajsp = 2.52055\n",
      "s = 33.9251\n",
      "mainang = 244.342\n",
      "Tp = 12.2993\n",
      "Hm0 = 1.01011\n",
      "\n"
     ]
    }
   ],
   "source": [
    "# Check the content of one of the filelist files\n",
    "jonfile = destdir / filelist.split(\"\\n\")[1].split()[-1]\n",
    "print(jonfile.read_text())"
   ]
  },
  {
   "cell_type": "markdown",
   "metadata": {},
   "source": [
    "### JONSTABLE"
   ]
  },
  {
   "cell_type": "code",
   "execution_count": 17,
   "metadata": {},
   "outputs": [],
   "source": [
    "from rompy_xbeach.boundary import BoundaryPointParamJonstable"
   ]
  },
  {
   "cell_type": "code",
   "execution_count": 18,
   "metadata": {},
   "outputs": [
    {
     "data": {
      "text/plain": [
       "{'wbctype': 'jonstable',\n",
       " 'bcfile': 'jonstable-20230101T000000-20230101T120000.txt'}"
      ]
     },
     "execution_count": 18,
     "metadata": {},
     "output_type": "execute_result"
    }
   ],
   "source": [
    "# Generate the output directory\n",
    "destdir = generate_output_directory()\n",
    "\n",
    "# Input data source definition\n",
    "source = SourceTimeseriesCSV(filename=datadir / \"wave-params-20230101.csv\")\n",
    "\n",
    "# Wind object\n",
    "wb = BoundaryPointParamJonstable(\n",
    "    source=source,\n",
    "    hm0=\"phs1\",\n",
    "    tp=\"ptp1\",\n",
    "    mainang=\"pdp1\",\n",
    "    gammajsp=\"ppe1\",\n",
    "    dspr=\"pspr1\",\n",
    ")\n",
    "\n",
    "# Generating the forcing data\n",
    "namelist = wb.get(destdir=destdir, grid=grid, time=times)\n",
    "namelist"
   ]
  },
  {
   "cell_type": "code",
   "execution_count": 19,
   "metadata": {},
   "outputs": [
    {
     "name": "stdout",
     "output_type": "stream",
     "text": [
      "1.01011 12.2993 244.342 2.52055 33.9251 3600 1\n",
      "0.968176 13.7877 247.584 3.02407 41.2201 3600 1\n",
      "0.994085 14.1542 248.386 3.02558 48.7203 3600 1\n",
      "1.07939 13.5109 246.407 2.65635 46.7938 3600 1\n",
      "1.13343 15.3336 250.89 2.79238 54.9961 3600 1\n",
      "1.36986 15.4369 251.308 2.40611 50.0111 3600 1\n",
      "1.46595 15.2322 251.179 2.30742 48.5546 3600 1\n",
      "1.55301 15.0677 251.001 2.18789 47.001 3600 1\n",
      "1.60305 14.9164 250.805 2.12522 46.4984 3600 1\n",
      "1.63845 14.77 250.583 2.06828 46.1284 3600 1\n",
      "1.66568 14.625 250.334 2.00733 45.8816 3600 1\n",
      "1.68705 14.4773 250.034 1.94841 45.9753 3600 1\n",
      "1.70383 14.321 249.769 1.89275 45.5342 3600 1\n",
      "\n"
     ]
    }
   ],
   "source": [
    "# Check the content of the generated boundary file\n",
    "bcfile = destdir / namelist[\"bcfile\"]\n",
    "print(bcfile.read_text())"
   ]
  }
 ],
 "metadata": {
  "kernelspec": {
   "display_name": "xbeach",
   "language": "python",
   "name": "python3"
  },
  "language_info": {
   "codemirror_mode": {
    "name": "ipython",
    "version": 3
   },
   "file_extension": ".py",
   "mimetype": "text/x-python",
   "name": "python",
   "nbconvert_exporter": "python",
   "pygments_lexer": "ipython3",
   "version": "3.10.12"
  }
 },
 "nbformat": 4,
 "nbformat_minor": 4
}
