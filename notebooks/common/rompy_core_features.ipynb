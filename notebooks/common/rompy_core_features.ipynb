{
 "cells": [
  {
   "cell_type": "markdown",
   "metadata": {},
   "source": [
    "# Rompy and core features\n",
    "\n",
    "Rompy is a python package for generating configuration files and forcing data for numerical wave and wave-climate models.\n"
   ]
  },
  {
   "cell_type": "markdown",
   "metadata": {
    "vscode": {
     "languageId": "plaintext"
    }
   },
   "source": [
    "# Some Components in rompy\n",
    "1. ModelRun\n",
    "- **Purpose**: Combines all components and generates a simulation workspace ready to run \n",
    "- **Key Attributes**:\n",
    "  - run_id\n",
    "  - period (TimeRange)\n",
    "  - config\n",
    "  - output_dir\n",
    "- **Methods**:\n",
    "  - `run()`: Executes the model simulation\n",
    "\n",
    "2. Grid\n",
    "- **Purpose**: Defines the spatial domain and resolution\n",
    "- **Types**:\n",
    "  - `RegularGrid`: Uniform spacing in x and y directions\n",
    "  - `UnstructuredGrid`: Non-uniform mesh (if supported)\n",
    "- **Key Attributes**: x0, y0, nx, ny, dx, dy\n",
    "\n",
    "3. TimeRange\n",
    "- **Purpose**: Specifies the temporal domain of the simulation\n",
    "- **Key Attributes**: start, end, interval\n",
    "\n",
    "4. Forcing\n",
    "- **Purpose**: Provides input data for the model\n",
    "- **Types**:\n",
    "  - e.g `SwanDataGrid`: For SWAN model inputs\n",
    "  - Other model-specific data types\n",
    "- **Components**:\n",
    "  - e.g Bathymetry\n",
    "  - e.g Wind\n",
    "  - e.g Boundary conditions\n",
    "  - Other environmental variables\n",
    "\n",
    "5. Config\n",
    "- **Purpose**: Holds model-specific configuration settings\n",
    "- **Types**:\n",
    "  - e.g `SwanConfig`: For SWAN model\n",
    "  - Other model-specific configs\n",
    "- **Key Components**:\n",
    "  - e.g Physics parameters\n",
    "  - e.g Numerical scheme settings\n",
    "  - e.g Output specifications\n",
    "\n",
    "6. Output\n",
    "- **Purpose**: Defines what data to save from the model run\n",
    "- **Components**:\n",
    "  - e.g Variables to output\n",
    "  - e.g Output locations\n",
    "  - e.g Output frequency\n"
   ]
  }
 ],
 "metadata": {
  "language_info": {
   "name": "python"
  }
 },
 "nbformat": 4,
 "nbformat_minor": 2
}
